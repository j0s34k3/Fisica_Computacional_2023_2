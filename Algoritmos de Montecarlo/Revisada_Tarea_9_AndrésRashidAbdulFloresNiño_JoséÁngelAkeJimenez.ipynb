{
 "cells": [
  {
   "cell_type": "code",
   "execution_count": null,
   "id": "fc9882f1",
   "metadata": {},
   "outputs": [],
   "source": [
    "using LaTeXStrings, Colors, LinearAlgebra, Plots, Interact, Images,SymPy\n",
    "import Plots.plot!"
   ]
  },
  {
   "cell_type": "markdown",
   "id": "2595a8b9",
   "metadata": {},
   "source": [
    "# Tarea 9: Algoritmos de Monte-Carlo\n",
    "\n",
    "\n",
    "\n",
    "**Equipo:**\n",
    "\n",
    "- \n",
    "- \n",
    "\n",
    "Esta tarea consiste de sólo 4 problemas que son una modificación no tan grande de lo que se vio en los videos. Son todos relativamente fáciles, pero requieren un tiempo no tan pequeño para hacerlos puesto que correr los programas ya no es cuestión de segundos, sino de minitos y cada prueba que se hace lleva entonces minutos, lo que típicamente implica horas de espera entre todas las pruebas. \n",
    "\n",
    "(2 puntos) Haz una función que calcule el área de una hiper-esfera de dimensión $N$ y radio $r$ usando integrales de Monte-Carlo. Para hacer esto usa ambos métodos: \n",
    "\n",
    "    (i) El método de los disparos.\n",
    "    (ii) Usando la integral de la distribución de probabilidad de una variable aleatoria. \n",
    "    (iii) Finalmente compara tu resultado con el área que debería tener como función del número de puntos de Monte-Carlo.\n"
   ]
  },
  {
   "cell_type": "markdown",
   "id": "9860ad68",
   "metadata": {},
   "source": [
    "### i"
   ]
  },
  {
   "cell_type": "code",
   "execution_count": null,
   "id": "ad4f2b36",
   "metadata": {},
   "outputs": [],
   "source": [
    "# numero de puntos dentro Zn/numero de puntos n = P = Superficie esfera-n / Superficie-cubo-n \n",
    "\n",
    "d = 9 # dimensión\n",
    "r = 2 # radio\n",
    "n = 10^6 # Numero de pruebas\n",
    "Zn = 0\n",
    "x = zeros(d)\n",
    "for i ∈ 1:n\n",
    "    for j ∈ 1:d\n",
    "        #x[j]= r*(1-rand())\n",
    "        x[j] = 2*r*rand() - r\n",
    "    end \n",
    "    Rsq = 0\n",
    "    for j ∈ 1:d\n",
    "       Rsq = Rsq + x[j]^2\n",
    "    end\n",
    "    R = sqrt(Rsq) # √(x_1^2 + x_2^2 + .... + x_9^2)\n",
    "    if R <= r \n",
    "        Zn += 1 # Si cae dentro, aumenta en uno\n",
    "    end\n",
    "end\n",
    "Volumen = (2*r)^d*Zn/n \n",
    "#Area = Volumen*d/(r^d)\n",
    "Area = Volumen*d/r\n",
    "\n",
    "println(\"el area de la hypersesfera de \", d, \"dimensiones es \", Area)"
   ]
  },
  {
   "cell_type": "markdown",
   "id": "0487f19b",
   "metadata": {},
   "source": [
    "### ii"
   ]
  },
  {
   "cell_type": "code",
   "execution_count": null,
   "id": "3ddab316",
   "metadata": {},
   "outputs": [],
   "source": [
    "∫(g,a,b, n) = (b-a) * sum(g.(a.-(a-b)*rand(n)))/n"
   ]
  },
  {
   "cell_type": "code",
   "execution_count": null,
   "id": "2e90fd02",
   "metadata": {},
   "outputs": [],
   "source": [
    "d = 3\n",
    "r = 1\n",
    "x = zeros(d)\n",
    "\n",
    "suma = sum([x[i]^2 for i in 1:d])\n",
    "\n",
    "f(suma) = sqrt(suma)"
   ]
  },
  {
   "cell_type": "code",
   "execution_count": null,
   "id": "57e06318",
   "metadata": {},
   "outputs": [],
   "source": [
    "∫(g,a,b, n) = (b-a) * sum(g.(a.-(a-b)*rand(n)))/n"
   ]
  },
  {
   "cell_type": "code",
   "execution_count": null,
   "id": "56649029",
   "metadata": {},
   "outputs": [],
   "source": [
    "@vars r ϕ θ\n",
    "h = (r^2*sin(ϕ))\n",
    "\n",
    "integrate(h, (r,0,2), (ϕ,0,π), (θ,0,2*π))"
   ]
  },
  {
   "cell_type": "markdown",
   "id": "973a3b58",
   "metadata": {},
   "source": [
    "**1.3 pts (1.3 de 10)**\n",
    "\n",
    "**Notas:** \n",
    "- Me parece que \n",
    "```julia\n",
    "Area = Volumen*d/(r^d)\n",
    "```\n",
    "debería ser\n",
    "```julia\n",
    "Area = Volumen*d/r\n",
    "```\n",
    "Les recomiendo revisar [este link](https://en.wikipedia.org/wiki/Volume_of_an_n-ball#Approximation_for_high_dimensions).\n",
    "- Sus dos incisos deberían estar dentro de una función.\n",
    "- Su segundo inciso sólo funciona para tres dimensiones. Necesitan la diferencial de volumen para coordenadas esféricas $n$-dimensionales.\n",
    "- Les faltó el tercer inciso. "
   ]
  },
  {
   "cell_type": "markdown",
   "id": "5143f869",
   "metadata": {},
   "source": [
    "(4 puntos) Da una interpreatación de caminantes aleatorios a la siguiente ecuación diferencial parcial y resuelvela (para alguna condición a la frontera que dibujes y una función $f(x,y)$ que tú desidas) usando caminantes aleatorios: \n",
    "\n",
    "$$\\nabla u = c$$ con $c$ una constante y $\\nabla$ el laplaciano. "
   ]
  },
  {
   "cell_type": "code",
   "execution_count": null,
   "id": "6a70b50d",
   "metadata": {},
   "outputs": [],
   "source": [
    "placa = load(\"placa.png\")"
   ]
  },
  {
   "cell_type": "code",
   "execution_count": null,
   "id": "f4c7eb04",
   "metadata": {},
   "outputs": [],
   "source": [
    "n,m = size(placa)\n",
    "@show n*m\n",
    "retícula = [placa[i,j] == placa[1,1] ? -1 : 0 for i in 1:n, j in 1:m]; \n",
    "heatmap(retícula)"
   ]
  },
  {
   "cell_type": "code",
   "execution_count": null,
   "id": "c01e21ef",
   "metadata": {},
   "outputs": [],
   "source": [
    "function posicion_permitida(i,j, retícula)\n",
    "    if retícula[i,j] == -1 \n",
    "        return false\n",
    "    else\n",
    "        return true\n",
    "    end\n",
    "end"
   ]
  },
  {
   "cell_type": "code",
   "execution_count": null,
   "id": "ae4c2c8d",
   "metadata": {},
   "outputs": [],
   "source": [
    "function evoluciona_caminante(i,j, retícula)\n",
    "    n = rand([1,2,3,4])\n",
    "    if n == 1 \n",
    "        return i + 1, j\n",
    "    elseif n == 2\n",
    "        return i - 1, j\n",
    "    elseif n == 3\n",
    "        return i, j + 1\n",
    "    elseif n == 4\n",
    "        return i, j - 1\n",
    "    end\n",
    "end \n",
    "\n",
    "function trayectoria_hasta_salir!(i,j, retícula)\n",
    "    test = true\n",
    "    I = [i]\n",
    "    J = [j]\n",
    "    while test\n",
    "        i,j = evoluciona_caminante(i,j, retícula)\n",
    "        push!(I, i)\n",
    "        push!(J, j)\n",
    "        test = posicion_permitida(i,j, retícula)\n",
    "    end\n",
    "    return I, J\n",
    "end "
   ]
  },
  {
   "cell_type": "code",
   "execution_count": null,
   "id": "af333e79",
   "metadata": {},
   "outputs": [],
   "source": [
    "function minimum_positivo(matriz)\n",
    "    n,m = size(matriz)\n",
    "    x = Inf\n",
    "    for i in 1:n, j in 1:m\n",
    "        if matriz[i,j]<x && matriz[i,j] >= 0\n",
    "            x = matriz[i,j]\n",
    "        end\n",
    "    end\n",
    "    if x ≠ Inf\n",
    "        return x\n",
    "    else\n",
    "        return 0\n",
    "    end \n",
    "end"
   ]
  },
  {
   "cell_type": "code",
   "execution_count": null,
   "id": "556eab8d",
   "metadata": {},
   "outputs": [],
   "source": [
    "function resuelve_Laplace(retícula, f, n, c)    \n",
    "    contador = 0\n",
    "    n1, n2 = size(retícula)\n",
    "    solución = zeros(n1,n2)\n",
    "    numero_de_caminantes = [retícula[i,j]<0 ? -1 : 0 for i in 1:n1, j in 1:n2]\n",
    "    while minimum_positivo(numero_de_caminantes)<n\n",
    "        for i in 1:n1, j in 1:n2\n",
    "            contador += 1\n",
    "            if mod(contador, 1500) == 0\n",
    "                println(\"revisando vertice ($i ,$j)\")\n",
    "                println(\"numero maximo de caminantes = $(maximum(numero_de_caminantes))\")\n",
    "                println(\"numero mínimo de caminantes = $(minimum_positivo(numero_de_caminantes))\")\n",
    "                println(\" \")\n",
    "            end\n",
    "            test = posicion_permitida(i,j, retícula)\n",
    "            if test\n",
    "                x,y = trayectoria_hasta_salir!(i,j,retícula)\n",
    "                s = f(x[end], y[end]) + (n*m*c)\n",
    "                for k in 1:length(x)-1\n",
    "                    solución[x[k],y[k]] += s\n",
    "                    numero_de_caminantes[x[k],y[k]] += 1\n",
    "                end\n",
    "            end\n",
    "        end\n",
    "    end\n",
    "    return solución, numero_de_caminantes\n",
    "end"
   ]
  },
  {
   "cell_type": "code",
   "execution_count": null,
   "id": "dd200a42",
   "metadata": {},
   "outputs": [],
   "source": [
    "function mezcla_solucion_n(s, nc)  # Esta función simplemente sirve para hacer los promedios de la solución correctamente. \n",
    "    n,m = size(s)\n",
    "    [nc[i,j] > 0 ? s[i,j]/nc[i,j] : NaN for i in 1:n, j in 1:m]\n",
    "end"
   ]
  },
  {
   "cell_type": "code",
   "execution_count": null,
   "id": "3c00ed43",
   "metadata": {
    "scrolled": true
   },
   "outputs": [],
   "source": [
    "f(y,x) = x^2+y\n",
    "@time solución, numero_de_caminantes = resuelve_Laplace(retícula, f, 10, π)"
   ]
  },
  {
   "cell_type": "code",
   "execution_count": null,
   "id": "f43df566",
   "metadata": {},
   "outputs": [],
   "source": [
    "@show maximum(numero_de_caminantes), minimum_positivo(numero_de_caminantes)\n",
    "ss = mezcla_solucion_n(solución, numero_de_caminantes);"
   ]
  },
  {
   "cell_type": "code",
   "execution_count": null,
   "id": "ec8fac98",
   "metadata": {},
   "outputs": [],
   "source": [
    "heatp = heatmap(numero_de_caminantes, aspect_ratio = :equal)\n",
    "heatT = heatmap(ss, aspect_ratio = :equal)\n",
    "plot(heatT, heatp)"
   ]
  },
  {
   "cell_type": "markdown",
   "id": "21edf0e8",
   "metadata": {},
   "source": [
    "*Ahora añadiremos la solción con una distribución más homogenea de los caminantes*"
   ]
  },
  {
   "cell_type": "code",
   "execution_count": null,
   "id": "ad3ae750",
   "metadata": {},
   "outputs": [],
   "source": [
    "function minimos_positivos(matriz)\n",
    "    y = minimum_positivo(matriz)\n",
    "    I = findall(x-> x == y, matriz);\n",
    "end\n",
    "\n",
    "function minimos_positivos(matriz, mini)\n",
    "    I = findall(x-> x == mini, matriz)  \n",
    "end"
   ]
  },
  {
   "cell_type": "code",
   "execution_count": null,
   "id": "ab9fee46",
   "metadata": {},
   "outputs": [],
   "source": [
    "function resuelve_Laplace_h(retícula, f, n, c)    \n",
    "    contador = 0\n",
    "    n1, n2 = size(retícula)\n",
    "    solución = zeros(n1,n2)\n",
    "    numero_de_caminantes = [retícula[i,j]<0 ? -1 : 0 for i in 1:n1, j in 1:n2]\n",
    "    mini = 0\n",
    "    I = minimos_positivos(numero_de_caminantes)\n",
    "    while minimum_positivo(numero_de_caminantes)<n+1\n",
    "        if mini == 0 && contador > 0\n",
    "            I = minimos_positivos(numero_de_caminantes)\n",
    "            mini = numero_de_caminantes[I[1]]\n",
    "        elseif mini>0\n",
    "            I = minimos_positivos(numero_de_caminantes, mini)\n",
    "            if length(I) == 0\n",
    "                I = minimos_positivos(numero_de_caminantes)\n",
    "            end\n",
    "            mini = numero_de_caminantes[I[1]]\n",
    "        end\n",
    "        j = rand(I)\n",
    "        contador += 1\n",
    "        if mod(contador, 5000) == 0\n",
    "            println(\"revisando vertice ($(j[1]) ,$(j[2]))\")\n",
    "            println(\"numero maximo de caminantes = $(maximum(numero_de_caminantes))\")\n",
    "            println(\"numero mínimo de caminantes = $(minimum_positivo(numero_de_caminantes))\")\n",
    "            println(\" \")\n",
    "        end\n",
    "        test = posicion_permitida(j[1],j[2], retícula)\n",
    "        if test\n",
    "            x,y = trayectoria_hasta_salir!(j[1],j[2],retícula)\n",
    "            s = f(x[end], y[end]) + (n*m*c)\n",
    "            for k in 1:length(x)-1\n",
    "                solución[x[k],y[k]] += s\n",
    "                numero_de_caminantes[x[k],y[k]] += 1\n",
    "            end\n",
    "        end\n",
    "    \n",
    "    end\n",
    "    return solución, numero_de_caminantes\n",
    "end"
   ]
  },
  {
   "cell_type": "code",
   "execution_count": null,
   "id": "f39a954e",
   "metadata": {},
   "outputs": [],
   "source": [
    "dg = load(\"placa.png\")\n",
    "n,m = size(dg)\n",
    "@show n*m\n",
    "retícula = [dg[i,j] == dg[1,end] ? -1 : 0 for i in 1:n, j in 1:m]; "
   ]
  },
  {
   "cell_type": "code",
   "execution_count": null,
   "id": "f445ba4e",
   "metadata": {},
   "outputs": [],
   "source": [
    "f(x,y)= x^2+y"
   ]
  },
  {
   "cell_type": "code",
   "execution_count": null,
   "id": "e5d76280",
   "metadata": {
    "scrolled": true
   },
   "outputs": [],
   "source": [
    "@time solución, numero_de_caminantes = resuelve_Laplace_h(retícula, f, 1000, π)"
   ]
  },
  {
   "cell_type": "code",
   "execution_count": null,
   "id": "07c79368",
   "metadata": {},
   "outputs": [],
   "source": [
    "sum(numero_de_caminantes)/631"
   ]
  },
  {
   "cell_type": "code",
   "execution_count": null,
   "id": "f075ae39",
   "metadata": {},
   "outputs": [],
   "source": [
    "s_dg = mezcla_solucion_n(solución, numero_de_caminantes);\n",
    "n,m = size(s_dg)\n",
    "s_dgf = [s_dg[i,j] == 0 ? f(i,j) : s_dg[i,j] for i in 1:n, j in 1:m]"
   ]
  },
  {
   "cell_type": "code",
   "execution_count": null,
   "id": "a883361c",
   "metadata": {},
   "outputs": [],
   "source": [
    "heat_pdg = heatmap(numero_de_caminantes, aspect_ratio = :equal)\n",
    "heat_Tdg = heatmap(s_dgf, aspect_ratio = :equal)\n",
    "plot(heat_pdg, heat_Tdg)"
   ]
  },
  {
   "cell_type": "markdown",
   "id": "316ab7ec",
   "metadata": {},
   "source": [
    "*El colocar una condición de frontera a una región nos aseguea que una caminata aleatoria termine en algun punto de la frontera $(x',y')$, con*\n",
    "\n",
    "$$u(x',y') = f(x',y')$$\n",
    "\n",
    "*Uno puede estimar el valor de $u(x,y)$, realizando muchas caminatas aleatorias -las cuales comienzan en el punto $(x,y)$- como el promedio sobre las N caminatas,así,*\n",
    "\n",
    "$$u(x,y) \\sim \\frac{1}{N} \\sum f(x'_{i},y'_{i})$$"
   ]
  },
  {
   "cell_type": "markdown",
   "id": "c734b4c3",
   "metadata": {},
   "source": [
    "**3.5 pts (4.8 de 10)**\n",
    "\n",
    "**Notas:** \n",
    "- Están en lo correcto en el sentido de que el único cambio que había que hacer al notebook del profesor era\n",
    "```julia\n",
    "s = f(x[end], y[end]) + (n*m*c)\n",
    "```\n",
    "Sin embargo, su término extra es incorrecto. Si hacen el desarrollo de diferencias finitas, su término extra debería ser proporcional a $-c/4$. \n",
    "- La imagen que me mandaron no es óptima para este problema, lo ideal es que su imagen sólo tenga dos colores y la que me mandaron no cumple con eso. "
   ]
  },
  {
   "cell_type": "markdown",
   "id": "fcb28be3",
   "metadata": {},
   "source": [
    "(3 puntos) Simula un sistema de 50 discos suaves en una caja (de lado $1$). Para esto considera un potencial de interacción $U(r_{i,j})$ que depende de $r_{i,j}$, la distancia entre el disco $i$ y el disco $j$ ($i \\ne j$) igual al potencial de Lennard Jones  ($U(r_{i,j}) = \\left(\\frac{\\sigma}{r_{i,j}}\\right)^{12} - \\left(\\frac{\\sigma}{r_{i,j}}\\right)^6$, donde $\\sigma$ es el diametro de los discos) si $r_{i,j} \\le \\sigma$ y $U(r_{i,j}) = 0$ cuando $r_{i,j} > \\sigma$.\n",
    "\n",
    "Tu simulación hazla similar a lo que se hizo en los videos. Comienza con discos de radio $0$ y crece el tamaño de esos discos hasta que se llegue a una fracción de empaquetamiento alta. Nota que esta vez la simulación sí depende de la temperatura (prueba con unas 3 o 4 temperaturas diferentes). \n",
    "\n",
    "Nota: La fracción de empaquetamiento es la suma del área de todos los discos dividido entre el área de la caja. "
   ]
  },
  {
   "cell_type": "code",
   "execution_count": null,
   "id": "907464cd",
   "metadata": {},
   "outputs": [],
   "source": [
    "mutable struct Disco #Creamos el objeto 'disco'\n",
    "    radio::Real\n",
    "    posicion::Vector\n",
    "    color\n",
    "end"
   ]
  },
  {
   "cell_type": "code",
   "execution_count": null,
   "id": "143ce6eb",
   "metadata": {},
   "outputs": [],
   "source": [
    "#Creamos un metodo para graficar un disco\n",
    "function plot!(disco::Disco)\n",
    "    θ = 0:0.05:(2π+0.05)\n",
    "    x = disco.radio*(cos.(θ)).+disco.posicion[1]\n",
    "    y = disco.radio*(sin.(θ)).+disco.posicion[2]\n",
    "    plot!(x,y,fill=true,color = disco.color)\n",
    "end"
   ]
  },
  {
   "cell_type": "code",
   "execution_count": null,
   "id": "13cc2ffd",
   "metadata": {},
   "outputs": [],
   "source": [
    "function overlap(discos) #Funcion para ver si se solapan discos\n",
    "    n = length(discos)\n",
    "    for i in 1:n-1\n",
    "        for j in i+1:n\n",
    "            if norm(discos[i].posicion - discos[j].posicion) < discos[i].radio+discos[j].radio\n",
    "                return true\n",
    "            end\n",
    "        end\n",
    "    end\n",
    "    \n",
    "    for i in 1:n\n",
    "        if discos[1].posicion[1] < discos[i].radio || discos[i].posicion[1] > 15-discos[i].radio || discos[i].posicion[2] < discos[i].radio || discos[1].posicion[2] > 16-discos[i].radio\n",
    "            return true\n",
    "        end\n",
    "    end\n",
    "    return false\n",
    "    \n",
    "end\n",
    "\n",
    "function overlap(discos,i) #Funcion para ver si se solapa un disco con sus vecinos\n",
    "    disco = discos[i]\n",
    "    n = length(discos)\n",
    "    if disco.posicion[1]<disco.radio || disco.posicion[1] > 15-disco.radio || disco.posicion[2] < disco.radio || disco.posicion[2] > 15-disco.radio\n",
    "        return true\n",
    "    end\n",
    "    \n",
    "    for j in (1:(i-1))∪((i+1):length(discos))\n",
    "        if norm(discos[j].posicion-disco.posicion) < discos[j].radio + disco.radio\n",
    "            return true\n",
    "        end\n",
    "    end\n",
    "    return false\n",
    "end"
   ]
  },
  {
   "cell_type": "code",
   "execution_count": null,
   "id": "5ee31731",
   "metadata": {},
   "outputs": [],
   "source": [
    "discos = []\n",
    "for i in 1:50\n",
    "    d = Disco(0., rand(0:0.01:1,2), RGB(0.8,0.5,0.2))\n",
    "        push!(discos,d)\n",
    "end\n",
    "length(discos)"
   ]
  },
  {
   "cell_type": "code",
   "execution_count": null,
   "id": "c5382f0b",
   "metadata": {},
   "outputs": [],
   "source": [
    "function PLJ(x1,x2,σ) #Funcion para el potencial de Lennard-Jones\n",
    "    if norm(x2-x1) > σ || norm(x2-x1) == 0\n",
    "        return 0.0\n",
    "    else \n",
    "        return (σ/norm(x2-x1))^12 -(σ/norm(x2-x1) )^6\n",
    "    end  \n",
    "end"
   ]
  },
  {
   "cell_type": "code",
   "execution_count": null,
   "id": "824ba3b4",
   "metadata": {},
   "outputs": [],
   "source": [
    "function Distribucion_Boltzmann(Δ𝐻, 𝑇) #Función para la distribución de Boltzmann\n",
    "    if Δ𝐻 == 0\n",
    "        return 1\n",
    "    else\n",
    "        return min(1,exp(-Δ𝐻/𝑇))\n",
    "    end\n",
    "end"
   ]
  },
  {
   "cell_type": "code",
   "execution_count": null,
   "id": "9552522e",
   "metadata": {},
   "outputs": [],
   "source": [
    "function simulacion_LJ!(discos, T, pasos = length(discos)*100, δ=0.05)\n",
    "    \n",
    "    nd = length(discos) #No de discos\n",
    "    \n",
    "    #Copia de los discos que usaremos para el algoritmo\n",
    "    discos2=deepcopy(discos)\n",
    "    D = [discos2]\n",
    "    for i in 1:pasos\n",
    "        \n",
    "        if mod(i,5000) == 0\n",
    "            println(i*100/pasos, \"%\")\n",
    "        end\n",
    "        \n",
    "        discos2 = deepcopy(discos)\n",
    "        #Tomamos dos discos aleatorios y obtenemos el potencial de Lennard-Jones asociado\n",
    "        j = rand(1:nd)\n",
    "        l = rand(1:nd)\n",
    "        σ = 2*discos2[j].radio #Diametro de un disco\n",
    "        ΔH = PLJ(discos2[j].posicion, discos2[l].posicion,σ) #Calculo de la energía potencial\n",
    "        \n",
    "        test = rand(0:0.01:1) #Generamos un numero aleatorio y lo comparamos con la distribución de Boltzmann asociado a la energía\n",
    "        if test < Distribucion_Boltzmann(ΔH,T) \n",
    "            for k in 1:nd\n",
    "                discos2[k].radio += 0.01\n",
    "            end\n",
    "            \n",
    "            if overlap(discos2) #Si los discos se solapan entonces omitmos \n",
    "                \n",
    "            else\n",
    "                discos = deepcopy(discos2)\n",
    "                push!(D, deepcopy(discos2) )\n",
    "            end\n",
    "            continue\n",
    "        end\n",
    "        #Modificamos de manera aleatoria algún disco\n",
    "        θ = rand()*2*π\n",
    "        x = δ*[cos(θ), sin(θ)]\n",
    "        discos2[j].posicion .+= x\n",
    "        \n",
    "        #Vemos si existe algún solape entre el disco modificado y alrededores\n",
    "        if overlap(discos2,j)\n",
    "            continue\n",
    "        else\n",
    "            discos[j] = deepcopy(discos2[j])\n",
    "            push!(D, deepcopy(discos) )\n",
    "        end\n",
    "    end\n",
    "    return D\n",
    "end"
   ]
  },
  {
   "cell_type": "code",
   "execution_count": null,
   "id": "04b0c4fa",
   "metadata": {
    "scrolled": true
   },
   "outputs": [],
   "source": [
    "discos = []\n",
    "for i in 1:50\n",
    "    d = Disco(0., rand(0:0.1:1, 2), RGB(0.1, 0.8,0.4) )\n",
    "    push!(discos, d)\n",
    "end\n",
    "\n",
    "length(discos)\n",
    "\n",
    "#Caso 1: T=1\n",
    "@time D = simulacion_LJ!(discos, 1, 2500000);\n",
    "discos = deepcopy(D[end]);"
   ]
  },
  {
   "cell_type": "code",
   "execution_count": null,
   "id": "7ea66b5c",
   "metadata": {},
   "outputs": [],
   "source": [
    "using Plots\n",
    "discos_suaves_1 = @animate for i in 1:100:length(D)\n",
    "    plot(aspect_ratio = :equal, key = false, xlim = (0.0,1.0 ), ylim = (0.0,1.0) )\n",
    "    plot!([0,1,1,0,0], [0,0,1,1,0], color = RGB(0.1, 0.5, 0.7) )\n",
    "    for j in 1:length(D[1])\n",
    "        plot!(D[i][j])\n",
    "    end\n",
    "    plot!(show = :ijulia, title = \"ϕ = $(round(100*π*D[i][1].radio^2/15^2 , digits = 3) )\")\n",
    "end"
   ]
  },
  {
   "cell_type": "code",
   "execution_count": null,
   "id": "4e683691",
   "metadata": {},
   "outputs": [],
   "source": [
    "gif(discos_suaves_1, \"Discos_duros.gif\", fps = 24)"
   ]
  },
  {
   "cell_type": "code",
   "execution_count": null,
   "id": "09066f3e",
   "metadata": {
    "scrolled": true
   },
   "outputs": [],
   "source": [
    "discos = []\n",
    "for i in 1:50\n",
    "    d = Disco(0., rand(0:0.1:1, 2), RGB(0.1, 0.8,0.4) )\n",
    "    push!(discos, d)\n",
    "end\n",
    "\n",
    "length(discos)\n",
    "\n",
    "#Caso 2: T=100\n",
    "@time D = simulacion_LJ!(discos, 100, 2500000);\n",
    "discos = deepcopy(D[end]);"
   ]
  },
  {
   "cell_type": "code",
   "execution_count": null,
   "id": "0656fcd6",
   "metadata": {},
   "outputs": [],
   "source": [
    "discos_suaves_2 = @animate for i in 1:100:length(D)\n",
    "    plot(aspect_ratio = :equal, key = false, xlim = (0.0,1.0 ), ylim = (0.0,1.0) )\n",
    "    plot!([0,1,1,0,0], [0,0,1,1,0], color = RGB(0.1, 0.5, 0.7) )\n",
    "    for j in 1:length(D[1])\n",
    "        plot!(D[i][j])\n",
    "    end\n",
    "    plot!(show = :ijulia, title = \"ϕ = $(round(100*π*D[i][1].radio^2/15^2 , digits = 3) )\")\n",
    "end"
   ]
  },
  {
   "cell_type": "code",
   "execution_count": null,
   "id": "3fb6ae48",
   "metadata": {},
   "outputs": [],
   "source": [
    "gif(discos_suaves_2, \"Discos_duros.gif\", fps = 24)"
   ]
  },
  {
   "cell_type": "code",
   "execution_count": null,
   "id": "50b16bb4",
   "metadata": {
    "scrolled": true
   },
   "outputs": [],
   "source": [
    "discos = []\n",
    "for i in 1:50\n",
    "    d = Disco(0., rand(0:0.1:1, 2), RGB(0.1, 0.8,0.4) )\n",
    "    push!(discos, d)\n",
    "end\n",
    "\n",
    "length(discos)\n",
    "\n",
    "#Caso 3: T=25\n",
    "@time D = simulacion_LJ!(discos, 25, 2500000);\n",
    "discos = deepcopy(D[end]);"
   ]
  },
  {
   "cell_type": "code",
   "execution_count": null,
   "id": "4e10fc88",
   "metadata": {},
   "outputs": [],
   "source": [
    "discos_suaves_3 = @animate for i in 1:100:length(D)\n",
    "    plot(aspect_ratio = :equal, key = false, xlim = (0.0,1.0 ), ylim = (0.0,1.0) )\n",
    "    plot!([0,1,1,0,0], [0,0,1,1,0], color = RGB(0.6, 0.1, 0.1) )\n",
    "    for j in 1:length(D[1])\n",
    "        plot!(D[i][j])\n",
    "    end\n",
    "    plot!(show = :ijulia, title = \"ϕ = $(round(100*π*D[i][1].radio^2/15^2 , digits = 3) )\")\n",
    "end"
   ]
  },
  {
   "cell_type": "code",
   "execution_count": null,
   "id": "aae6d6e4",
   "metadata": {},
   "outputs": [],
   "source": [
    "gif(discos_suaves_3, \"Discos_duros.gif\", fps = 24)"
   ]
  },
  {
   "cell_type": "code",
   "execution_count": null,
   "id": "e70db4af",
   "metadata": {},
   "outputs": [],
   "source": []
  },
  {
   "cell_type": "markdown",
   "id": "2a377624",
   "metadata": {},
   "source": [
    "**2.5 pts (7.3 de 10)**\n",
    "\n",
    "**Notas:**\n",
    "- Su función `overlap` es inconsistente, pues considera una caja de lados `15×16`, pero quieren simular una caja de lados `1×1`. \n",
    "- En realidad están simulando discos duros, el error está en los if\n",
    "```julia\n",
    "if overlap(discos2,j)\n",
    "    continue\n",
    "else\n",
    "    discos[j] = deepcopy(discos2[j])\n",
    "    push!(D, deepcopy(discos) )\n",
    "end\n",
    "```\n",
    "Para discos suaves, hay una probabilidad distinta de cero de que el sistema avance de estado aún si hay `overlap`."
   ]
  },
  {
   "cell_type": "markdown",
   "id": "d27970e7",
   "metadata": {},
   "source": [
    "(3 puntos) Simula el modelo de Ising para una red hexagonal, es decir, cada vértice tiene 3 vecinos (y si dibujas la red, verás hexágonos). Para esto necesitas hacer 2 cambios importantes a lo visto en los videos: \n",
    "    \n",
    "    (i) Modificar la función que produce los vecinos. \n",
    "    (ii) Modificar la función que grafica para que cada nodo lo ponga como un hexágono de un color si el espín apunta hacia arriba y de otro si apunta hacia abajo. \n",
    "    \n",
    "    Revisa en particular los caso $J = -1/2$ y $J = 1/2$ y de este último obtén (haciendo un promedio de 5 casos nada más) la magnetización como función de la temperatura. "
   ]
  },
  {
   "cell_type": "code",
   "execution_count": null,
   "id": "0e537c8f",
   "metadata": {},
   "outputs": [],
   "source": [
    "function jj(i, n, m)\n",
    "    ((i-1)÷n) % m\n",
    "end\n",
    "    \n",
    "function vecinos(n, m)\n",
    "    vec = []\n",
    "    for i in 1:n*m\n",
    "        j = jj(i, n, m)\n",
    "        k = mod1(j*n, 4)\n",
    "        l = mod1((j+1)*n, 4)\n",
    "        if k == 1\n",
    "            if mod1(i, 2) == 0\n",
    "                push!(vec, [i,i,i])\n",
    "            else\n",
    "                push!(vec, [mod1(i-1, n)+l, mod1(i+1, n)+l, mod1(i, n)+(k-1)*n])\n",
    "            end\n",
    "        elseif k == 2\n",
    "            if mod1(i, 2) == 1\n",
    "                push!(vec, [i,i,i])\n",
    "            else\n",
    "                push!(vec, [mod1(i-1, n)+(k-1)*n, mod1(i+1, n)+(k-1)*n, mod1(i, n)+l])\n",
    "            end\n",
    "        elseif k == 3\n",
    "            if mod1(i, 2) == 1\n",
    "                push!(vec, [i,i,i])\n",
    "            else\n",
    "                push!(vec, [mod1(i-1, n)+l, mod1(i+1, n)+l, mod1(i, n)+(k-1)*n])\n",
    "            end\n",
    "        else\n",
    "            if mod1(i, 2) == 0\n",
    "                push!(vec, [i,i,i])\n",
    "            else\n",
    "                push!(vec, [mod1(i-1, n)+(k-1)*n, mod1(i+1, n)+(k-1)*n, mod1(i, n)+l])\n",
    "            end\n",
    "        end\n",
    "    end\n",
    "    return vec\n",
    "end"
   ]
  },
  {
   "cell_type": "code",
   "execution_count": null,
   "id": "b92fc4a7",
   "metadata": {},
   "outputs": [],
   "source": [
    "function suma(σ, vecinos1) \n",
    "    s = 0\n",
    "    for i in 1:length(σ)\n",
    "        s += sum(σ[vecinos1[i]])*σ[i]\n",
    "    end\n",
    "    return s\n",
    "end\n",
    "H(σ, vecinos1; h = 0, J = 1) = -h*sum(σ) - J*suma(σ, vecinos1) "
   ]
  },
  {
   "cell_type": "code",
   "execution_count": null,
   "id": "96c1ff7d",
   "metadata": {},
   "outputs": [],
   "source": [
    "function ΔH(σ, i, vecinos1; h = 0, J = -1)\n",
    "    s = 2h*σ[i] \n",
    "    s += 4J*σ[i]*sum(σ[vecinos1[i]])\n",
    "    return s\n",
    "end"
   ]
  },
  {
   "cell_type": "code",
   "execution_count": null,
   "id": "7b6e2d7d",
   "metadata": {},
   "outputs": [],
   "source": [
    "function Boltzmann(Δ𝐻, 𝑘𝑇) \n",
    "    if Δ𝐻 == 0\n",
    "        return 1\n",
    "    else\n",
    "        return min(1,exp(-Δ𝐻/𝑘𝑇))\n",
    "    end\n",
    "end\n",
    "function Metropolis_ising!(σ, vecinos1, n, m, H1; n_pasos = 1, kT = 1, kargs...)\n",
    "    l = length(σ)\n",
    "    centro_material = [i*n+1+j for i in 1:m-2, j in 1:n-2]\n",
    "    mag = 0\n",
    "    for i in 1:n_pasos\n",
    "        j = rand(centro_material)\n",
    "        ΔH1 = ΔH(σ, j, vecinos1; kargs...)\n",
    "        p = Boltzmann(ΔH1, kT)\n",
    "        x = rand()\n",
    "        if x<p\n",
    "            σ[j] *= -1\n",
    "        end\n",
    "        if i > n_pasos-1000\n",
    "            mag += sum(σ)/l\n",
    "        end\n",
    "        H1 += ΔH1\n",
    "    end\n",
    "    return σ, H1, mag/1000\n",
    "end"
   ]
  },
  {
   "cell_type": "code",
   "execution_count": null,
   "id": "ce13c313",
   "metadata": {},
   "outputs": [],
   "source": [
    "function plot_sigma(σ, n, m, color = RGB(1,1,1))\n",
    "    \n",
    "     heatmap(reshape(σ, m,n), color = [RGB(0,0,0),RGB(1,0,0), color], aspect_ratio = 1, cbar = false, grid = true, axis = false, ticks = false)\n",
    "end\n",
    "plot_sigma(σ, n, m, color = RGB(1,1,1)) = heatmap(reshape(σ, m,n), color = [RGB(0,0,0), color], aspect_ratio = 1, cbar = false, grid = false, axis = false, ticks = false)"
   ]
  },
  {
   "cell_type": "code",
   "execution_count": null,
   "id": "a7f50d06",
   "metadata": {},
   "outputs": [],
   "source": [
    "function plot_final(σ, n, time, magnetización, color, t)\n",
    "    plot_sigma(σ, n, n, color)\n",
    "    plot1 = plot!(title = \"$(time[end])\")\n",
    "    plot2 = plot(time, abs.(magnetización), key = false, xlim = (0,t), ylim = (0,1), \n",
    "                 title = \"magnetización = $(round(magnetización[end], digits = 3))\")\n",
    "    plot(plot1, plot2)\n",
    "end\n",
    "\n",
    "function animacion_interactiva(L, kT, J, h, t, color)\n",
    "    vecinosnm = vecinos(L, L)\n",
    "    σ = rand([-1, 1], L^2)\n",
    "    σ[1:L] .= ones(L)\n",
    "    σ[1:L:(L-1)*L+1] .= ones(L)\n",
    "    σ[L:L:L^2] .= ones(L)\n",
    "    σ[L*(L-1)+1:L^2] .= ones(L)\n",
    "    H1 = H(σ, vecinosnm)\n",
    "    magnetización = []\n",
    "    \n",
    "    @gif for i in 1:t\n",
    "        time = 1:i\n",
    "        σ, H1, mag = Metropolis_ising!(σ, vecinosnm, L, L, H1, n_pasos = 10L^2, kT = kT, h = h, J = J)\n",
    "        push!(magnetización, mag)\n",
    "        plot_final(σ, L, time, magnetización, color, t)\n",
    "    end\n",
    "end\n",
    "\n",
    "function np(n, m)\n",
    "    return n\n",
    "end"
   ]
  },
  {
   "cell_type": "code",
   "execution_count": null,
   "id": "d15022d2",
   "metadata": {},
   "outputs": [],
   "source": [
    "boton_L = textbox(value = \"5\")\n",
    "barra_h = slider(0:0.01:2, label = \"h\", value = 0)\n",
    "barra_kT = slider(0:0.01:8, label = \"kT\", value = 0)\n",
    "barra_t = textbox(value = \"1\")\n",
    "barra_J = slider(-1:0.02:1, label = \"J\", value = 0.5)\n",
    "boton_r = button(\"reset\")\n",
    "colores = colorpicker(value = RGB(0.3, 0.7, 0.9))\n",
    "botones = OrderedDict(:boton_L => boton_L, :barra_h => barra_h, :barra_kT => barra_kT, :boton_r => boton_r, \n",
    "                      :barra_J => barra_J, :barra_t => barra_t, :colores => colores)\n",
    "w = Interact.Widget{:mi_widget}(botones)\n",
    "\n",
    "layout = vbox(\n",
    "    hbox(\n",
    "        vbox(\n",
    "            hbox(latex(\"L = \"), boton_L),\n",
    "            boton_r,\n",
    "            colores\n",
    "        ),\n",
    "        vbox(\n",
    "            barra_h,\n",
    "            barra_kT,\n",
    "            barra_J\n",
    "        )\n",
    "    ),\n",
    "    vbox(\n",
    "        hbox(\n",
    "            \"tiempo de animación = \",\n",
    "            barra_t\n",
    "        )\n",
    "    )\n",
    ")\n",
    "@layout! w layout"
   ]
  },
  {
   "cell_type": "code",
   "execution_count": null,
   "id": "cde2a430",
   "metadata": {},
   "outputs": [],
   "source": [
    "gr()\n",
    "animacion = map(animacion_interactiva, \n",
    "    map(np, map(x-> parse(Int, x), botones[:boton_L]), botones[:boton_r]), \n",
    "    botones[:barra_kT], \n",
    "    botones[:barra_J],\n",
    "    botones[:barra_h],\n",
    "    map(x-> parse(Int, x), botones[:barra_t]),\n",
    "    botones[:colores]);"
   ]
  },
  {
   "cell_type": "code",
   "execution_count": null,
   "id": "6601a912",
   "metadata": {},
   "outputs": [],
   "source": [
    "hbox(animacion, w)"
   ]
  },
  {
   "cell_type": "code",
   "execution_count": null,
   "id": "45e38d66",
   "metadata": {},
   "outputs": [],
   "source": [
    "MAG = []"
   ]
  },
  {
   "cell_type": "code",
   "execution_count": null,
   "id": "4545cd7d",
   "metadata": {},
   "outputs": [],
   "source": [
    "m,n = 100,100\n",
    "for caso in 1:5 #Modificamos el caso \n",
    "    if mod(caso, 3) == 0\n",
    "        @show caso\n",
    "    end\n",
    "    vecinosnm = vecinos(n,m)\n",
    "    σ = rand([-1,1], n*m)\n",
    "    σ = rand([-1,1], n*m)\n",
    "    σ[1:n] = ones(n)\n",
    "    σ[1:n:(n-1)*m+1] = ones(m)\n",
    "    σ[n:n:n*m] = ones(m)\n",
    "    σ[n*(m-1)+1:n*m] = ones(n)\n",
    "    H1 = H(σ, vecinosnm)\n",
    "    kTf = 6\n",
    "    Metropolis_ising!(σ, vecinosnm, n,m, H1, n_pasos = 1500*n*m, kT = 0, h = 0.0, J = 1/2)\n",
    "    magnetización = []\n",
    "    for kT in 0:0.01:kTf\n",
    "        σ, H1, mag = Metropolis_ising!(σ, vecinosnm, n,m, H1, n_pasos = 200*n*m, kT = kT, h = 0.0, J = 1/2)\n",
    "        push!(magnetización, mag)   \n",
    "    end\n",
    "    push!(MAG, magnetización)\n",
    "end"
   ]
  },
  {
   "cell_type": "code",
   "execution_count": null,
   "id": "74856317",
   "metadata": {},
   "outputs": [],
   "source": [
    "mp = [sum([MAG[j][i] for j in 1:length(MAG)]) for i in 1:length(MAG[1])]"
   ]
  },
  {
   "cell_type": "code",
   "execution_count": null,
   "id": "9f1be56a",
   "metadata": {},
   "outputs": [],
   "source": [
    "x = 0:0.01:6\n",
    "default(fontfamily = \"sans-serif\")\n",
    "theme(:dark)\n",
    "\n",
    "plot(x, mp./30, color = :red, label = false, xlabel = \"kT\", ylabel = \"m\", title = \"kT vs m\")"
   ]
  },
  {
   "cell_type": "markdown",
   "id": "e6c9733e",
   "metadata": {},
   "source": [
    "**2 pts (9.3 de 10)**\n",
    "\n",
    "**Nota:** Revisen su función `vecinos`, ya que no devuelve una malla hexagonal. Para comprobarlo, hagan a mano un caso sencillo (e.g. $L = 5$) y contrástenlo con los resultados de su función. "
   ]
  },
  {
   "cell_type": "code",
   "execution_count": null,
   "id": "495bca4a",
   "metadata": {},
   "outputs": [],
   "source": []
  }
 ],
 "metadata": {
  "@webio": {
   "lastCommId": "1a54d35d992f48be827ce96a1c74a056",
   "lastKernelId": "e3b52ac2-9944-4673-9eae-82315b6e5491"
  },
  "kernelspec": {
   "display_name": "Julia 1.9.0",
   "language": "julia",
   "name": "julia-1.9"
  },
  "language_info": {
   "file_extension": ".jl",
   "mimetype": "application/julia",
   "name": "julia",
   "version": "1.9.0"
  }
 },
 "nbformat": 4,
 "nbformat_minor": 5
}
