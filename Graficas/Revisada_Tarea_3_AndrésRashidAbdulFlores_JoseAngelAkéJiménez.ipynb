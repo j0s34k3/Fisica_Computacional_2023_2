{
 "cells": [
  {
   "cell_type": "markdown",
   "id": "e0eadf0e",
   "metadata": {},
   "source": [
    "# Tarea 3: Gráficas e Imágenes\n",
    "\n",
    "**Esta tarea se entrega a más tardar el miércoles 1 de marzo a las 6pm!**\n",
    "\n",
    "Equipo:\n",
    "\n",
    "- Andrés Rashid Abdul Flores Niño\n",
    "- José Ángel Ake Jimenez\n",
    "\n",
    "## Problemas Básicos\n",
    "\n",
    "En esta tarea incluirás algunas de las cosas de la tarea pasada. Para esto haz un archivo que se llame \"ObjetosYFunciones_NombreDeCadaUnoEnElEquipo.jl\" (poniendo el nombre de cada uno del equipo) y que incluya los objetos y funciones de la tarea pasada que ocuparás. Por ejemplo, los objetos Segmento, Polígono, etc, las funciones para generarlos, etc... El archivo lo puedes hacer en un notebook y después descargarlo como .jl, pero también lo puedes hacer con cualquier editor de texto básico (como nel block de notas) y guardarlo como un archivo .jl. \n",
    "\n",
    "Para cargar el archivo .jl, necesitas poner la siguiente función"
   ]
  },
  {
   "cell_type": "code",
   "execution_count": null,
   "id": "af25e03e",
   "metadata": {},
   "outputs": [],
   "source": [
    "#Cargamos las paqueterías a usar\n",
    "using Images, ImageView, ImageIO, Colors, Plots, LaTeXStrings, Statistics, StatsBase, LinearAlgebra"
   ]
  },
  {
   "cell_type": "code",
   "execution_count": null,
   "id": "51295ff9",
   "metadata": {},
   "outputs": [],
   "source": [
    "include(\"funciones.jl\")"
   ]
  },
  {
   "cell_type": "markdown",
   "id": "483a789d",
   "metadata": {},
   "source": [
    "**Notas:** \n",
    "- Les recomiendo que antes de entregar la tarea eliminen todas las líneas de código donde instalan paqueterías, e.g., `Pkg.add(\"PyPlot\")`.\n",
    "- Sus objetos `Segmento`, `LineaPoligonal`, etc. deberían ir en su archivo externo `funciones.jl`. "
   ]
  },
  {
   "cell_type": "markdown",
   "id": "d719466e",
   "metadata": {},
   "source": [
    "En caso de que tu archivo esté en otra carpeta necesitas poner toda la dirección, aunque lo recomendable es que esté en la misma carpeta. "
   ]
  },
  {
   "cell_type": "markdown",
   "id": "952a782f",
   "metadata": {},
   "source": [
    "[1] Importa Plots.plot y Plots.plot! para poder agregar un método para graficar tus objetos Segmento, LineaPoligonal, Poligono y SuperficiePoligonal. En el caso de plot(O::Objeto), debe de borrar lo que se haya graficado antes y generar la nueva gráfica del objeto. En el caso de plot!(O::Objeto), debe de graficar el objeto sobre lo que se haya graficado anteriormente. Prueba que tus métodos para sumar segmentos, lineas poligonales, etc, hacen lo que deberían. \n",
    "\n",
    "En el video no lo aclaré, pero pueden usar \"...\" para los kargs. Por ejemplo:     "
   ]
  },
  {
   "cell_type": "raw",
   "id": "54d6c687",
   "metadata": {},
   "source": [
    "function plot(O::Objeto; kargs...)\n",
    "    x = fx(O) # genera un arreglo de n números reales usando el objeto.\n",
    "    y = fy(O) # genera otro arreglo de n números reales usando el objeto.\n",
    "    plot(x, y; kargs...)\n",
    "end"
   ]
  },
  {
   "cell_type": "markdown",
   "id": "85efffb0",
   "metadata": {},
   "source": [
    "En este caso, yo podré hacer plot(O, color = :red) y automáticamente reconocerá el color :red como una opción, o puedo hacer plot(O, alpha = 0.5) y me lo pondrá con transparencia 0.5. "
   ]
  },
  {
   "cell_type": "code",
   "execution_count": null,
   "id": "e2876841",
   "metadata": {},
   "outputs": [],
   "source": [
    "import Plots: plot, plot!\n",
    "\n",
    "function plot(s::Segmento; kargs...)\n",
    "    plot([s.inicio[1],s.fin[1]],[s.inicio[2],s.fin[2]], label = \"\"; kargs...)\n",
    "end\n",
    "                                \n",
    "function plot!(s::Segmento; kargs...)\n",
    "    plot!([s.inicio[1],s.fin[1]],[s.inicio[2],s.fin[2]],label=\"\"; kargs...)\n",
    "end\n",
    "                                    \n",
    "function plot!(lp::LineaPoligonal; kargs...)\n",
    "    for l in lp.lista_segmentos\n",
    "        plot!(l; kargs...)\n",
    "    end \n",
    "    return plot!()\n",
    "end\n",
    "\n",
    "function plot!(p::Poligono; kargs...)\n",
    "    for l ∈ p.ls\n",
    "        plot!(l; kargs...)\n",
    "    end\n",
    "    return plot!()\n",
    "end\n",
    "\n",
    "function plot!(sp::SuperficiePoligonal; kargs...)\n",
    "    for l ∈ sp.lista_poligonos\n",
    "        plot!(l; kargs...)\n",
    "    end\n",
    "    return plot!()\n",
    "end"
   ]
  },
  {
   "cell_type": "code",
   "execution_count": null,
   "id": "05a14f79",
   "metadata": {},
   "outputs": [],
   "source": [
    "p1 = Poligono([[0, 0], [2, 1], [1, 1], [0, 3]])\n",
    "p2 = Poligono([[1, 1], [0, 3], [2, 4], [1.5, 2], [2, 1]])\n",
    "s = SuperficiePoligonal([p1, p2], 0.)\n",
    "plot()\n",
    "plot!(s)"
   ]
  },
  {
   "cell_type": "markdown",
   "id": "33ba9a9e",
   "metadata": {},
   "source": [
    "**3/5 pts (3/5 de 10)**\n",
    "\n",
    "**Nota:** \n",
    "- Bien!\n",
    "- Les faltó la línea `import Plots: plot, plot!` que es muy importante. \n",
    "- Les recomiendo que grafiquen todos los segmentos de un mismo objeto del mismo color. "
   ]
  },
  {
   "cell_type": "markdown",
   "id": "28a37fde",
   "metadata": {},
   "source": [
    "[2] Haz una función que dada un ángulo y rapidez inicial de una partícula, su posición inicial y una línea poligonal, genere una gráfica de la trayectoria parabólica (la constante de gravedad pre-fijada en $g = 9.81$) hasta que esta intersecte la línea poligonal y la línea poligonal. Si no se intersecta la linea poligonal en ningún momento debe arrojar un error. "
   ]
  },
  {
   "cell_type": "code",
   "execution_count": null,
   "id": "c1c942e0",
   "metadata": {},
   "outputs": [],
   "source": [
    "mutable struct Parabola\n",
    "    xᵢ::Vector\n",
    "    θ::Number\n",
    "    vᵢ::Number\n",
    "end\n",
    "\n",
    "function parabola(p::Parabola,t; g = 9.81)\n",
    "    xᵢ,θ,vᵢ= p.xᵢ,p.θ,p.vᵢ\n",
    "     v = vᵢ*[cos(θ), sin(θ)]\n",
    "    y = xᵢ[2] + vᵢ[2]*t - 1/2 * g * t^2\n",
    "    x = xᵢ[1] + vᵢ[1]*t\n",
    "    return [x,y]\n",
    "end\n",
    "\n",
    "function intersección_recta(p::Parabola, s::Segmento; g = 9.81)\n",
    "    xᵢ = p.xᵢ\n",
    "    θ = p.θ\n",
    "    vᵢ = p.vᵢ\n",
    "    v = vᵢ*[cos(θ), sin(θ)]\n",
    "    m = (s.inicio[2]-s.fin[2])/(s.inicio[1]-s.fin[1])\n",
    "    b = s.fin[2]-m*s.fin[1]\n",
    "    c = -2(xᵢ[2]-m*xᵢ[1] -b)/g \n",
    "    b1 = - (v[2]- m*v[1])/g\n",
    "    t1,t2 = 0.,0.\n",
    "    if b1^2 - c >= 0\n",
    "        t1 = -b1 + sqrt(b1^2 - c)\n",
    "        t2 = -b1 - sqrt(b1^2 - c)\n",
    "    else\n",
    "        t1 = Inf\n",
    "        t2 = Inf\n",
    "    end\n",
    "\n",
    "    if t1 < 0 \n",
    "        t1 = Inf\n",
    "    end\n",
    "    if t2 < 0\n",
    "        t2 = Inf\n",
    "    end\n",
    "    return t1,t2\n",
    "end\n",
    "\n",
    "function intersección(p::Parabola, s::Segmento; g = 9.81)\n",
    "    t1,t2 = intersección_recta(p, s, g = g)\n",
    "    x1,x2 = [Inf,Inf], [Inf,Inf]\n",
    "    if t1 < Inf && t2 < Inf\n",
    "        t_min = min(t1, t2)\n",
    "        t_max = max(t1, t2)\n",
    "        x2 = parabola(p, t_max)\n",
    "        x1 = parabola(p, t_min)\n",
    "        test = dentro_de_un_segmento(x1, s)\n",
    "        if test\n",
    "            return x1, t_min\n",
    "        end\n",
    "        test = dentro_de_un_segmento(x2, s)\n",
    "        if test\n",
    "            return x2, t_max\n",
    "        end\n",
    "        return [Inf, Inf], Inf\n",
    "    end\n",
    "    if t1 < Inf\n",
    "        x1 = parabola(p, t1)\n",
    "        test = dentro_de_un_segmento(x1, s)\n",
    "        if test\n",
    "            return x1, t1\n",
    "        end \n",
    "    end\n",
    "    if t2 < Inf\n",
    "        x2 = parabola(p, t2)\n",
    "        test = dentro_de_un_segmento(x2, s)\n",
    "        if test\n",
    "            return x2, t2\n",
    "        end\n",
    "    end\n",
    "    return [Inf, Inf], Inf      \n",
    "end\n",
    "\n",
    "function dibuja_parabola(p::Parabola, t, n; g = 9.81, kargs...)\n",
    "    ts = 0:t/n:t\n",
    "    parabolico(x) = parabola(p, x, g = g)\n",
    "    x = parabolico.(ts)\n",
    "    n = length(x)\n",
    "    plot!([x[i][1] for i in 1:n], [x[i][2] for i in 1:n]; kargs...)\n",
    "end\n",
    "\n",
    "function encuentra_intersección(p::Parabola, lp::LineaPoligonal)\n",
    "    tiempos = []\n",
    "    posiciones = []\n",
    "    for l in lp.ls\n",
    "        x, t = intersección(p, l)\n",
    "        if x[1] != Inf\n",
    "            push!(tiempos, t)\n",
    "            push!(posiciones, x)\n",
    "        end\n",
    "    end\n",
    "    if length(tiempos) == 0\n",
    "        return 0, 0\n",
    "    end\n",
    "    t, i = findmin(tiempos)\n",
    "end"
   ]
  },
  {
   "cell_type": "markdown",
   "id": "c46024f4",
   "metadata": {},
   "source": [
    "**3/5 pts (6/5 de 10)**\n",
    "\n",
    "**Nota:** Les faltó la gráfica de la parábola intersectando a la línea poliigonal. "
   ]
  },
  {
   "cell_type": "markdown",
   "id": "ad132751",
   "metadata": {},
   "source": [
    "[3] **Diagramas de Cobweb:** Estos diagramas consisten de el mapeo $f$ (función) que se va a estudiar, la recta identidad, el segmento $(x_0,0), (x_0,f(x_0))$, y de los segmentos de la forma $(x_i, x_{i+1}), (x_{i+1},x_{i+1})$ y los segmentos de la forma $(x_{i+1},x_{i+1}), (x_{i+1},x_{i+2})$. Haz una función que dado un mapeo $f(x)$, un valor inicial $x_0$ y un número de aplicaciones del mapeo, regrese el diagrama de Cobweb correspondiente. Pruébalo con el mapeo logístico para el caso donde hay un punto atractivo (que corresponde a la intersección de la parábola y la recta identidad), comenzando desde $x_0 = 0.3$. Pruébalo también para el caso donde haya 2 valores que sean cíclicos (o sea que $f(f(x_c)) = x_c$, pero $f(x_c)  \\ne x_c$ ). \n",
    "\n",
    "¿Puedes encontrar un caso donde haya periodo 3?"
   ]
  },
  {
   "cell_type": "code",
   "execution_count": 2,
   "id": "699a7e7a-b65c-4ab5-81e9-1f8f949157bf",
   "metadata": {},
   "outputs": [],
   "source": [
    "using Plots"
   ]
  },
  {
   "cell_type": "code",
   "execution_count": 1,
   "id": "d0b6db5c",
   "metadata": {},
   "outputs": [
    {
     "data": {
      "text/plain": [
       "pcobweb (generic function with 1 method)"
      ]
     },
     "execution_count": 1,
     "metadata": {},
     "output_type": "execute_result"
    }
   ],
   "source": [
    "function pcobweb(f,x₀,n)\n",
    "    x = x₀\n",
    "    xs = Float64[x]\n",
    "    ys = Float64[0]\n",
    "    for i ∈ 1:n\n",
    "        push!(xs,x)\n",
    "        push!(ys,f(x))\n",
    "        push!(xs,f(x))\n",
    "        push!(ys,f(x))\n",
    "        x = f(x)\n",
    "    end\n",
    "    return xs,ys\n",
    "end"
   ]
  },
  {
   "cell_type": "code",
   "execution_count": 3,
   "id": "4e0b3d54",
   "metadata": {},
   "outputs": [
    {
     "data": {
      "text/plain": [
       "gcobweb (generic function with 1 method)"
      ]
     },
     "execution_count": 3,
     "metadata": {},
     "output_type": "execute_result"
    }
   ],
   "source": [
    "function gcobweb(f,x₀,a,b,n)\n",
    "    plot(x -> x,a,b, label = \"\") \n",
    "    plot!(f,a,b, label = \"\")\n",
    "    xs,ys = pcobweb(f,x₀,n)\n",
    "    plot!(xs,ys,label = \"\")\n",
    "end"
   ]
  },
  {
   "cell_type": "code",
   "execution_count": 4,
   "id": "4d0d9733",
   "metadata": {},
   "outputs": [
    {
     "data": {
      "image/png": "[encoded data removed]",
      "image/svg+xml": [
       "<?xml version=\"1.0\" encoding=\"utf-8\"?>\n",
       "<svg xmlns=\"http://www.w3.org/2000/svg\" xmlns:xlink=\"http://www.w3.org/1999/xlink\" width=\"600\" height=\"400\" viewBox=\"0 0 2400 1600\">\n",
       "<defs>\n",
       "  <clipPath id=\"clip540\">\n",
       "    <rect x=\"0\" y=\"0\" width=\"2400\" height=\"1600\"/>\n",
       "  </clipPath>\n",
       "</defs>\n",
       "<path clip-path=\"url(#clip540)\" d=\"M0 1600 L2400 1600 L2400 0 L0 0  Z\" fill=\"#ffffff\" fill-rule=\"evenodd\" fill-opacity=\"1\"/>\n",
       "<defs>\n",
       "  <clipPath id=\"clip541\">\n",
       "    <rect x=\"480\" y=\"0\" width=\"1681\" height=\"1600\"/>\n",
       "  </clipPath>\n",
       "</defs>\n",
       "<path clip-path=\"url(#clip540)\" d=\"M147.478 1486.45 L2352.76 1486.45 L2352.76 47.2441 L147.478 47.2441  Z\" fill=\"#ffffff\" fill-rule=\"evenodd\" fill-opacity=\"1\"/>\n",
       "<defs>\n",
       "  <clipPath id=\"clip542\">\n",
       "    <rect x=\"147\" y=\"47\" width=\"2206\" height=\"1440\"/>\n",
       "  </clipPath>\n",
       "</defs>\n",
       "<polyline clip-path=\"url(#clip542)\" style=\"stroke:#000000; stroke-linecap:round; stroke-linejoin:round; stroke-width:2; stroke-opacity:0.1; fill:none\" points=\"209.891,1486.45 209.891,47.2441 \"/>\n",
       "<polyline clip-path=\"url(#clip542)\" style=\"stroke:#000000; stroke-linecap:round; stroke-linejoin:round; stroke-width:2; stroke-opacity:0.1; fill:none\" points=\"614.523,1486.45 614.523,47.2441 \"/>\n",
       "<polyline clip-path=\"url(#clip542)\" style=\"stroke:#000000; stroke-linecap:round; stroke-linejoin:round; stroke-width:2; stroke-opacity:0.1; fill:none\" points=\"1019.15,1486.45 1019.15,47.2441 \"/>\n",
       "<polyline clip-path=\"url(#clip542)\" style=\"stroke:#000000; stroke-linecap:round; stroke-linejoin:round; stroke-width:2; stroke-opacity:0.1; fill:none\" points=\"1423.79,1486.45 1423.79,47.2441 \"/>\n",
       "<polyline clip-path=\"url(#clip542)\" style=\"stroke:#000000; stroke-linecap:round; stroke-linejoin:round; stroke-width:2; stroke-opacity:0.1; fill:none\" points=\"1828.42,1486.45 1828.42,47.2441 \"/>\n",
       "<polyline clip-path=\"url(#clip542)\" style=\"stroke:#000000; stroke-linecap:round; stroke-linejoin:round; stroke-width:2; stroke-opacity:0.1; fill:none\" points=\"2233.05,1486.45 2233.05,47.2441 \"/>\n",
       "<polyline clip-path=\"url(#clip542)\" style=\"stroke:#000000; stroke-linecap:round; stroke-linejoin:round; stroke-width:2; stroke-opacity:0.1; fill:none\" points=\"147.478,1445.72 2352.76,1445.72 \"/>\n",
       "<polyline clip-path=\"url(#clip542)\" style=\"stroke:#000000; stroke-linecap:round; stroke-linejoin:round; stroke-width:2; stroke-opacity:0.1; fill:none\" points=\"147.478,1181.65 2352.76,1181.65 \"/>\n",
       "<polyline clip-path=\"url(#clip542)\" style=\"stroke:#000000; stroke-linecap:round; stroke-linejoin:round; stroke-width:2; stroke-opacity:0.1; fill:none\" points=\"147.478,917.576 2352.76,917.576 \"/>\n",
       "<polyline clip-path=\"url(#clip542)\" style=\"stroke:#000000; stroke-linecap:round; stroke-linejoin:round; stroke-width:2; stroke-opacity:0.1; fill:none\" points=\"147.478,653.506 2352.76,653.506 \"/>\n",
       "<polyline clip-path=\"url(#clip542)\" style=\"stroke:#000000; stroke-linecap:round; stroke-linejoin:round; stroke-width:2; stroke-opacity:0.1; fill:none\" points=\"147.478,389.436 2352.76,389.436 \"/>\n",
       "<polyline clip-path=\"url(#clip542)\" style=\"stroke:#000000; stroke-linecap:round; stroke-linejoin:round; stroke-width:2; stroke-opacity:0.1; fill:none\" points=\"147.478,125.367 2352.76,125.367 \"/>\n",
       "<polyline clip-path=\"url(#clip540)\" style=\"stroke:#000000; stroke-linecap:round; stroke-linejoin:round; stroke-width:4; stroke-opacity:1; fill:none\" points=\"147.478,1486.45 2352.76,1486.45 \"/>\n",
       "<polyline clip-path=\"url(#clip540)\" style=\"stroke:#000000; stroke-linecap:round; stroke-linejoin:round; stroke-width:4; stroke-opacity:1; fill:none\" points=\"209.891,1486.45 209.891,1467.55 \"/>\n",
       "<polyline clip-path=\"url(#clip540)\" style=\"stroke:#000000; stroke-linecap:round; stroke-linejoin:round; stroke-width:4; stroke-opacity:1; fill:none\" points=\"614.523,1486.45 614.523,1467.55 \"/>\n",
       "<polyline clip-path=\"url(#clip540)\" style=\"stroke:#000000; stroke-linecap:round; stroke-linejoin:round; stroke-width:4; stroke-opacity:1; fill:none\" points=\"1019.15,1486.45 1019.15,1467.55 \"/>\n",
       "<polyline clip-path=\"url(#clip540)\" style=\"stroke:#000000; stroke-linecap:round; stroke-linejoin:round; stroke-width:4; stroke-opacity:1; fill:none\" points=\"1423.79,1486.45 1423.79,1467.55 \"/>\n",
       "<polyline clip-path=\"url(#clip540)\" style=\"stroke:#000000; stroke-linecap:round; stroke-linejoin:round; stroke-width:4; stroke-opacity:1; fill:none\" points=\"1828.42,1486.45 1828.42,1467.55 \"/>\n",
       "<polyline clip-path=\"url(#clip540)\" style=\"stroke:#000000; stroke-linecap:round; stroke-linejoin:round; stroke-width:4; stroke-opacity:1; fill:none\" points=\"2233.05,1486.45 2233.05,1467.55 \"/>\n",
       "<path clip-path=\"url(#clip540)\" d=\"M179.834 1532.02 L209.509 1532.02 L209.509 1535.95 L179.834 1535.95 L179.834 1532.02 Z\" fill=\"#000000\" fill-rule=\"nonzero\" fill-opacity=\"1\" /><path clip-path=\"url(#clip540)\" d=\"M223.63 1544.91 L239.949 1544.91 L239.949 1548.85 L218.005 1548.85 L218.005 1544.91 Q220.667 1542.16 225.25 1537.53 Q229.857 1532.88 231.037 1531.53 Q233.283 1529.01 234.162 1527.27 Q235.065 1525.51 235.065 1523.82 Q235.065 1521.07 233.12 1519.33 Q231.199 1517.6 228.097 1517.6 Q225.898 1517.6 223.445 1518.36 Q221.014 1519.13 218.236 1520.68 L218.236 1515.95 Q221.06 1514.82 223.514 1514.24 Q225.968 1513.66 228.005 1513.66 Q233.375 1513.66 236.57 1516.35 Q239.764 1519.03 239.764 1523.52 Q239.764 1525.65 238.954 1527.57 Q238.167 1529.47 236.06 1532.07 Q235.482 1532.74 232.38 1535.95 Q229.278 1539.15 223.63 1544.91 Z\" fill=\"#000000\" fill-rule=\"nonzero\" fill-opacity=\"1\" /><path clip-path=\"url(#clip540)\" d=\"M584.28 1532.02 L613.956 1532.02 L613.956 1535.95 L584.28 1535.95 L584.28 1532.02 Z\" fill=\"#000000\" fill-rule=\"nonzero\" fill-opacity=\"1\" /><path clip-path=\"url(#clip540)\" d=\"M624.859 1544.91 L632.497 1544.91 L632.497 1518.55 L624.187 1520.21 L624.187 1515.95 L632.451 1514.29 L637.127 1514.29 L637.127 1544.91 L644.766 1544.91 L644.766 1548.85 L624.859 1548.85 L624.859 1544.91 Z\" fill=\"#000000\" fill-rule=\"nonzero\" fill-opacity=\"1\" /><path clip-path=\"url(#clip540)\" d=\"M1019.15 1517.37 Q1015.54 1517.37 1013.71 1520.93 Q1011.91 1524.47 1011.91 1531.6 Q1011.91 1538.71 1013.71 1542.27 Q1015.54 1545.82 1019.15 1545.82 Q1022.79 1545.82 1024.59 1542.27 Q1026.42 1538.71 1026.42 1531.6 Q1026.42 1524.47 1024.59 1520.93 Q1022.79 1517.37 1019.15 1517.37 M1019.15 1513.66 Q1024.96 1513.66 1028.02 1518.27 Q1031.1 1522.85 1031.1 1531.6 Q1031.1 1540.33 1028.02 1544.94 Q1024.96 1549.52 1019.15 1549.52 Q1013.34 1549.52 1010.27 1544.94 Q1007.21 1540.33 1007.21 1531.6 Q1007.21 1522.85 1010.27 1518.27 Q1013.34 1513.66 1019.15 1513.66 Z\" fill=\"#000000\" fill-rule=\"nonzero\" fill-opacity=\"1\" /><path clip-path=\"url(#clip540)\" d=\"M1414.17 1544.91 L1421.81 1544.91 L1421.81 1518.55 L1413.5 1520.21 L1413.5 1515.95 L1421.76 1514.29 L1426.44 1514.29 L1426.44 1544.91 L1434.08 1544.91 L1434.08 1548.85 L1414.17 1548.85 L1414.17 1544.91 Z\" fill=\"#000000\" fill-rule=\"nonzero\" fill-opacity=\"1\" /><path clip-path=\"url(#clip540)\" d=\"M1823.07 1544.91 L1839.39 1544.91 L1839.39 1548.85 L1817.45 1548.85 L1817.45 1544.91 Q1820.11 1542.16 1824.69 1537.53 Q1829.3 1532.88 1830.48 1531.53 Q1832.72 1529.01 1833.6 1527.27 Q1834.51 1525.51 1834.51 1523.82 Q1834.51 1521.07 1832.56 1519.33 Q1830.64 1517.6 1827.54 1517.6 Q1825.34 1517.6 1822.89 1518.36 Q1820.45 1519.13 1817.68 1520.68 L1817.68 1515.95 Q1820.5 1514.82 1822.95 1514.24 Q1825.41 1513.66 1827.45 1513.66 Q1832.82 1513.66 1836.01 1516.35 Q1839.2 1519.03 1839.2 1523.52 Q1839.2 1525.65 1838.39 1527.57 Q1837.61 1529.47 1835.5 1532.07 Q1834.92 1532.74 1831.82 1535.95 Q1828.72 1539.15 1823.07 1544.91 Z\" fill=\"#000000\" fill-rule=\"nonzero\" fill-opacity=\"1\" /><path clip-path=\"url(#clip540)\" d=\"M2237.3 1530.21 Q2240.65 1530.93 2242.53 1533.2 Q2244.43 1535.47 2244.43 1538.8 Q2244.43 1543.92 2240.91 1546.72 Q2237.39 1549.52 2230.91 1549.52 Q2228.73 1549.52 2226.42 1549.08 Q2224.13 1548.66 2221.67 1547.81 L2221.67 1543.29 Q2223.62 1544.43 2225.93 1545.01 Q2228.25 1545.58 2230.77 1545.58 Q2235.17 1545.58 2237.46 1543.85 Q2239.77 1542.11 2239.77 1538.8 Q2239.77 1535.75 2237.62 1534.03 Q2235.49 1532.3 2231.67 1532.3 L2227.64 1532.3 L2227.64 1528.45 L2231.86 1528.45 Q2235.31 1528.45 2237.14 1527.09 Q2238.96 1525.7 2238.96 1523.11 Q2238.96 1520.45 2237.07 1519.03 Q2235.19 1517.6 2231.67 1517.6 Q2229.75 1517.6 2227.55 1518.01 Q2225.35 1518.43 2222.71 1519.31 L2222.71 1515.14 Q2225.38 1514.4 2227.69 1514.03 Q2230.03 1513.66 2232.09 1513.66 Q2237.41 1513.66 2240.51 1516.09 Q2243.62 1518.5 2243.62 1522.62 Q2243.62 1525.49 2241.97 1527.48 Q2240.33 1529.45 2237.3 1530.21 Z\" fill=\"#000000\" fill-rule=\"nonzero\" fill-opacity=\"1\" /><polyline clip-path=\"url(#clip540)\" style=\"stroke:#000000; stroke-linecap:round; stroke-linejoin:round; stroke-width:4; stroke-opacity:1; fill:none\" points=\"147.478,1486.45 147.478,47.2441 \"/>\n",
       "<polyline clip-path=\"url(#clip540)\" style=\"stroke:#000000; stroke-linecap:round; stroke-linejoin:round; stroke-width:4; stroke-opacity:1; fill:none\" points=\"147.478,1445.72 166.376,1445.72 \"/>\n",
       "<polyline clip-path=\"url(#clip540)\" style=\"stroke:#000000; stroke-linecap:round; stroke-linejoin:round; stroke-width:4; stroke-opacity:1; fill:none\" points=\"147.478,1181.65 166.376,1181.65 \"/>\n",
       "<polyline clip-path=\"url(#clip540)\" style=\"stroke:#000000; stroke-linecap:round; stroke-linejoin:round; stroke-width:4; stroke-opacity:1; fill:none\" points=\"147.478,917.576 166.376,917.576 \"/>\n",
       "<polyline clip-path=\"url(#clip540)\" style=\"stroke:#000000; stroke-linecap:round; stroke-linejoin:round; stroke-width:4; stroke-opacity:1; fill:none\" points=\"147.478,653.506 166.376,653.506 \"/>\n",
       "<polyline clip-path=\"url(#clip540)\" style=\"stroke:#000000; stroke-linecap:round; stroke-linejoin:round; stroke-width:4; stroke-opacity:1; fill:none\" points=\"147.478,389.436 166.376,389.436 \"/>\n",
       "<polyline clip-path=\"url(#clip540)\" style=\"stroke:#000000; stroke-linecap:round; stroke-linejoin:round; stroke-width:4; stroke-opacity:1; fill:none\" points=\"147.478,125.367 166.376,125.367 \"/>\n",
       "<path clip-path=\"url(#clip540)\" d=\"M51.3625 1446.17 L81.0383 1446.17 L81.0383 1450.1 L51.3625 1450.1 L51.3625 1446.17 Z\" fill=\"#000000\" fill-rule=\"nonzero\" fill-opacity=\"1\" /><path clip-path=\"url(#clip540)\" d=\"M95.1586 1459.06 L111.478 1459.06 L111.478 1463 L89.5336 1463 L89.5336 1459.06 Q92.1956 1456.31 96.7789 1451.68 Q101.385 1447.02 102.566 1445.68 Q104.811 1443.16 105.691 1441.42 Q106.594 1439.66 106.594 1437.97 Q106.594 1435.22 104.649 1433.48 Q102.728 1431.75 99.6261 1431.75 Q97.4271 1431.75 94.9734 1432.51 Q92.5428 1433.27 89.7651 1434.82 L89.7651 1430.1 Q92.5891 1428.97 95.0428 1428.39 Q97.4965 1427.81 99.5335 1427.81 Q104.904 1427.81 108.098 1430.5 Q111.293 1433.18 111.293 1437.67 Q111.293 1439.8 110.483 1441.72 Q109.696 1443.62 107.589 1446.21 Q107.01 1446.88 103.909 1450.1 Q100.807 1453.3 95.1586 1459.06 Z\" fill=\"#000000\" fill-rule=\"nonzero\" fill-opacity=\"1\" /><path clip-path=\"url(#clip540)\" d=\"M50.9921 1182.1 L80.6679 1182.1 L80.6679 1186.03 L50.9921 1186.03 L50.9921 1182.1 Z\" fill=\"#000000\" fill-rule=\"nonzero\" fill-opacity=\"1\" /><path clip-path=\"url(#clip540)\" d=\"M91.5706 1194.99 L99.2095 1194.99 L99.2095 1168.63 L90.8993 1170.29 L90.8993 1166.03 L99.1632 1164.37 L103.839 1164.37 L103.839 1194.99 L111.478 1194.99 L111.478 1198.93 L91.5706 1198.93 L91.5706 1194.99 Z\" fill=\"#000000\" fill-rule=\"nonzero\" fill-opacity=\"1\" /><path clip-path=\"url(#clip540)\" d=\"M99.5335 903.375 Q95.9224 903.375 94.0937 906.94 Q92.2882 910.481 92.2882 917.611 Q92.2882 924.717 94.0937 928.282 Q95.9224 931.824 99.5335 931.824 Q103.168 931.824 104.973 928.282 Q106.802 924.717 106.802 917.611 Q106.802 910.481 104.973 906.94 Q103.168 903.375 99.5335 903.375 M99.5335 899.671 Q105.344 899.671 108.399 904.278 Q111.478 908.861 111.478 917.611 Q111.478 926.338 108.399 930.944 Q105.344 935.527 99.5335 935.527 Q93.7234 935.527 90.6447 930.944 Q87.5892 926.338 87.5892 917.611 Q87.5892 908.861 90.6447 904.278 Q93.7234 899.671 99.5335 899.671 Z\" fill=\"#000000\" fill-rule=\"nonzero\" fill-opacity=\"1\" /><path clip-path=\"url(#clip540)\" d=\"M91.5706 666.851 L99.2095 666.851 L99.2095 640.485 L90.8993 642.152 L90.8993 637.893 L99.1632 636.226 L103.839 636.226 L103.839 666.851 L111.478 666.851 L111.478 670.786 L91.5706 670.786 L91.5706 666.851 Z\" fill=\"#000000\" fill-rule=\"nonzero\" fill-opacity=\"1\" /><path clip-path=\"url(#clip540)\" d=\"M95.1586 402.781 L111.478 402.781 L111.478 406.716 L89.5336 406.716 L89.5336 402.781 Q92.1956 400.027 96.7789 395.397 Q101.385 390.744 102.566 389.402 Q104.811 386.879 105.691 385.142 Q106.594 383.383 106.594 381.693 Q106.594 378.939 104.649 377.203 Q102.728 375.467 99.6261 375.467 Q97.4271 375.467 94.9734 376.23 Q92.5428 376.994 89.7651 378.545 L89.7651 373.823 Q92.5891 372.689 95.0428 372.11 Q97.4965 371.531 99.5335 371.531 Q104.904 371.531 108.098 374.217 Q111.293 376.902 111.293 381.392 Q111.293 383.522 110.483 385.443 Q109.696 387.342 107.589 389.934 Q107.01 390.605 103.909 393.823 Q100.807 397.017 95.1586 402.781 Z\" fill=\"#000000\" fill-rule=\"nonzero\" fill-opacity=\"1\" /><path clip-path=\"url(#clip540)\" d=\"M104.348 124.012 Q107.705 124.73 109.58 126.999 Q111.478 129.267 111.478 132.6 Q111.478 137.716 107.959 140.517 Q104.441 143.318 97.9595 143.318 Q95.7836 143.318 93.4688 142.878 Q91.1771 142.461 88.7234 141.605 L88.7234 137.091 Q90.6678 138.225 92.9826 138.804 Q95.2974 139.383 97.8206 139.383 Q102.219 139.383 104.51 137.647 Q106.825 135.911 106.825 132.6 Q106.825 129.545 104.672 127.832 Q102.543 126.096 98.7234 126.096 L94.6956 126.096 L94.6956 122.253 L98.9085 122.253 Q102.358 122.253 104.186 120.887 Q106.015 119.499 106.015 116.906 Q106.015 114.244 104.117 112.832 Q102.242 111.397 98.7234 111.397 Q96.8021 111.397 94.603 111.813 Q92.4039 112.23 89.7651 113.11 L89.7651 108.943 Q92.4271 108.202 94.7419 107.832 Q97.0798 107.462 99.14 107.462 Q104.464 107.462 107.566 109.892 Q110.668 112.3 110.668 116.42 Q110.668 119.29 109.024 121.281 Q107.381 123.249 104.348 124.012 Z\" fill=\"#000000\" fill-rule=\"nonzero\" fill-opacity=\"1\" /><polyline clip-path=\"url(#clip542)\" style=\"stroke:#009af9; stroke-linecap:round; stroke-linejoin:round; stroke-width:4; stroke-opacity:1; fill:none\" points=\"209.891,1445.72 231.369,1431.7 357.164,1349.6 415.683,1311.41 494.121,1260.22 558.936,1217.92 619.206,1178.59 694.866,1129.21 762.734,1084.92 840.418,1034.22 898.487,996.326 972.757,947.856 1040.54,903.617 1117.7,853.267 1178.85,813.354 1254.84,763.766 1313.03,725.791 1395.07,672.25 1456.37,632.24 1526.09,586.74 1595.14,541.68 1671.1,492.105 1729.12,454.238 1802.34,406.453 1870.06,362.257 1939.91,316.677 2010.7,270.476 2084.62,222.234 2142.85,184.231 2275.46,97.6863 2290.34,87.9763 \"/>\n",
       "<polyline clip-path=\"url(#clip542)\" style=\"stroke:#e26f46; stroke-linecap:round; stroke-linejoin:round; stroke-width:4; stroke-opacity:1; fill:none\" points=\"209.891,1027.47 231.369,1014.57 357.164,934.791 415.683,896.634 494.121,846.317 526.529,826.202 558.936,806.673 589.071,789.149 619.206,772.336 638.121,762.189 657.036,752.382 675.951,742.935 694.866,733.87 711.833,726.079 728.8,718.626 745.767,711.521 762.734,704.78 782.155,697.522 801.576,690.772 820.997,684.544 840.418,678.853 869.452,671.374 898.487,665.162 917.054,661.868 935.622,659.113 954.19,656.902 972.757,655.24 989.704,654.205 1006.65,653.632 1023.6,653.522 1040.54,653.875 1059.83,654.84 1079.12,656.401 1098.41,658.555 1117.7,661.298 1132.98,663.887 1148.27,666.837 1163.56,670.146 1178.85,673.808 1197.85,678.841 1216.84,684.401 1235.84,690.474 1254.84,697.048 1283.93,708.054 1313.03,720.142 1333.54,729.281 1354.05,738.903 1374.56,748.984 1395.07,759.499 1425.72,775.961 1456.37,793.236 1491.23,813.743 1526.09,835.02 1560.61,856.695 1595.14,878.813 1671.1,928.245 1729.12,965.842 1765.73,989.102 1802.34,1011.78 1836.2,1032.07 1870.06,1051.56 1904.99,1070.67 1939.91,1088.65 1975.3,1105.57 2010.7,1121.05 2029.18,1128.53 2047.66,1135.56 2066.14,1142.14 2084.62,1148.25 2113.74,1156.89 2142.85,1164.3 2159.43,1167.95 2176.01,1171.17 2192.58,1173.98 2209.16,1176.35 2225.73,1178.29 2242.31,1179.79 2258.89,1180.85 2275.46,1181.47 2279.18,1181.55 2282.9,1181.6 2286.62,1181.63 2290.34,1181.65 \"/>\n",
       "<polyline clip-path=\"url(#clip542)\" style=\"stroke:#3da44d; stroke-linecap:round; stroke-linejoin:round; stroke-width:4; stroke-opacity:1; fill:none\" points=\"614.523,917.576 614.523,774.899 1237.78,774.899 1237.78,691.122 1366.15,691.122 1366.15,744.798 1283.9,744.798 1283.9,708.042 1340.22,708.042 1340.22,732.366 1302.95,732.366 1302.95,715.837 1328.28,715.837 1328.28,726.891 1311.34,726.891 1311.34,719.413 1322.8,719.413 1322.8,724.434 1315.1,724.434 1315.1,721.045 1320.3,721.045 \"/>\n",
       "</svg>\n"
      ],
      "text/html": [
       "<?xml version=\"1.0\" encoding=\"utf-8\"?>\n",
       "<svg xmlns=\"http://www.w3.org/2000/svg\" xmlns:xlink=\"http://www.w3.org/1999/xlink\" width=\"600\" height=\"400\" viewBox=\"0 0 2400 1600\">\n",
       "<defs>\n",
       "  <clipPath id=\"clip590\">\n",
       "    <rect x=\"0\" y=\"0\" width=\"2400\" height=\"1600\"/>\n",
       "  </clipPath>\n",
       "</defs>\n",
       "<path clip-path=\"url(#clip590)\" d=\"M0 1600 L2400 1600 L2400 0 L0 0  Z\" fill=\"#ffffff\" fill-rule=\"evenodd\" fill-opacity=\"1\"/>\n",
       "<defs>\n",
       "  <clipPath id=\"clip591\">\n",
       "    <rect x=\"480\" y=\"0\" width=\"1681\" height=\"1600\"/>\n",
       "  </clipPath>\n",
       "</defs>\n",
       "<path clip-path=\"url(#clip590)\" d=\"M147.478 1486.45 L2352.76 1486.45 L2352.76 47.2441 L147.478 47.2441  Z\" fill=\"#ffffff\" fill-rule=\"evenodd\" fill-opacity=\"1\"/>\n",
       "<defs>\n",
       "  <clipPath id=\"clip592\">\n",
       "    <rect x=\"147\" y=\"47\" width=\"2206\" height=\"1440\"/>\n",
       "  </clipPath>\n",
       "</defs>\n",
       "<polyline clip-path=\"url(#clip592)\" style=\"stroke:#000000; stroke-linecap:round; stroke-linejoin:round; stroke-width:2; stroke-opacity:0.1; fill:none\" points=\"209.891,1486.45 209.891,47.2441 \"/>\n",
       "<polyline clip-path=\"url(#clip592)\" style=\"stroke:#000000; stroke-linecap:round; stroke-linejoin:round; stroke-width:2; stroke-opacity:0.1; fill:none\" points=\"614.523,1486.45 614.523,47.2441 \"/>\n",
       "<polyline clip-path=\"url(#clip592)\" style=\"stroke:#000000; stroke-linecap:round; stroke-linejoin:round; stroke-width:2; stroke-opacity:0.1; fill:none\" points=\"1019.15,1486.45 1019.15,47.2441 \"/>\n",
       "<polyline clip-path=\"url(#clip592)\" style=\"stroke:#000000; stroke-linecap:round; stroke-linejoin:round; stroke-width:2; stroke-opacity:0.1; fill:none\" points=\"1423.79,1486.45 1423.79,47.2441 \"/>\n",
       "<polyline clip-path=\"url(#clip592)\" style=\"stroke:#000000; stroke-linecap:round; stroke-linejoin:round; stroke-width:2; stroke-opacity:0.1; fill:none\" points=\"1828.42,1486.45 1828.42,47.2441 \"/>\n",
       "<polyline clip-path=\"url(#clip592)\" style=\"stroke:#000000; stroke-linecap:round; stroke-linejoin:round; stroke-width:2; stroke-opacity:0.1; fill:none\" points=\"2233.05,1486.45 2233.05,47.2441 \"/>\n",
       "<polyline clip-path=\"url(#clip592)\" style=\"stroke:#000000; stroke-linecap:round; stroke-linejoin:round; stroke-width:2; stroke-opacity:0.1; fill:none\" points=\"147.478,1445.72 2352.76,1445.72 \"/>\n",
       "<polyline clip-path=\"url(#clip592)\" style=\"stroke:#000000; stroke-linecap:round; stroke-linejoin:round; stroke-width:2; stroke-opacity:0.1; fill:none\" points=\"147.478,1181.65 2352.76,1181.65 \"/>\n",
       "<polyline clip-path=\"url(#clip592)\" style=\"stroke:#000000; stroke-linecap:round; stroke-linejoin:round; stroke-width:2; stroke-opacity:0.1; fill:none\" points=\"147.478,917.576 2352.76,917.576 \"/>\n",
       "<polyline clip-path=\"url(#clip592)\" style=\"stroke:#000000; stroke-linecap:round; stroke-linejoin:round; stroke-width:2; stroke-opacity:0.1; fill:none\" points=\"147.478,653.506 2352.76,653.506 \"/>\n",
       "<polyline clip-path=\"url(#clip592)\" style=\"stroke:#000000; stroke-linecap:round; stroke-linejoin:round; stroke-width:2; stroke-opacity:0.1; fill:none\" points=\"147.478,389.436 2352.76,389.436 \"/>\n",
       "<polyline clip-path=\"url(#clip592)\" style=\"stroke:#000000; stroke-linecap:round; stroke-linejoin:round; stroke-width:2; stroke-opacity:0.1; fill:none\" points=\"147.478,125.367 2352.76,125.367 \"/>\n",
       "<polyline clip-path=\"url(#clip590)\" style=\"stroke:#000000; stroke-linecap:round; stroke-linejoin:round; stroke-width:4; stroke-opacity:1; fill:none\" points=\"147.478,1486.45 2352.76,1486.45 \"/>\n",
       "<polyline clip-path=\"url(#clip590)\" style=\"stroke:#000000; stroke-linecap:round; stroke-linejoin:round; stroke-width:4; stroke-opacity:1; fill:none\" points=\"209.891,1486.45 209.891,1467.55 \"/>\n",
       "<polyline clip-path=\"url(#clip590)\" style=\"stroke:#000000; stroke-linecap:round; stroke-linejoin:round; stroke-width:4; stroke-opacity:1; fill:none\" points=\"614.523,1486.45 614.523,1467.55 \"/>\n",
       "<polyline clip-path=\"url(#clip590)\" style=\"stroke:#000000; stroke-linecap:round; stroke-linejoin:round; stroke-width:4; stroke-opacity:1; fill:none\" points=\"1019.15,1486.45 1019.15,1467.55 \"/>\n",
       "<polyline clip-path=\"url(#clip590)\" style=\"stroke:#000000; stroke-linecap:round; stroke-linejoin:round; stroke-width:4; stroke-opacity:1; fill:none\" points=\"1423.79,1486.45 1423.79,1467.55 \"/>\n",
       "<polyline clip-path=\"url(#clip590)\" style=\"stroke:#000000; stroke-linecap:round; stroke-linejoin:round; stroke-width:4; stroke-opacity:1; fill:none\" points=\"1828.42,1486.45 1828.42,1467.55 \"/>\n",
       "<polyline clip-path=\"url(#clip590)\" style=\"stroke:#000000; stroke-linecap:round; stroke-linejoin:round; stroke-width:4; stroke-opacity:1; fill:none\" points=\"2233.05,1486.45 2233.05,1467.55 \"/>\n",
       "<path clip-path=\"url(#clip590)\" d=\"M179.834 1532.02 L209.509 1532.02 L209.509 1535.95 L179.834 1535.95 L179.834 1532.02 Z\" fill=\"#000000\" fill-rule=\"nonzero\" fill-opacity=\"1\" /><path clip-path=\"url(#clip590)\" d=\"M223.63 1544.91 L239.949 1544.91 L239.949 1548.85 L218.005 1548.85 L218.005 1544.91 Q220.667 1542.16 225.25 1537.53 Q229.857 1532.88 231.037 1531.53 Q233.283 1529.01 234.162 1527.27 Q235.065 1525.51 235.065 1523.82 Q235.065 1521.07 233.12 1519.33 Q231.199 1517.6 228.097 1517.6 Q225.898 1517.6 223.445 1518.36 Q221.014 1519.13 218.236 1520.68 L218.236 1515.95 Q221.06 1514.82 223.514 1514.24 Q225.968 1513.66 228.005 1513.66 Q233.375 1513.66 236.57 1516.35 Q239.764 1519.03 239.764 1523.52 Q239.764 1525.65 238.954 1527.57 Q238.167 1529.47 236.06 1532.07 Q235.482 1532.74 232.38 1535.95 Q229.278 1539.15 223.63 1544.91 Z\" fill=\"#000000\" fill-rule=\"nonzero\" fill-opacity=\"1\" /><path clip-path=\"url(#clip590)\" d=\"M584.28 1532.02 L613.956 1532.02 L613.956 1535.95 L584.28 1535.95 L584.28 1532.02 Z\" fill=\"#000000\" fill-rule=\"nonzero\" fill-opacity=\"1\" /><path clip-path=\"url(#clip590)\" d=\"M624.859 1544.91 L632.497 1544.91 L632.497 1518.55 L624.187 1520.21 L624.187 1515.95 L632.451 1514.29 L637.127 1514.29 L637.127 1544.91 L644.766 1544.91 L644.766 1548.85 L624.859 1548.85 L624.859 1544.91 Z\" fill=\"#000000\" fill-rule=\"nonzero\" fill-opacity=\"1\" /><path clip-path=\"url(#clip590)\" d=\"M1019.15 1517.37 Q1015.54 1517.37 1013.71 1520.93 Q1011.91 1524.47 1011.91 1531.6 Q1011.91 1538.71 1013.71 1542.27 Q1015.54 1545.82 1019.15 1545.82 Q1022.79 1545.82 1024.59 1542.27 Q1026.42 1538.71 1026.42 1531.6 Q1026.42 1524.47 1024.59 1520.93 Q1022.79 1517.37 1019.15 1517.37 M1019.15 1513.66 Q1024.96 1513.66 1028.02 1518.27 Q1031.1 1522.85 1031.1 1531.6 Q1031.1 1540.33 1028.02 1544.94 Q1024.96 1549.52 1019.15 1549.52 Q1013.34 1549.52 1010.27 1544.94 Q1007.21 1540.33 1007.21 1531.6 Q1007.21 1522.85 1010.27 1518.27 Q1013.34 1513.66 1019.15 1513.66 Z\" fill=\"#000000\" fill-rule=\"nonzero\" fill-opacity=\"1\" /><path clip-path=\"url(#clip590)\" d=\"M1414.17 1544.91 L1421.81 1544.91 L1421.81 1518.55 L1413.5 1520.21 L1413.5 1515.95 L1421.76 1514.29 L1426.44 1514.29 L1426.44 1544.91 L1434.08 1544.91 L1434.08 1548.85 L1414.17 1548.85 L1414.17 1544.91 Z\" fill=\"#000000\" fill-rule=\"nonzero\" fill-opacity=\"1\" /><path clip-path=\"url(#clip590)\" d=\"M1823.07 1544.91 L1839.39 1544.91 L1839.39 1548.85 L1817.45 1548.85 L1817.45 1544.91 Q1820.11 1542.16 1824.69 1537.53 Q1829.3 1532.88 1830.48 1531.53 Q1832.72 1529.01 1833.6 1527.27 Q1834.51 1525.51 1834.51 1523.82 Q1834.51 1521.07 1832.56 1519.33 Q1830.64 1517.6 1827.54 1517.6 Q1825.34 1517.6 1822.89 1518.36 Q1820.45 1519.13 1817.68 1520.68 L1817.68 1515.95 Q1820.5 1514.82 1822.95 1514.24 Q1825.41 1513.66 1827.45 1513.66 Q1832.82 1513.66 1836.01 1516.35 Q1839.2 1519.03 1839.2 1523.52 Q1839.2 1525.65 1838.39 1527.57 Q1837.61 1529.47 1835.5 1532.07 Q1834.92 1532.74 1831.82 1535.95 Q1828.72 1539.15 1823.07 1544.91 Z\" fill=\"#000000\" fill-rule=\"nonzero\" fill-opacity=\"1\" /><path clip-path=\"url(#clip590)\" d=\"M2237.3 1530.21 Q2240.65 1530.93 2242.53 1533.2 Q2244.43 1535.47 2244.43 1538.8 Q2244.43 1543.92 2240.91 1546.72 Q2237.39 1549.52 2230.91 1549.52 Q2228.73 1549.52 2226.42 1549.08 Q2224.13 1548.66 2221.67 1547.81 L2221.67 1543.29 Q2223.62 1544.43 2225.93 1545.01 Q2228.25 1545.58 2230.77 1545.58 Q2235.17 1545.58 2237.46 1543.85 Q2239.77 1542.11 2239.77 1538.8 Q2239.77 1535.75 2237.62 1534.03 Q2235.49 1532.3 2231.67 1532.3 L2227.64 1532.3 L2227.64 1528.45 L2231.86 1528.45 Q2235.31 1528.45 2237.14 1527.09 Q2238.96 1525.7 2238.96 1523.11 Q2238.96 1520.45 2237.07 1519.03 Q2235.19 1517.6 2231.67 1517.6 Q2229.75 1517.6 2227.55 1518.01 Q2225.35 1518.43 2222.71 1519.31 L2222.71 1515.14 Q2225.38 1514.4 2227.69 1514.03 Q2230.03 1513.66 2232.09 1513.66 Q2237.41 1513.66 2240.51 1516.09 Q2243.62 1518.5 2243.62 1522.62 Q2243.62 1525.49 2241.97 1527.48 Q2240.33 1529.45 2237.3 1530.21 Z\" fill=\"#000000\" fill-rule=\"nonzero\" fill-opacity=\"1\" /><polyline clip-path=\"url(#clip590)\" style=\"stroke:#000000; stroke-linecap:round; stroke-linejoin:round; stroke-width:4; stroke-opacity:1; fill:none\" points=\"147.478,1486.45 147.478,47.2441 \"/>\n",
       "<polyline clip-path=\"url(#clip590)\" style=\"stroke:#000000; stroke-linecap:round; stroke-linejoin:round; stroke-width:4; stroke-opacity:1; fill:none\" points=\"147.478,1445.72 166.376,1445.72 \"/>\n",
       "<polyline clip-path=\"url(#clip590)\" style=\"stroke:#000000; stroke-linecap:round; stroke-linejoin:round; stroke-width:4; stroke-opacity:1; fill:none\" points=\"147.478,1181.65 166.376,1181.65 \"/>\n",
       "<polyline clip-path=\"url(#clip590)\" style=\"stroke:#000000; stroke-linecap:round; stroke-linejoin:round; stroke-width:4; stroke-opacity:1; fill:none\" points=\"147.478,917.576 166.376,917.576 \"/>\n",
       "<polyline clip-path=\"url(#clip590)\" style=\"stroke:#000000; stroke-linecap:round; stroke-linejoin:round; stroke-width:4; stroke-opacity:1; fill:none\" points=\"147.478,653.506 166.376,653.506 \"/>\n",
       "<polyline clip-path=\"url(#clip590)\" style=\"stroke:#000000; stroke-linecap:round; stroke-linejoin:round; stroke-width:4; stroke-opacity:1; fill:none\" points=\"147.478,389.436 166.376,389.436 \"/>\n",
       "<polyline clip-path=\"url(#clip590)\" style=\"stroke:#000000; stroke-linecap:round; stroke-linejoin:round; stroke-width:4; stroke-opacity:1; fill:none\" points=\"147.478,125.367 166.376,125.367 \"/>\n",
       "<path clip-path=\"url(#clip590)\" d=\"M51.3625 1446.17 L81.0383 1446.17 L81.0383 1450.1 L51.3625 1450.1 L51.3625 1446.17 Z\" fill=\"#000000\" fill-rule=\"nonzero\" fill-opacity=\"1\" /><path clip-path=\"url(#clip590)\" d=\"M95.1586 1459.06 L111.478 1459.06 L111.478 1463 L89.5336 1463 L89.5336 1459.06 Q92.1956 1456.31 96.7789 1451.68 Q101.385 1447.02 102.566 1445.68 Q104.811 1443.16 105.691 1441.42 Q106.594 1439.66 106.594 1437.97 Q106.594 1435.22 104.649 1433.48 Q102.728 1431.75 99.6261 1431.75 Q97.4271 1431.75 94.9734 1432.51 Q92.5428 1433.27 89.7651 1434.82 L89.7651 1430.1 Q92.5891 1428.97 95.0428 1428.39 Q97.4965 1427.81 99.5335 1427.81 Q104.904 1427.81 108.098 1430.5 Q111.293 1433.18 111.293 1437.67 Q111.293 1439.8 110.483 1441.72 Q109.696 1443.62 107.589 1446.21 Q107.01 1446.88 103.909 1450.1 Q100.807 1453.3 95.1586 1459.06 Z\" fill=\"#000000\" fill-rule=\"nonzero\" fill-opacity=\"1\" /><path clip-path=\"url(#clip590)\" d=\"M50.9921 1182.1 L80.6679 1182.1 L80.6679 1186.03 L50.9921 1186.03 L50.9921 1182.1 Z\" fill=\"#000000\" fill-rule=\"nonzero\" fill-opacity=\"1\" /><path clip-path=\"url(#clip590)\" d=\"M91.5706 1194.99 L99.2095 1194.99 L99.2095 1168.63 L90.8993 1170.29 L90.8993 1166.03 L99.1632 1164.37 L103.839 1164.37 L103.839 1194.99 L111.478 1194.99 L111.478 1198.93 L91.5706 1198.93 L91.5706 1194.99 Z\" fill=\"#000000\" fill-rule=\"nonzero\" fill-opacity=\"1\" /><path clip-path=\"url(#clip590)\" d=\"M99.5335 903.375 Q95.9224 903.375 94.0937 906.94 Q92.2882 910.481 92.2882 917.611 Q92.2882 924.717 94.0937 928.282 Q95.9224 931.824 99.5335 931.824 Q103.168 931.824 104.973 928.282 Q106.802 924.717 106.802 917.611 Q106.802 910.481 104.973 906.94 Q103.168 903.375 99.5335 903.375 M99.5335 899.671 Q105.344 899.671 108.399 904.278 Q111.478 908.861 111.478 917.611 Q111.478 926.338 108.399 930.944 Q105.344 935.527 99.5335 935.527 Q93.7234 935.527 90.6447 930.944 Q87.5892 926.338 87.5892 917.611 Q87.5892 908.861 90.6447 904.278 Q93.7234 899.671 99.5335 899.671 Z\" fill=\"#000000\" fill-rule=\"nonzero\" fill-opacity=\"1\" /><path clip-path=\"url(#clip590)\" d=\"M91.5706 666.851 L99.2095 666.851 L99.2095 640.485 L90.8993 642.152 L90.8993 637.893 L99.1632 636.226 L103.839 636.226 L103.839 666.851 L111.478 666.851 L111.478 670.786 L91.5706 670.786 L91.5706 666.851 Z\" fill=\"#000000\" fill-rule=\"nonzero\" fill-opacity=\"1\" /><path clip-path=\"url(#clip590)\" d=\"M95.1586 402.781 L111.478 402.781 L111.478 406.716 L89.5336 406.716 L89.5336 402.781 Q92.1956 400.027 96.7789 395.397 Q101.385 390.744 102.566 389.402 Q104.811 386.879 105.691 385.142 Q106.594 383.383 106.594 381.693 Q106.594 378.939 104.649 377.203 Q102.728 375.467 99.6261 375.467 Q97.4271 375.467 94.9734 376.23 Q92.5428 376.994 89.7651 378.545 L89.7651 373.823 Q92.5891 372.689 95.0428 372.11 Q97.4965 371.531 99.5335 371.531 Q104.904 371.531 108.098 374.217 Q111.293 376.902 111.293 381.392 Q111.293 383.522 110.483 385.443 Q109.696 387.342 107.589 389.934 Q107.01 390.605 103.909 393.823 Q100.807 397.017 95.1586 402.781 Z\" fill=\"#000000\" fill-rule=\"nonzero\" fill-opacity=\"1\" /><path clip-path=\"url(#clip590)\" d=\"M104.348 124.012 Q107.705 124.73 109.58 126.999 Q111.478 129.267 111.478 132.6 Q111.478 137.716 107.959 140.517 Q104.441 143.318 97.9595 143.318 Q95.7836 143.318 93.4688 142.878 Q91.1771 142.461 88.7234 141.605 L88.7234 137.091 Q90.6678 138.225 92.9826 138.804 Q95.2974 139.383 97.8206 139.383 Q102.219 139.383 104.51 137.647 Q106.825 135.911 106.825 132.6 Q106.825 129.545 104.672 127.832 Q102.543 126.096 98.7234 126.096 L94.6956 126.096 L94.6956 122.253 L98.9085 122.253 Q102.358 122.253 104.186 120.887 Q106.015 119.499 106.015 116.906 Q106.015 114.244 104.117 112.832 Q102.242 111.397 98.7234 111.397 Q96.8021 111.397 94.603 111.813 Q92.4039 112.23 89.7651 113.11 L89.7651 108.943 Q92.4271 108.202 94.7419 107.832 Q97.0798 107.462 99.14 107.462 Q104.464 107.462 107.566 109.892 Q110.668 112.3 110.668 116.42 Q110.668 119.29 109.024 121.281 Q107.381 123.249 104.348 124.012 Z\" fill=\"#000000\" fill-rule=\"nonzero\" fill-opacity=\"1\" /><polyline clip-path=\"url(#clip592)\" style=\"stroke:#009af9; stroke-linecap:round; stroke-linejoin:round; stroke-width:4; stroke-opacity:1; fill:none\" points=\"209.891,1445.72 231.369,1431.7 357.164,1349.6 415.683,1311.41 494.121,1260.22 558.936,1217.92 619.206,1178.59 694.866,1129.21 762.734,1084.92 840.418,1034.22 898.487,996.326 972.757,947.856 1040.54,903.617 1117.7,853.267 1178.85,813.354 1254.84,763.766 1313.03,725.791 1395.07,672.25 1456.37,632.24 1526.09,586.74 1595.14,541.68 1671.1,492.105 1729.12,454.238 1802.34,406.453 1870.06,362.257 1939.91,316.677 2010.7,270.476 2084.62,222.234 2142.85,184.231 2275.46,97.6863 2290.34,87.9763 \"/>\n",
       "<polyline clip-path=\"url(#clip592)\" style=\"stroke:#e26f46; stroke-linecap:round; stroke-linejoin:round; stroke-width:4; stroke-opacity:1; fill:none\" points=\"209.891,1027.47 231.369,1014.57 357.164,934.791 415.683,896.634 494.121,846.317 526.529,826.202 558.936,806.673 589.071,789.149 619.206,772.336 638.121,762.189 657.036,752.382 675.951,742.935 694.866,733.87 711.833,726.079 728.8,718.626 745.767,711.521 762.734,704.78 782.155,697.522 801.576,690.772 820.997,684.544 840.418,678.853 869.452,671.374 898.487,665.162 917.054,661.868 935.622,659.113 954.19,656.902 972.757,655.24 989.704,654.205 1006.65,653.632 1023.6,653.522 1040.54,653.875 1059.83,654.84 1079.12,656.401 1098.41,658.555 1117.7,661.298 1132.98,663.887 1148.27,666.837 1163.56,670.146 1178.85,673.808 1197.85,678.841 1216.84,684.401 1235.84,690.474 1254.84,697.048 1283.93,708.054 1313.03,720.142 1333.54,729.281 1354.05,738.903 1374.56,748.984 1395.07,759.499 1425.72,775.961 1456.37,793.236 1491.23,813.743 1526.09,835.02 1560.61,856.695 1595.14,878.813 1671.1,928.245 1729.12,965.842 1765.73,989.102 1802.34,1011.78 1836.2,1032.07 1870.06,1051.56 1904.99,1070.67 1939.91,1088.65 1975.3,1105.57 2010.7,1121.05 2029.18,1128.53 2047.66,1135.56 2066.14,1142.14 2084.62,1148.25 2113.74,1156.89 2142.85,1164.3 2159.43,1167.95 2176.01,1171.17 2192.58,1173.98 2209.16,1176.35 2225.73,1178.29 2242.31,1179.79 2258.89,1180.85 2275.46,1181.47 2279.18,1181.55 2282.9,1181.6 2286.62,1181.63 2290.34,1181.65 \"/>\n",
       "<polyline clip-path=\"url(#clip592)\" style=\"stroke:#3da44d; stroke-linecap:round; stroke-linejoin:round; stroke-width:4; stroke-opacity:1; fill:none\" points=\"614.523,917.576 614.523,774.899 1237.78,774.899 1237.78,691.122 1366.15,691.122 1366.15,744.798 1283.9,744.798 1283.9,708.042 1340.22,708.042 1340.22,732.366 1302.95,732.366 1302.95,715.837 1328.28,715.837 1328.28,726.891 1311.34,726.891 1311.34,719.413 1322.8,719.413 1322.8,724.434 1315.1,724.434 1315.1,721.045 1320.3,721.045 \"/>\n",
       "</svg>\n"
      ]
     },
     "execution_count": 4,
     "metadata": {},
     "output_type": "execute_result"
    }
   ],
   "source": [
    "gcobweb(cos,-1,-2,π,10)"
   ]
  },
  {
   "cell_type": "markdown",
   "id": "cf358c2f",
   "metadata": {},
   "source": [
    "**3/5 pts (9/5 de 10)**\n",
    "\n",
    "**Nota:** Muy bien! Les recomiendo hacer una animación del diagrama de cobweb conforme `x₀` se mueve entre `a` y `b`. "
   ]
  },
  {
   "cell_type": "markdown",
   "id": "5eb9ed76",
   "metadata": {},
   "source": [
    "[4] **Ley de Zipf:** Para este ejercicio primero necesitas revisar cómo abrir un archivo txt y leerlo (para evitar copiar a mano un texto). Para esto usa el archivo \"100AñosDeSoledad.txt\" que viene junto con esta tarea y prueba lo siguiente:\n",
    "\n",
    "archivo = open(\"100AñosDeSoledad.txt\") \n",
    "\n",
    "texto = read(archivo, String) \n",
    "\n",
    "close(archivo)\n",
    "\n",
    "La primera parte abre el archivo, la segunda linea lee el archvio y pone el texto en la variable texto y la última linea cierra el archivo (para que se pueda usar en algo más).\n",
    "\n",
    "La tarea consiste en contar cuantas veces aparece cada palabra (usando las funciones que hiciste en la tarea pasada) y con ello hacer un histograma de ese conteo que esté ordenado por la frecuencia con la que aparecen las palabras, es decir, la primera palabra es la que más veces se repite y la última palabra es la que menos veces aparece en el texto. \n",
    "\n",
    "La gráfica hazla en escala logarítimca tanto en el eje x, como en el eje y (nota que si tienes 0's en tu conteo tendrás problemas para graficar, porque log(0) = -Inf). Pon además etiquetas a los ejes, el eje x \"palabras\", el eje y el $\\LaTeX$ \"P\". \n",
    "\n",
    "Además agrega a este histograma una ley de potencia (una curva de la forma $y(x) = a x^\\lambda$) que aproxime como decae el histograma (haz el ajuste a \"ojo\"). Agrega en este caso la etiqueta $y(x) = a x^\\lambda$ a esta curva (sin que haya una etiqueta para el histograma). "
   ]
  },
  {
   "cell_type": "code",
   "execution_count": null,
   "id": "663d6164",
   "metadata": {},
   "outputs": [],
   "source": [
    "archivo = open(\"100AñosDeSoledad.txt\")\n",
    "texto = read(archivo, String)\n",
    "close(archivo)"
   ]
  },
  {
   "cell_type": "code",
   "execution_count": null,
   "id": "9721f0d2",
   "metadata": {},
   "outputs": [],
   "source": [
    "function palacompu(x)\n",
    "    ϕ = lowercase(x)\n",
    "    θ = replace(ϕ, \"á\" => \"a\",\"é\" => \"e\",\"í\" => \"i\",\"ó\" => \"o\",\"ú\" => \"u\",\"ñ\" => \"gn\",\"¿\" => \"\",\"\\\"\" => \"\",\"¡\" => \"\",\"~\" => \"\",\"-\" => \"\",\"_\" => \"\",\":\" => \"\",\"^\" => \"\",\"*\" => \"\",\"#\" => \"\",\"\\'\" => \"\",\"%\" => \"\",\"\\$\" => \"\",\"&\" => \"\",\"/\" => \"\",\"=\" => \"\",\"@\" => \"\",\"<\" => \"\",\">\" => \"\",\"|\" => \"\",\"°\" => \"\",\"¬\" => \"\",\"ü\" => \"\",\"Á\" => \"A\",\"É\" => \"E\",\"Í\" => \"I\",\"Ó\" => \"O\",\"Ú\" => \"U\",\"(\" => \"\",\")\" => \"\",\"{\" => \"\",\"}\" => \"\",\"[\" => \"\",\"]\" => \"\",\"¡\" => \"\",\"¿\" => \"\",\".\" => \"\",\",\" => \";\",\"+\" => \"\",\"\\n\" => \"\")\n",
    "    α = split(θ,\" \")\n",
    "    β = unique(α)\n",
    "    γ = sort!([(i,count(x -> i == x ,α)) for i ∈ β], by = x -> x[2])\n",
    "    return first.(γ),last.(γ)\n",
    "end"
   ]
  },
  {
   "cell_type": "code",
   "execution_count": null,
   "id": "47aa28b6",
   "metadata": {},
   "outputs": [],
   "source": [
    "#print(palacompu(texto))"
   ]
  },
  {
   "cell_type": "code",
   "execution_count": null,
   "id": "9c0e02b3",
   "metadata": {},
   "outputs": [],
   "source": [
    "h = palacompu(texto)[2]"
   ]
  },
  {
   "cell_type": "code",
   "execution_count": null,
   "id": "e6c253bb",
   "metadata": {},
   "outputs": [],
   "source": [
    "scatter(log10.(1:length(h)),log10.(reverse(h)))\n",
    "k(x,a,n) = a*(x^n)\n",
    "σ = k.(Float64.(1:length(h)),10000,-1)\n",
    "plot!(log10.(1:length(h)),log10.(σ))"
   ]
  },
  {
   "cell_type": "markdown",
   "id": "7783f0e9",
   "metadata": {},
   "source": [
    "**3/5 pts (12/5 de 10)**\n",
    "\n",
    "**Nota:** Muy bien! ¿Qué pueden interpretar a partir de la gráfica acerca de la distribución de las palabras en un idioma?"
   ]
  },
  {
   "cell_type": "markdown",
   "id": "d5516062",
   "metadata": {},
   "source": [
    "[5] Algoritmo de la fotocopiadora (este ejercicio está un poco difícil aunque sea básico):  La idea de este ejercicio y el siguiente es crear las funciones que nos permitan hacer un fractal. Haz una función que tome como argumento una imagen cualquiera y una matriz de $2 \\times 2$ que representa la transformación de la imange (que se conforma según SVD por 3 matrices de la forma $U D V_t$, donde $U$ y $V_t$ son matrices unitarias y $D$ es una matriz diagonal) y regrese una imagen que sea una copia transformada de la original. Supon tu imagen original centrada en el origen.  \n",
    "\n",
    "Prueba tu función con una matriz de rotación, una de reflexión, una matriz diagonal positiva (que estire-contraiga los ejes $x$ y $y$) y una matriz que sea combinación de las 3 mencionadas antes. \n",
    "\n",
    "**Nota:** En el proceso de transformación los pixeles deben cambiar de forma. Ve cada pixel como un cuadrado de $1\\times1$. Al aplicarle la transformación, el pixel pasará a ser un rombo. Cubre ese rombo con pixeles del mismo color y cuadrados de $1\\times 1$ que estén en coordenadas enteras (o sea, pixeles normales). En este proceso de forma genérica, tendrás pixeles encimados. Puedes elegir cualquier función para elegir qué pixel conservas (por ejemplo, aleatoriamente). \n",
    "\n",
    "**Nota2:** Se vale usar cualquier paquetería, siempre y cuando se cumpla lo que se pide en el ejercicio."
   ]
  },
  {
   "cell_type": "code",
   "execution_count": null,
   "id": "25639a1c",
   "metadata": {},
   "outputs": [],
   "source": [
    "function rotacion(imagen,matriz_rotacion)\n",
    "    coordenadas = [[i,j] for i in 1:size(imagen,1), j in 1:size(imagen,2)]\n",
    "    centro = [(1/2)*round(size(imagen,1)), (1/2)*round(size(imagen,2))] #Hallar el centro de la imagen para obtener nuevas coordenadas\n",
    "    coordenadas = [coordenadas[i,j]-centro for i in 1:size(imagen,1), j in 1:size(imagen,2)]\n",
    "        \n",
    "    #coordenadas_transformadas = [matriz_rotacion*coordenadas[i,j] for i in 1:size(imagen,1), j in 1:size(imagen,2)]\n",
    "    #=\n",
    "    valores_rojo = [Imagen[i,j].r for i in 1:size(imagen,1), j in 1:size(imagen,2)]\n",
    "    valores_verde = [Imagen[i,j].g for i in 1:size(imagen,1), j in 1:size(imagen,2)]\n",
    "    valores_azul = [Imagen[i,j].b for i in 1:size(imagen,1), j in 1:size(imagen,2)]\n",
    "    \n",
    "    fondo = zeros(round(), floor(2*sqrt(2)*size(imagen,2))   \n",
    "    \n",
    "    valores_rojo = [valores_rojo[floor(coordenadas_transformadas[i][j]),floor(coordenadas_transformadas[i][j])] for i in 1:size(imagen,1), j in 1:size(imagen,2)]\n",
    "    valores_verde = [valores_verde[floor(coordenadas_transformadas[i][j]),floor(coordenadas_transformadas[i][j])]  for i in 1:size(imagen,1), j in 1:size(imagen,2)]\n",
    "    valores_azul = [valores_azul[floor(coordenadas_transformadas[i][j]),floor(coordenadas_transformadas[i][j])]  for i in 1:size(imagen,1), j in 1:size(imagen,2)]\n",
    "    =#\n",
    "        \n",
    "    #imagen_transformada = [RGB(valores_rojo[i,j],valores_verde[i,j],valores_azul[i,j]) for i in 1:s]\n",
    "    return coordenadas\n",
    "end\n",
    "\n",
    "rotacion(monte_fuji, [0 -1; 1 0])\n",
    "#rotacion(monte_fuji, [0 -1; 1 0])[1][2]"
   ]
  },
  {
   "cell_type": "markdown",
   "id": "b3694326",
   "metadata": {},
   "source": [
    "**0 pts (12/5 de 10)**"
   ]
  },
  {
   "cell_type": "markdown",
   "id": "4d696ed0",
   "metadata": {},
   "source": [
    "[6] Haz una función que dados un arreglo de matrices de $2\\times 2$, un arreglo de traslaciones (vectores de 2 entradas enteras) y una imagen, regrese otra imagen que sea un collage de copias de la primera a las que se les aplicó las transformaciones dadas en el arreglo de matrices y después se trasladaron por los vectores dados en el arreglo de traslaciones. \n",
    "\n",
    "Prueba tu función con 3 transformaciones que reduzcan a un tercio el área de la imagen y que approximadamente mantengan la proporción de la imagen y traslaciones que coloquen a las 3 copias en los vértices de un triángulo de tal forma que las 3 imágenes se toquen, pero no se encimen.  Repite 4 o 5 veces el proceso para obtener con tu imagen un triángulo de Sierpinski. "
   ]
  },
  {
   "cell_type": "code",
   "execution_count": null,
   "id": "3197972d",
   "metadata": {},
   "outputs": [],
   "source": []
  },
  {
   "cell_type": "markdown",
   "id": "71d2c238",
   "metadata": {},
   "source": [
    "**0 pts (12/5 de 10)**"
   ]
  },
  {
   "cell_type": "markdown",
   "id": "ebfa48f6",
   "metadata": {},
   "source": [
    "[7] Con la función que hiciste en el ejercicio anterior, produce diferentes fractales. En particular obtén un fractal de árbol, uno de helecho y uno formado por 3 transformaciones que corresponde a rotaciones y contracciones de tal forma que un cuadrado unitario lo transformen en 3 cuadrados que no se enciman y donde uno de sus lados es un lado de un triángulo (como la típica imagen para probar el teorema de pitágoras). "
   ]
  },
  {
   "cell_type": "code",
   "execution_count": null,
   "id": "b83e57ed",
   "metadata": {},
   "outputs": [],
   "source": []
  },
  {
   "cell_type": "markdown",
   "id": "38a50a02",
   "metadata": {},
   "source": [
    "**0 pts (12/5 de 10)**"
   ]
  },
  {
   "cell_type": "markdown",
   "id": "eabca02a",
   "metadata": {},
   "source": [
    "[8] Un círculo es casi un polígono regular de $n$ lados si $n$ es grande. Visualmente, un polígono de 100 lados es más que suficiente para ver un círculo. Usando esto para hacer una función \"plotcirculo!(x,r)\" que grafique un círculo dada la posición $x$ y el radio $r$.  En tu función utiliza el argumento \"...\" para que puedas incluir color, grueso de línea, transparencia, rellenado, etc. Usa esta función para dibujar círculos en un arreglo triangular (en total 100 círculos), rellenos y con colores aleatorios (usando RGB). Luego repite lo anterior, pero esta vez con elipses (necesitarás ahora dar un eje mayor, eje menor, ángulo de inclinación y posición del centro). En el dibujo de las 100 elipses, pon los ángulos de giro aleatoriamente. \n",
    "\n",
    "**Nota:** En Julia se tiene como convención que si el nombre de la función termina con !, entonces se debe actualizar alguna variable global. En este caso, el ! significa se actualiza la gráfica, es decir, que se debe de graficar sobre una gráfica ya existente y no borrar la gráfica. "
   ]
  },
  {
   "cell_type": "code",
   "execution_count": null,
   "id": "bbf23da8",
   "metadata": {
    "scrolled": true
   },
   "outputs": [],
   "source": [
    "#Dividimos la función en 3 partes, la primera es para generar un 'circulo'\n",
    "function genera_circulo(centro, radio; n_vertices=100,kwargs...)\n",
    "    θ = 2*π/(n_vertices) #Angulo formado por los vertices del poligono\n",
    "    puntos_x = [centro[1] + radio*cos(θ*i) for i in 0:n_vertices-1]\n",
    "    puntos_y = [centro[2] + radio*sin(θ*i) for i in 0:n_vertices-1]\n",
    "    plot(puntos_x, puntos_y; kwargs...)\n",
    "end\n",
    "\n",
    "function genera_circulo!(centro, radio; n_vertices=100,kwargs...)\n",
    "    θ = 2*π/(n_vertices) #Angulo formado por los vertices del poligono\n",
    "    puntos_x = [centro[1] + radio*cos(θ*i) for i in 0:n_vertices-1]\n",
    "    puntos_y = [centro[2] + radio*sin(θ*i) for i in 0:n_vertices-1]\n",
    "    plot!(puntos_x, puntos_y; kwargs...)\n",
    "end\n",
    "\n",
    "#\n",
    "\n",
    "#Parte 2: Graficamos sucesivos círculos \n",
    "\n",
    "#Genera un elipse\n",
    "function genera_elipse(centro,eje_mayor,eje_menor,ϕ=0;n_vertices=100,kwargs...)\n",
    "    θ=2*π/n_vertices\n",
    "    puntos_x = [centro[1]+(eje_mayor/2)*cos(θ*i)*cos(ϕ)-(eje_menor/2)*sin(ϕ)*sin(θ*i) for i in 0:n_vertices-1]\n",
    "    puntos_y = [centro[2]+(eje_menor/2)*sin(θ*i)*cos(ϕ)+(eje_mayor/2)*cos(θ*i)*sin(ϕ) for i in 0:n_vertices-1] \n",
    "    plot(puntos_x,puntos_y;kwargs...)\n",
    "end\n",
    "\n",
    "function genera_elipse!(centro,eje_mayor,eje_menor,ϕ=0;n_vertices=100,kwargs...)\n",
    "    θ=2*π/n_vertices\n",
    "    puntos_x = [centro[1]+(eje_mayor/2)*cos(θ*i)*cos(ϕ)-(eje_menor/2)*sin(ϕ)*sin(θ*i) for i in 0:n_vertices-1]\n",
    "    puntos_y = [centro[2]+(eje_menor/2)*sin(θ*i)*cos(ϕ)+(eje_mayor/2)*cos(θ*i)*sin(ϕ) for i in 0:n_vertices-1] \n",
    "    plot!(puntos_x,puntos_y;kwargs...)\n",
    "end\n",
    "\n",
    "#genera arreglo de circulos\n",
    "function genera_arreglo_de_circulos(num_figuras,centro,radio, pilas_de_figuras; n_vertices=100)\n",
    "    contador=0 \n",
    "    bandera_centro = centro\n",
    "    r,g,b = rand(Float16),rand(Float16),rand(Float16)\n",
    "    genera_circulo(centro,radio,color=RGB(r,g,b),fill = (0, 0,RGB(r,g,b)))\n",
    "    for i in 2:pilas_de_figuras\n",
    "        contador+=i\n",
    "        centro=[centro[1]+(2+0.05)*radio*cos(5*π/4), centro[2]+(2+0.1)*radio*sin(5*π/4)]\n",
    "        r,g,b=rand(Float16),rand(Float16),rand(Float16)\n",
    "        genera_circulo!(centro,radio,color=RGB(r,g,b),fill = (0, 0,RGB(r,g,b)))\n",
    "        for i in 1:i-1\n",
    "            bandera_centro=[centro[1]+(2+0.7)*i*radio, centro[2]]\n",
    "            r,g,b = rand(Float16),rand(Float16),rand(Float16)\n",
    "            genera_circulo!(bandera_centro,radio,color=RGB(r,g,b),leg = false, fill = (0, 0,RGB(r,g,b)),\n",
    "                            aspect_ratio = 1)\n",
    "        end\n",
    "        if(contador>=num_figuras)\n",
    "            #print(i,\"*\",j)\n",
    "            break\n",
    "        end\n",
    "    end\n",
    "    plot!()\n",
    "end\n",
    "\n",
    "genera_arreglo_de_circulos(100,[20,20],1,25)"
   ]
  },
  {
   "cell_type": "code",
   "execution_count": null,
   "id": "eb686d74",
   "metadata": {},
   "outputs": [],
   "source": [
    "# genera arreglo de elipses\n",
    "\n",
    "function genera_arreglo_de_elipses(num_figuras,centro,eje_mayor,eje_menor,tope;n_vertices=100)\n",
    "    contador=0 \n",
    "    bandera_centro = centro\n",
    "    r,g,b,ϕ = rand(Float16),rand(Float16),rand(Float16), rand(Float16)\n",
    "    genera_elipse(centro,eje_mayor,eje_menor,ϕ,color=RGB(r,g,b),fill = (0, 0,RGB(r,g,b)))\n",
    "    for i in 2:tope\n",
    "        contador+=i\n",
    "        centro=[centro[1]+(eje_mayor+0.15)*cos(5*π/4), centro[2]+(eje_mayor+0.1)*sin(5*π/4)]\n",
    "        r,g,b,ϕ=rand(Float16),rand(Float16),rand(Float16), rand(Float16)\n",
    "        genera_elipse!(centro,eje_mayor,eje_menor,ϕ,color=RGB(r,g,b),fill = (0, 0,RGB(r,g,b)))\n",
    "        for i in 1:i-1\n",
    "            bandera_centro=[centro[1]+(0.5+eje_mayor)*i, centro[2]]\n",
    "            r,g,b = rand(Float16),rand(Float16),rand(Float16)\n",
    "            genera_elipse!(bandera_centro,eje_mayor,eje_menor,ϕ,color=RGB(r,g,b),fill = (0, 0,RGB(r,g,b)), leg = false,\n",
    "                            aspect_ratio = 1)\n",
    "        end\n",
    "        if(contador>=num_figuras) \n",
    "            break\n",
    "        end\n",
    "    end\n",
    "    plot!()\n",
    "end\n",
    "\n",
    "genera_arreglo_de_elipses(100,[25,25],1,0.5,25)"
   ]
  },
  {
   "cell_type": "markdown",
   "id": "1d0fdfb6",
   "metadata": {},
   "source": [
    "**3/5 pts (3 / 10)**\n",
    "\n",
    "**Nota:** Muy bien! En este caso les recomiendo fijar el parámetro `aspect_ratio = 1` para que se vean bien sus círculos. "
   ]
  },
  {
   "cell_type": "markdown",
   "id": "0b1cee45",
   "metadata": {},
   "source": [
    "[9] **Convoluciones:** Una de las ventajas de trabajar con imágenes en Julia (o cualquier lenguaje de programación), es que uno puede hacer funciones que apliquen automáticamente algún efecto que se quiera. Algunas de las transformaciones más útiles son algo que se conoce como convoluciones. Para hacer una convolución primero necesitamos generar una función para mezclar colores de un cuadrado de $(2n+1)\\times (2n+1)$ pixeles (típicamente elegimos $n = 1$), que se le conoce como Kernel. Por ejemplo, digamos que queremos hacer un kernel que promedie colores. Para cada pixel (que es un objeto RGB), obtenemos la cantidad de rojo, verde y azul que tiene usando pixel[i,j].r, pixel[i,j].g y pixel[i,j].b, luego, en la nueva imágen tendremos que pixel_nueva_imagen[i,j] = RGB((pixel[i,j].r+pixel[i,j+1].r+pixel[i,j-1].r+...)/9, (pixel[i,j].g+pixel[i,j+1].g+pixel[i,j-1].g+...)/9, (pixel[i,j].b+pixel[i,j+1].b+pixel[i,j-1].b+...)/9). \n",
    "\n",
    "Aquí hay que notar que cuando i o j corresponden a la frontera, no existirán algunos de los vecinos. En ese caso se puede sustituir el vecino por un color fijo, por ejemplo negro o blanco. \n",
    "\n",
    "Haz una función para obtener la convolución usando la regla del promedio. Pruébalo con varias fotografías, ¿qué notas? es decir ¿qué es lo que parece que hace esta convolución?  "
   ]
  },
  {
   "cell_type": "code",
   "execution_count": null,
   "id": "5c04e38b",
   "metadata": {
    "scrolled": true
   },
   "outputs": [],
   "source": [
    "#=\n",
    "Primero definimos unas funciones de manera global que \n",
    "utilizaremos en este ejercicio y el siguiente\n",
    "=#\n",
    "\n",
    "function obtener_color(pixel,i,j,k,l,color) #Obtener el color de un pixel en específico\n",
    "    if color == \"rojo\"\n",
    "        return pixel[i+k,j+l].r #Obtenemos rojo\n",
    "    elseif color == \"azul\"\n",
    "        return pixel[i+k,j+l].b #Obtenemos azul\n",
    "    elseif color == \"verde\"\n",
    "        return pixel[i+k,j+l].g #Obtenemos verde\n",
    "    else\n",
    "        error(\"No permitido\")\n",
    "    end\n",
    "end\n",
    "    \n",
    "function evaluar_pixel(pixel,i,j,k,l,color) #Vemos si el pixel se encuentra definido (i.e. si no está fuera de los bordes)\n",
    "    if i+k<=0 || j+l<=0 || i+k> size(pixel,1) || j+l> size(pixel,2)\n",
    "        return 0 #Si no es así, su valor es cero\n",
    "    else\n",
    "        return obtener_color(pixel,i,j,k,l,color) #En otro caso obtenemos el color\n",
    "    end\n",
    "end\n",
    "\n",
    "function convolucion_box_blur(imagen,n=1) #Funcion de convolucion para box_blur\n",
    "    \n",
    "    function promedio_vecindad(pixel,i,j,color) #Obtiene los valores promedio de una vecindad de 3x3 dado un pixel\n",
    "        valores = [mean([evaluar_pixel(pixel,i,j,k,l,color) for k in -n:n]) for l in -n:n]\n",
    "        return mean(valores)\n",
    "    end\n",
    "    \n",
    "    #Obtenemos los promedios por cada coordenada\n",
    "    promedio_rojo = [promedio_vecindad(imagen,i,j,\"rojo\") for i in 1:size(imagen,1), j in 1:size(imagen,2)]\n",
    "    promedio_verde = [promedio_vecindad(imagen,i,j,\"verde\") for i in 1:size(imagen,1), j in 1:size(imagen,2)]\n",
    "    promedio_azul = [promedio_vecindad(imagen,i,j,\"azul\") for i in 1:size(imagen,1), j in 1:size(imagen,2)]\n",
    "    #Obtenemos la convolución con ayuda de los promedios y devolvemos\n",
    "    convolucion = [RGB(promedio_rojo[i,j], promedio_verde[i,j], promedio_azul[i,j]) for i in 1:size(imagen,1), j in 1:size(imagen,2)]\n",
    "    return convolucion \n",
    "end\n",
    "\n",
    "#Cargamos una imagen de ejemplo\n",
    "#monte_fuji = load(\"monte_fuji.jpg\")\n",
    "using TestImages\n",
    "monte_fuji = testimage(\"peppers_color.tif\")\n",
    "convolucion_box_blur(monte_fuji)"
   ]
  },
  {
   "cell_type": "markdown",
   "id": "4dcce2df",
   "metadata": {},
   "source": [
    "**3/5 pts (18/5 de 10)**\n",
    "\n",
    "**Nota:**\n",
    "- En vez de \n",
    "```julia\n",
    "valores = [mean([evaluar_pixel(pixel,i,j,k,l,color) for k in -n:n]) for l in -n:n]\n",
    "```\n",
    "debería ser \n",
    "```julia\n",
    "valores = sum([evaluar_pixel(pixel,i,j,k,l,color) for k in -n:n for l in -n:n])\n",
    "```\n",
    "- En vez de hacer cero las contribuciones fuera de la imagen lo mejor sería añadirle a la imagen un marco (negro o blanco) lo suficientemente grueso como para calcular los pixeles de la frontera. \n",
    "- Les faltó asegurarse de que los colores estén entre 0 y 1. "
   ]
  },
  {
   "cell_type": "markdown",
   "id": "e8d103dc",
   "metadata": {},
   "source": [
    "[10] **Convoluciones-continuación:** Ahora haz una función que dado un Kernel (una matriz de $(2n+1)\\times (2n+1)$ que dice cual es el peso de cada pixel vecino y el mismo pixel involucrado a la hora de sumar (o restar) colores), que obtenga la imágen convolucionada. \n",
    "\n",
    "prueba usando estos algunos de estos kernels: https://en.wikipedia.org/wiki/Kernel_(image_processing) sobre las imágenes de tu preferencia. \n",
    "\n",
    "**Nota:** En la lista de kernels de wikipedia vienen algunos donde pueden salir proporciones negativas de algún color. No tiene sentido $RGB(-1,0,0)$, así que la regla es: si algún color tiene más de 1, entonces se vuelve 1 y si tiene menos de 0, se vuelve 0. "
   ]
  },
  {
   "cell_type": "code",
   "execution_count": null,
   "id": "fcb29d86",
   "metadata": {},
   "outputs": [],
   "source": [
    "#funcion para la convolucion de un pixel dado un kernel\n",
    "function kernel_convolucion(pixel,kernel,x,y,n,color)\n",
    "    #Obtiene la convolucion de una vecindad de (2n+1,2n+1) por color\n",
    "    if color == \"rojo\"\n",
    "        suma = sum([evaluar_pixel(pixel,x,y,i,j,\"rojo\")*kernel[n+1+i,n+1+j] for i in -n:n, j in -n:n])\n",
    "    elseif color == \"verde\"\n",
    "        suma = sum([evaluar_pixel(pixel,x,y,i,j,\"verde\")*kernel[n+1+i,n+1+j] for i in -n:n, j in -n:n])\n",
    "    elseif color == \"azul\"\n",
    "        suma = sum([evaluar_pixel(pixel,x,y,i,j,\"azul\")*kernel[n+1+i,n+1+j] for i in -n:n, j in -n:n])\n",
    "    else\n",
    "        error(\"No permitido\")\n",
    "    end\n",
    "    \n",
    "    #Evaluamos por casos la suma de la convolucion obtenida\n",
    "    if suma < 0\n",
    "        return 0\n",
    "    elseif suma > 1\n",
    "        return 1\n",
    "    else \n",
    "        return suma \n",
    "    end \n",
    "end\n",
    "\n",
    "function convolucion(imagen,kernel,n) #Funcion principal de convolucion, 'n' es la n del kernel (2n+1, 2n+1)\n",
    "    \n",
    "    #Obtenemos los colores convolucionados de cada pixel de la imagen\n",
    "    rojo_convolucionado = [kernel_convolucion(imagen,kernel,i,j,n,\"rojo\") for i in 1:size(imagen,1), j in 1:size(imagen,2)]\n",
    "    azul_convolucionado = [kernel_convolucion(imagen,kernel,i,j,n,\"verde\") for i in 1:size(imagen,1), j in 1:size(imagen,2)]\n",
    "    verde_convolucionado = [kernel_convolucion(imagen,kernel,i,j,n,\"azul\") for i in 1:size(imagen,1), j in 1:size(imagen,2)]\n",
    "\n",
    "    #Juntamos todos los colores convolucionados en una sola imagen para obtener la imagen convolucionada\n",
    "    imagen_convolucionada = [RGB(rojo_convolucionado[i,j], verde_convolucionado[i,j],azul_convolucionado[i,j]) for i in 1:size(imagen,1), j in 1:size(imagen,2)]\n",
    "    return imagen_convolucionada\n",
    "end"
   ]
  },
  {
   "cell_type": "code",
   "execution_count": null,
   "id": "903d199f",
   "metadata": {},
   "outputs": [],
   "source": [
    "#Pruebas de nuestra convolucion\n",
    "#kernel_ridge = [-1 -1 -1; -1 8 -1; -1 -1 -1]\n",
    "#convolucion(monte_fuji,kernel_ridge,1)\n",
    "\n",
    "#kernel_gaussian_blur_5x5 = (1/256)*[1 4 6 4 1; 4 16 24 16 4; 6 24 36 24 6; 4 16 24 16 4; 1 4 6 4 1]\n",
    "#convolucion(monte_fuji,kernel_gaussian_blur_5x5,2)\n",
    "\n",
    "#beavis_and_butthead = load(\"Beavis-and-Butthead.jpg\")\n",
    "convolucion(monte_fuji,kernel_gaussian_blur_5x5,2)"
   ]
  },
  {
   "cell_type": "code",
   "execution_count": null,
   "id": "27299562",
   "metadata": {},
   "outputs": [],
   "source": [
    "convolucion(monte_fuji,kernel_ridge,1)"
   ]
  },
  {
   "cell_type": "markdown",
   "id": "794e83fe",
   "metadata": {},
   "source": [
    "**3/5 pts (21/5 de 10)**\n",
    "\n",
    "**Nota:** En este ejercicio corrigen dos de los comentarios que les hice en el ejercicio anterior. Sin embargo, les falta el marco (negro o blanco). Creo que esa es la razón por la cual su gaussian blurr en vez de devolver la imagen borrosa, cambia los colores. "
   ]
  },
  {
   "cell_type": "markdown",
   "id": "7cd943eb",
   "metadata": {},
   "source": [
    "## Ejercicios avanzados\n",
    "\n",
    "**Para sacar 7:** Partícula en una caja cuadrada\n",
    "\n",
    "(i) Haz una función que dadas la posición y velocidad de una partícula en 2D, el lado de un cuadrado, el centro de ese cuadrado y el ángulo de inclinación del cuadrado, encuentre dónde colisionará primero la partícula con el cuadrado (si no colisiona con ninguna cara, entonces regresa (Inf, Inf)).\n",
    "\n",
    "(ii) Haz otra función que \"refleje\" la velocidad de la partícula al colicionar con la cara del cuadrado siguiendo la ley de Snell.\n",
    "\n",
    "(iii) Finalmente haz una animación  de una partícula rebotando dentro de una caja cuadrada de lado 1 rotada un ángulo  𝜋/5 , con velocidad inicial  (1,0)  y posición inicial  (0,0). Esta parte no es trivial, pues debes de poner pasos de tiempo fijos (y pequeños). Es decir, en cada paso de tiempo tienes que avanzar la partícula $\\vec{v}\\cdot dt$ si no hay colisión y si hay colisión debes de hacerlo en 2 pasos, avanzar la partícula hasta que hay la colisión un tiempo $dt'$ y después avanzarla el tiempo $dt-dt'$ ya con la nueva velocidad. En la animación asegúrate de dibujar la trayectoria de la partícula (para esto puedes usar tus objetos Segmento). \n"
   ]
  },
  {
   "cell_type": "code",
   "execution_count": null,
   "id": "bae65584",
   "metadata": {},
   "outputs": [],
   "source": [
    "function colision_cuadrado(pos, vel, lado_cuadrado, centro_cuadrado, angulo_inclinacion)\n",
    "    \n",
    "    return posicion_colision\n",
    "end\n"
   ]
  },
  {
   "cell_type": "markdown",
   "id": "512e46d0",
   "metadata": {},
   "source": [
    "**Para sacar 8** En este problema necesitarás instalar la paquetería <a href=\" https://juliaimages.org/v0.21/imagesegmentation/\">ImageSegmentation</a>. Instala la paquetería si aún no la tienes y cárgala. \n",
    "\n",
    "El propósito es que obtengas una forma de obtener la posición y área de objetos automáticamente. Para hacer las cosas simples, nos restringiremos a fotos de objetos en una hoja de papel blanco (para que el contraste sea mayor). Tienes que hacer una función que dada una foto y algunos parámetros de \"búsqueda\", encuentre todos los objetos de la foto, su posición y el número de pixeles (equivalente al área). \n",
    "\n",
    "Para entender como hacer esto vamos a revisar el ejemplo de las monedas de la paquetería ImagesSegmentation: \n",
    "\n",
    "using Random\n",
    "function get_random_color(seed)\n",
    "    Random.seed!(seed)\n",
    "    rand(RGB{N0f8})\n",
    "end\n",
    "\n",
    "1. using Images, ImageSegmentation\n",
    "2. img = load(download(\"http://docs.opencv.org/3.1.0/water_coins.jpg\"));\n",
    "3. bw = Gray.(img) .> 0.5;\n",
    "4. dist = 1 .- distance_transform(feature_transform(bw));\n",
    "5. markers = label_components(dist .< -15);\n",
    "6. segments = watershed(dist, markers)\n",
    "7. map(i->get_random_color(i), labels_map(segments)) .* (1 .-bw)\n",
    "\n",
    "\n",
    "La función get_random_color(seed), sólo genera un color aleatoriamente para cada número que se de, pero siempre el mismo color para un mismo número. Se podría cambiar por una lista de colores y ya. El resto del código lo explico a continuación:\n",
    "\n",
    "En la primera línea se cargan las paqueterías, la segunda es para cargar la imágen (puedes aquí cargar una imagen propia). En la tercera línea se hace una matriz de \"true\" y \"false\", dependiendo de si la escala en grises es mayor o menor que 0.5 para cada pixel. Aquí puedes cambiar el 0.5 por otra cantidad. Es uno de los parámetros de identificación. \n",
    "\n",
    "La línea 4 es un poco más complicada, pero lo importante es que obtiene la transformada de la distancia, lo cual podemos entenderlo de la siguiente forma. Pensemos en la imagen como una hoja de papel con manchas que evitan que se prenda el papel en cierto grado. Si prendemos fuego desde las orillas del papel, la transformada de distancia nos diría en cada pixel cuánto tardó en quemarse desde que se prendió fuego a las orillas (si dibujas un heatmap de dist, verás esos \"tiempos de quemado\"). \n",
    "\n",
    "En la **línea 5** es la más importante, obtiene una matriz con números enteros. Cada elemento de la matriz corresponde a un pixel y cada número a qué objeto corresponde. Uno puede jugar un poco con ese -15 para ver qué objetos obtiene. \n",
    "\n",
    "La línea 6 se genera una segmentación de la imagen. Prueba heatmap(segments.image_indexmap) para que veas cómo se segmenta la imagen. Cómo lo hace, pues tiene que ver con la distancia que se calculó y reconocer que hay un fondo homogeneo. Entonces, digamos que cada marker emite alguna sustancia. Localiza dónde se encuentran las sustancias por primera vez y así segmenta la imagen. \n",
    "\n",
    "Finalmente la **línea 7** asigna un color aleatoria a cada segmento y después multiplica esto por 1-bw, que es una matriz con 0 si no tiene moneda y 1 si la tiene, de forma que el resultado una matriz de colores, negro si no tienen moneda y algún color aleatorio si sí tiene. \n",
    "\n",
    "Entonces, en el problema tienes que primero hacer una función para transformar las coordenadas de los elementos de una matriz en coordenadas en el espacio $x,y$. Es decir, que cada pixel tenga una coordenada. Luego, hacer una función que dados los dos parámetros (el 0.5 y el -15 en el ejemplo) genere una matriz de enteros donde se tenga 0 si no hay un objeto y un número que corresponda al marker si sí hay objeto. Luego, debes hacer otra función que dada una matriz de enteros $A$, obtenga la posición promedio de los elementos de $A$ que tienen como valor $n$ para cada valor $n$ de $A$. Esa función también debe arrojar el número de elementos de $A$ que tienen valor $n$. Es decir, la función debe arrojar 2 listas, una con las coordenadas de los $N$ objetos y otra con el número de pixeles de los $N$ objetos. Finalmente une todoo para hacer la función que se pide (dada la imagen y los dos parámetros obtener la posición y áreas de todos los objetos). \n",
    "\n",
    "Prueba tu función con una fotografía (que incluyas en la tarea) de varias monedas sobre una hoja de papel blanco. \n",
    "\n"
   ]
  },
  {
   "cell_type": "code",
   "execution_count": null,
   "id": "664bc8cb",
   "metadata": {},
   "outputs": [],
   "source": []
  },
  {
   "attachments": {
    "image.png": {
     "image/png": "[encoded data removed]"
    }
   },
   "cell_type": "markdown",
   "id": "ce4660f2",
   "metadata": {},
   "source": [
    "**Para sacar 9:** Hacer gráficas usando surface es latoso, porque gr, pyplot y plotly tienen diferentes formatos y ninguno es tan agradable. En particular, graficar un poliedro es latoso. Para superar esto se puede generar una función para hacer dibujos 3D desde los 2D (como de hecho se hace siempre) o bien, recurrir a otra paquetería. \n",
    "\n",
    "En este problema se trata de hacer una función para graficar un objeto Poliedro usando perspectiva. Debes agregar los metodos a plot y una plot! para graficar un poliedro, para lo cual tendrás que dar además una \"posición de la cámara\" y la \"dirección de la cámara\" (ver figura).  \n",
    "\n",
    "Deberás hacer la proyección 2D del poliedro según la posición y dirección de la cámara, pero debes de considerar que los objetos se ven más pequeños si están más lejos de la cámara, es decir, la posición de los vértices se debe de modificar (sigue la idea de la figura).  \n",
    "\n",
    "![image.png](attachment:image.png)\n",
    "\n",
    "Prueba tus funciones dibujando varios cubos en posiciones (y giros) aleatorias. \n",
    "\n",
    "**Nota:** <a href=\"https://makie.juliaplots.org/stable/Makie\">Makie</a> es en realidad la buena opción en estos casos. Es una paquetería más poderosa y más bonita que Plots y funciona muy bien para 3D, pero tiene varias dificultades (por las que no la incluí en este curso). Aún así los motivo a revisar la paquetería, sólo háganlo en un notebook aparte, pues es incompatible con Plots. Es decir, no es para esta tarea, es digamos, conocimiento fuera del curso que les puede servir en el futuro. "
   ]
  },
  {
   "cell_type": "code",
   "execution_count": null,
   "id": "bfd0b7fc",
   "metadata": {},
   "outputs": [],
   "source": []
  },
  {
   "cell_type": "markdown",
   "id": "ef6ac60a",
   "metadata": {},
   "source": [
    "**Para sacar 10:** **Dimensión fractal:** Una idea \"intuitiva\" para calcular la dimensión fractal de una figura 2D, consiste en cuadricular la imagen que contiene la figura y después contar el número $N$ de cuadrados que contienen parte de la figura como función de la longitud $\\epsilon$ del lado de los cuadrados. En ese caso, la dimensión fractal se puede calcular como: \n",
    "\n",
    "$$dim_f = lim_{\\epsilon\\rightarrow 0} \\frac{N(\\epsilon)}{log(1/\\epsilon)}.$$\n",
    "\n",
    "En las imágenes reales (fotografías o dibujos), no existe realmente nada fractal, todo tiene dimensión 2; sin embargo, muchos objetos son aproximadamente fractales, es decir, aunque para $lim_{\\epsilon\\rightarrow 0}$ la dimensión tiende a 2, para valores muy pequeños de $\\epsilon$, $\\frac{N(\\epsilon)}{log(1/\\epsilon)}$ parece tender a un número no entero. \n",
    "\n",
    "Haz una función que dada una imagen, una forma de elegir qué pixeles corresponden a una determinada figura (por ejemplo un rango de colores), calcule $\\frac{N(\\epsilon)}{log(1/\\epsilon)}$. \n",
    "\n",
    "Finalmente, grafica  $\\frac{N(\\epsilon)}{log(1/\\epsilon)}$ vs $\\epsilon$ para las imágenes de fractales que produjiste en el problema 6 y 7. También haz la gráfica para la foto de algún rio o algo que creas que es fractal (y que no te cueste demasiado seleccionar los pixeles que corresponden a tu objeto (quizá haciendo previamente una (o varias) convolución(es) adecuada(s))). \n",
    "\n",
    "¿qué conclusiones sacas de esto?\n",
    "\n",
    "**Nota que:** \n",
    "\n",
    "(i) La longitud de la imágen entre $\\epsilon$ no es necesariamente un entero, lo que significa que podría haber cajas en 2 de las fronteras de la imagen que no sean cuadradas y que cuyos lados sean menores que $\\epsilon$. Por lo tanto, conviene que el objeto al que quieres medir la dimensión fractal no toque (y esté suficientemente lejos de) las fronteras de la imagen. Puedes, para corregir esto, agregar un \"marco\" a tu imagen, que no sea parte del fractal, es decir, agregar artificialmente pixeles en el contorno de la imagen.  \n",
    "\n",
    "(ii) Si $\\epsilon< 1px$ deberías empezar a ver que $\\frac{N(\\epsilon)}{log(1/\\epsilon)}$ tiene un cambio de comportamiento y tiende a 2 (quizá un poco antes para el caso de una fotografía de un río, arbol, galaxia, etc...). "
   ]
  },
  {
   "cell_type": "code",
   "execution_count": null,
   "id": "e641f513",
   "metadata": {},
   "outputs": [],
   "source": []
  },
  {
   "cell_type": "markdown",
   "id": "c1c54227",
   "metadata": {},
   "source": [
    "**Para sacar 11:** Haz un objeto Persona que contenga segmentos de los brazos, antebrazos, torzo, piernas y muslos y tenga una esfera como cabeza. Luego haz una función que dada una dirección de la forma  $(x,y,0)$, una rapidez y un tiempo, haga una animación de una Persona de altura  $h=1$  caminando sobre esa recta ese tiempo (el tamaño de los pasos debe ser  $h/2$ ). Trata que la animación sea lo más realista posible (observa qué es lo que haces al caminar, como mueves tus piernas y brazos). \n",
    "\n",
    "Trata de que se vea como el gif animado que adjunto con la tarea. "
   ]
  },
  {
   "cell_type": "markdown",
   "id": "fe29ec5f",
   "metadata": {},
   "source": [
    "**0 pts (4.2 de 10)**"
   ]
  }
 ],
 "metadata": {
  "kernelspec": {
   "display_name": "Julia 1.11.0-beta1",
   "language": "julia",
   "name": "julia-1.11"
  },
  "language_info": {
   "file_extension": ".jl",
   "mimetype": "application/julia",
   "name": "julia",
   "version": "1.11.0"
  }
 },
 "nbformat": 4,
 "nbformat_minor": 5
}
