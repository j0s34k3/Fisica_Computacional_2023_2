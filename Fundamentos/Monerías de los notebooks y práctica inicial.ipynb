{
 "cells": [
  {
   "cell_type": "markdown",
   "metadata": {},
   "source": [
    "# Los notebooks\n",
    "\n",
    "Antes de empezar realmente a trabajar con Julia, quiero que vean algunas de las monerías de los notebooks. Hay más y si buscan información verán que es posible usarlos para hacer presentaciones, organizar textos con índices, etc. Aquí sólo veremos lo básico. \n",
    "\n",
    "1. En la barra de herramientas hay un recuadro para seleccionar de qué tipo es cada celda. Dentro hay 4 opciones: \n",
    "    - Code\n",
    "    - Markdown\n",
    "    - Raw NBconvert\n",
    "    - Heading \n",
    "    \n",
    "**Code** es la que está marcada por default y sirve para escribir código (como podían imaginar). \n",
    "\n",
    "**Markdown** sirve para hacer textos. Markdown es una forma de procesador de textos. Si quieren revisar las regla de cómo escribir en Markdown para hacer sus notebooks con explicaciones muy bonitas, pueden revisarlo aquí: https://www.markdownguide.org/basic-syntax/\n",
    "\n",
    "Además de las reglas de procesador de texto de Markdown, en estas celdas también se puede escribir en lenguaje HTML, por lo que se pueden hacer presentaciones bastante sofisticadas (literalmente como una página de internet). Y también reconoce muchos de los comandos de $\\LaTeX$ cuando se escribe entre símbolos $. Todo lo que escribo aquí está en Markdown.\n",
    "\n",
    "\n"
   ]
  },
  {
   "cell_type": "markdown",
   "metadata": {},
   "source": [
    "**Raw NBconver** son celdas sin formato. Es decir, celdas de texto donde uno ve directamente lo que se escribe. Son útiles si uno quiere utilizar un notebook para hacer una página web o un pdf y dentro quiere incluir explicaciones de los símbolos que usa en $\\LaTeX$ o Markdown sin que por el procesador se transformen en \"bonito\". "
   ]
  },
  {
   "cell_type": "raw",
   "metadata": {},
   "source": [
    "Por ejemplo aquí puedo explicar que para hacer ecuaciones en LaTeX, uno pone $ seguido de la ecuación y terminando con otro $."
   ]
  },
  {
   "cell_type": "markdown",
   "metadata": {},
   "source": [
    "La ecuación $x^2 = -1$ en $\\LaTeX$ se escribe como:"
   ]
  },
  {
   "cell_type": "raw",
   "metadata": {},
   "source": [
    "$x^2 = -1$"
   ]
  },
  {
   "cell_type": "markdown",
   "metadata": {},
   "source": [
    "**Heading** en realidad es una celda de Markdown que comienza con # y por lo tanto lo que se escribe ahí aparece como un encabezado. "
   ]
  },
  {
   "cell_type": "markdown",
   "metadata": {},
   "source": [
    "# Esto es Heading"
   ]
  },
  {
   "cell_type": "markdown",
   "metadata": {},
   "source": [
    "Intenta agregar una celda donde incluyas texto en formato Markdown utilizando también código HTML y ecuaciones en $\\LaTeX$.  \n"
   ]
  },
  {
   "cell_type": "markdown",
   "metadata": {},
   "source": [
    "2. Para cambiar una celda a Markdown, uno puede presionar la tecla Esc y después la tecla M. No necesita ser al mismo tiempo. Para cambiar una celda a Code, se presiona la tecla Esc y después la tecla Y. En general hay muchos shortcuts que pueden usar al presionar la tecla Esc y después alguna otra o combinación de varias. Para ver cuales son las combinaciones posibles, pueden presionar Esc y después h. \n",
    "\n",
    "Intenta agregar una celda nueva justo debajo de esta. "
   ]
  },
  {
   "cell_type": "markdown",
   "metadata": {},
   "source": [
    "3. Para comentar código en general se utiliza el símbolo #. A veces se quiere comentar muchas lineas de código. Se pueden seleccionar todas las lineas y presionar las teclas ctr+/ al mismo tiempo. Eso comentará todo lo seleccionado a la vez. Si se vuelven a presionar las mismas teclas se quitan los comentarios. \n",
    "\n",
    "Intenta descomentar el código de abajo utilizando esta forma. "
   ]
  },
  {
   "cell_type": "code",
   "execution_count": null,
   "metadata": {},
   "outputs": [],
   "source": [
    "# a = 1\n",
    "# b = 2\n",
    "# c = 3\n",
    "# sin(a-b+c)"
   ]
  },
  {
   "cell_type": "markdown",
   "metadata": {},
   "source": [
    "4. La indentación es una de las buenas prácticas de programación y en general es algo que se hace de forma automática en los notebooks al agregar un ciclo o una función (o cualquier cosa que se termine con \"end\"), sin embargo, a veces uno borra alguna parte o vuelve función algo que había hecho antes y queda sin la indentación correcta. Para agregar la indentación a una linea se utiliza la tecla Tab, si se seleccionan varias lineas de código se pueden identar todas a la vez presionando la tecla Tab. \n",
    "\n",
    "El código de abajo no tiene la indentación correcta porque se inició una sección de código (con begin) y con la misma identación se escribió lo demás terminando la sección del código con end (que sí se encuentra en la posición adecuada. Selecciona todo lo que no es begin o end e indéntalo. "
   ]
  },
  {
   "cell_type": "code",
   "execution_count": null,
   "metadata": {},
   "outputs": [],
   "source": [
    "begin\n",
    "    θ = 1.2\n",
    "    x = cos(θ)\n",
    "    y = sin(θ)\n",
    "    vector = [x, y]\n",
    "end"
   ]
  },
  {
   "cell_type": "markdown",
   "metadata": {},
   "source": [
    "5. A veces pasa justo lo contrario, uno está escribiendo un código que había comenzado con indentación (era una función o ciclo) pero finalmente cambia el código y la identación ya no es necesaria. Para quitarla linea por linea uno puede utilizar la tecla deleat, pero también puede seleccionar todo lo que quieres desindentar y presionar al mismo tiempo shift+Tab. \n",
    "\n",
    "Intenta corregir la indentación del siguiente código: "
   ]
  },
  {
   "cell_type": "code",
   "execution_count": null,
   "metadata": {},
   "outputs": [],
   "source": [
    "begin\n",
    "θ = 1.2\n",
    "x = cos(θ)\n",
    "y = sin(θ)\n",
    "vector = [x, y]\n",
    "    x += 1\n",
    "        vector2 = [x^2, 2]\n",
    "        vector3 = vector2 .+ vector\n",
    "        return vector2, vector3, vector\n",
    "end"
   ]
  },
  {
   "cell_type": "markdown",
   "metadata": {},
   "source": [
    "6. En general se puede usar la tecla Tab para completar nombres de variables o funciones y también para transformar a símbolos cosas escritas en formato $\\LaTeX$. \n",
    "\n",
    "Intenta utilizar Tab para escribir el siguiente código: \n",
    "\n",
    "Área_Círculo(r) = $\\pi$ * r^2\n",
    "\n",
    "Volumen_Cilindro(r,h) = Área_Círculo(r)*h\n",
    "\n",
    "Para el primer renglón sólo aplicarás Tab para transformar \\pi en $\\pi$, en el segundo renglón puedes utilizar Tab para completar el nombre de la función Área_Círculo"
   ]
  },
  {
   "cell_type": "code",
   "execution_count": null,
   "metadata": {},
   "outputs": [],
   "source": []
  },
  {
   "cell_type": "markdown",
   "metadata": {},
   "source": [
    "Te recomiendo mucho que practiques el utilizar Tab para completar palabras, te volverá notoriamente más rápido escribiendo-programando. "
   ]
  },
  {
   "cell_type": "markdown",
   "metadata": {},
   "source": [
    "7. Por último, a veces se quieren cambiar varias lineas de código a la vez, escribiendo exactamente lo mismo. Para esto puedes presionar la tecla Crt y con el mouse picar en los lugares del código donde quieres modificar. Después de eso, cuando escribas algo, borres algo en el teclado, se repetirá en todos los lugares que hayas seleccionado. \n",
    "\n",
    "Intenta modificar el código agregando en los 3 lugares con comentarios un \"+ x\" utilizando esta técnica."
   ]
  },
  {
   "cell_type": "code",
   "execution_count": 1,
   "metadata": {},
   "outputs": [
    {
     "data": {
      "text/plain": [
       "f (generic function with 1 method)"
      ]
     },
     "execution_count": 1,
     "metadata": {},
     "output_type": "execute_result"
    }
   ],
   "source": [
    "function f(x)   \n",
    "    y = 2   #agrega aquí el + x  \n",
    "    z = y^2 + 1\n",
    "    w = sin(1) #agrega dentro del paréntesis + x  \n",
    "    return y + z + w #agrega + x después de w.   \n",
    "end"
   ]
  },
  {
   "cell_type": "code",
   "execution_count": 2,
   "metadata": {},
   "outputs": [
    {
     "ename": "LoadError",
     "evalue": "UndefVarError: y not defined",
     "output_type": "error",
     "traceback": [
      "UndefVarError: y not defined",
      "",
      "Stacktrace:",
      " [1] f(::Int64) at .\\In[1]:7",
      " [2] top-level scope at In[2]:1",
      " [3] include_string(::Function, ::Module, ::String, ::String) at .\\loading.jl:1091"
     ]
    }
   ],
   "source": []
  },
  {
   "cell_type": "code",
   "execution_count": null,
   "metadata": {},
   "outputs": [],
   "source": []
  }
 ],
 "metadata": {
  "@webio": {
   "lastCommId": null,
   "lastKernelId": null
  },
  "kernelspec": {
   "display_name": "Julia 1.6.1",
   "language": "julia",
   "name": "julia-1.6"
  },
  "language_info": {
   "file_extension": ".jl",
   "mimetype": "application/julia",
   "name": "julia",
   "version": "1.6.1"
  }
 },
 "nbformat": 4,
 "nbformat_minor": 4
}
