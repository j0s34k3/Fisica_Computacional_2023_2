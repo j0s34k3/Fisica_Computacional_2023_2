{
 "cells": [
  {
   "cell_type": "markdown",
   "id": "9a84bc86",
   "metadata": {},
   "source": [
    "# Tarea 2: Funciones y Objetos\n",
    "**Equipo:**\n",
    "- Andrés Rashid Abdul Flores Niño\n",
    "- Israel Tomas Cuevas Carmona\n",
    "- José Ángel Ake Jimenez\n",
    "\n",
    "**Esta tarea es notoriamente más difícil que la anterior, así que tendrán hasta el viernes de la próxima semana para terminarla. Se entregará máximo el Lunes 20 de febrero a las 6pm**\n",
    "\n",
    "Será una de las tareas más difíciles en el semestre. Creo que aún no tienen tanta carga de trabajo en el resto de sus cursos y ya tienen herramientas para que, pensandole un poco (un mucho en realidad), logren cosas más o menos avanzadas. Por lo tanto, los motivo a ser humildes y no ir directamente por el problema de 10 u 11. Primero piensen como resolverían cada uno y ataquen aquel del que tengan ya una idea de cómo resolverlo. Si no tienen idea de ninguno, me piden pistas para el de 7.  \n",
    "\n",
    "La siguiente tarea igual será difícil, pero para la 4 habrá un descanso, esa será un poco más fácil. \n",
    "\n",
    "Equipo:\n",
    "\n",
    "Nombres de cada integrante del equipo. \n",
    "\n",
    "## Problemas Básicos\n",
    "\n",
    "[1]  En una línea de código haz una función para calcular el área de un polígono (no necesariamente regular) con vértices $\\vec{p}_1, \\vec{p}_2, \\dots, \\vec{p}_n$ (para el siguiente ejercicio te conviene que sólo sea un argumento, un arreglo de vectores 2D). Prueba tu función con algunos polígonos (un par regulares y un irregular) para verificar que hace bien los cálculos (obtén analíticamente las áreas para checar que obtiene los valores correctos). \n",
    "\n",
    "\n",
    "**Nota:** Asegúrate que el área que arroje tu función sea positiva siempre. \n",
    "\n",
    "**hint:** Intenta pensar como resolver el problema sin este hint, pero si te rindes, puedes revisar aquí una técnica muy buena: https://en.wikipedia.org/wiki/Shoelace_formula. \n",
    "\n",
    "\n"
   ]
  },
  {
   "cell_type": "code",
   "execution_count": null,
   "id": "06084ff3",
   "metadata": {},
   "outputs": [],
   "source": [
    "using LinearAlgebra\n",
    "\n",
    "area_poligono(vectors, len=length(vectors)) = (1/2)*sum([vectors[i][1]*vectors[mod1(i+1,len)][2] - vectors[i][2]*vectors[mod1(i+1,len)][1] for i in 1:len])\n",
    "area_poligono([[1,6],[3,1],[7,2],[4,4],[8,5]])\n",
    "\n",
    "#= Nota:(el orden de los vectores SÍ importa, deben estar ordenados de tal forma \n",
    "que los puntos que forman la figura esten orientados contrarreloj) =#"
   ]
  },
  {
   "cell_type": "code",
   "execution_count": null,
   "id": "ed6af3d3",
   "metadata": {},
   "outputs": [],
   "source": [
    "using Test\n",
    "vertices = [[-5.,-2.], [-1., -3.], [-1.,-1.],[1.,-1.],[0.,-2.],[3.,-2.],[1.,2.],[-3.,1.],[-5.,0.]]\n",
    "@test area_poligono(vertices) == 23.5"
   ]
  },
  {
   "cell_type": "markdown",
   "id": "a580c86f",
   "metadata": {},
   "source": [
    "**0.5 pts (0.5 / 10)**\n",
    "\n",
    "**Nota:** Muy bien! Aunque estrictamente el problema les pide que la función regrese sólo áreas positivas, lo cual se arregla simplemente añadiendo un `abs`. "
   ]
  },
  {
   "cell_type": "markdown",
   "id": "e6ae894f",
   "metadata": {},
   "source": [
    "[2] Calcula $\\pi$ con los siguientes 2 métodos: \n",
    "\n",
    "- Midiendo el área de un polígono regular de $n$ lados de radio 1.\n",
    "- Midiendo el perímetro de un círculo de diámetro 1. \n",
    "\n",
    "Para esto, primero haz una función (en una sola línea) que obtenga los vértices de un polígono de $n$ lados inscrito en una circunferencia de radio $r$ y centrada en $\\vec{x}$. También haz una función (en una sola línea) que calcule el perímetro de un polígono dada la lista de vértices ordenada.  \n",
    "\n",
    "¿Qué método lo aproxima mejor al crecer $n$?"
   ]
  },
  {
   "cell_type": "code",
   "execution_count": null,
   "id": "3310ac4c",
   "metadata": {},
   "outputs": [],
   "source": [
    "vertices_poligono(n,r,x) = [[x[1]+r*cos(2*(22/7)*i/n), x[2]+r*sin(2*(22/7)*i/n)] for i in 0:n-1]\n",
    "#Creamos primero un poligono regular con sus vertices y una aproximacion de π"
   ]
  },
  {
   "cell_type": "markdown",
   "id": "84791958",
   "metadata": {},
   "source": [
    "   ### Método 1: Cálculo de $\\pi$ usando el perímetro"
   ]
  },
  {
   "cell_type": "code",
   "execution_count": null,
   "id": "74f8e029",
   "metadata": {},
   "outputs": [],
   "source": [
    "perimetro_poligono(lista_de_vertices) = sum([norm(lista_de_vertices[mod1(i+1,length(lista_de_vertices))]-lista_de_vertices[mod1(i,length(lista_de_vertices))]) for i in 1:length(lista_de_vertices)])\n",
    "\n",
    "function pi_usando_perimetro(vertices_poligono)\n",
    "    return perimetro_poligono(vertices_poligono)\n",
    "end\n",
    "\n",
    "pi_usando_perimetro(vertices_poligono(1000,1/2,[0,0]))"
   ]
  },
  {
   "cell_type": "markdown",
   "id": "0c5d6987",
   "metadata": {},
   "source": [
    "### Método 2: $\\pi$ usando el área"
   ]
  },
  {
   "cell_type": "code",
   "execution_count": null,
   "id": "c51a8299",
   "metadata": {},
   "outputs": [],
   "source": [
    "function pi_usando_area(vertices_poligono)\n",
    "    return area_poligono(vertices_poligono) #Reusamos la función del ejercicio 1 para el área\n",
    "end\n",
    "\n",
    "pi_usando_area(vertices_poligono(1000,1,[0,0]))"
   ]
  },
  {
   "cell_type": "markdown",
   "id": "42e71000",
   "metadata": {},
   "source": [
    "*Vemos que el método del perímetro converge mejor para un n más grande*"
   ]
  },
  {
   "cell_type": "markdown",
   "id": "0f94f528",
   "metadata": {},
   "source": [
    "**0.5 pts (1 / 10)**\n",
    "\n",
    "**Nota:** Excelente! La mejor forma de visualizar cómo converge cada método es hacer una gráfica del error (en este caso la diferenca respecto a $\\pi$) vs $N$ (en este caso el número de lados del polígono). Otra mejora que se le puede hacer a su método es refinar la aproximación de $\\pi$ conforme $N$ crece, es decir, no usar siempre `22/7`."
   ]
  },
  {
   "cell_type": "markdown",
   "id": "d3540cd4",
   "metadata": {},
   "source": [
    "[3] Utilizando la función del ejercicio 1, haz una función que calcule numéricamente la integral de una función cualquiera $f$ en $\\mathbb{R}$ (que pueda ser positiva, negativa, mixta, etc...) en un un intervalo $[a,b]$, aproximando con $n$ divisiones (que $n$ sea un argumento de la función, pero pre-fijado en 100). \n",
    "\n",
    "Prueba tu función con la función $sin$, $exp$, $x$, $x^4$ (checando sobre los intervalos que elijas que coincida aceptablemente el cálculo numérico con el analítico). \n",
    "\n",
    "**Nota:** Ahora utiliza el símbolo $\\int$ para nombrar la función. \n",
    "\n",
    "**Nota2:** Para resolver el problema TIENES que utilizar la funcion del ejercicio 1, no se vale re-definir la función en [1] para que pueda arrojar áreas negativas. \n",
    "\n",
    "**Hint:** Encuentra los puntos que su coordenada $y$ es positiva. "
   ]
  },
  {
   "cell_type": "code",
   "execution_count": null,
   "id": "79f73e73",
   "metadata": {},
   "outputs": [],
   "source": [
    "function ∫(f,a,b,n)\n",
    "    x = [a+((b-a)/n)*i for i in 0:n] #Creamos una partición del intervalo [a,b] de longitudes iguales\n",
    "    return sum([area_poligono([[x[i],0], [x[i+1],0], [x[i+1],f(x[i+1])], [x[i],f(x[i])]]) for i in 1:n])\n",
    "end #Reusando la función del ejercicio 1 calculamos las áreas de distintos polígonos dibujados en la función, sumamos y obtenemos la integral\n",
    "\n",
    "function cuadrados(x)\n",
    "    return x*x\n",
    "end\n",
    "∫(cuadrados,0,5,100), ∫(sin,0,10,100), ∫(exp,0,10,100)"
   ]
  },
  {
   "cell_type": "code",
   "execution_count": null,
   "id": "c7d691b3",
   "metadata": {},
   "outputs": [],
   "source": [
    "∫(sin, -1.5, 3, 1_000), cos(3/2) - cos(3)"
   ]
  },
  {
   "cell_type": "code",
   "execution_count": null,
   "id": "fe1816f1",
   "metadata": {},
   "outputs": [],
   "source": [
    "∫(exp, 0, 3.45, 1_000), exp(69/20)-1"
   ]
  },
  {
   "cell_type": "code",
   "execution_count": null,
   "id": "a448c20d",
   "metadata": {},
   "outputs": [],
   "source": [
    "∫(x -> x, -2, 1.34, 1_000), -5511/5000"
   ]
  },
  {
   "cell_type": "code",
   "execution_count": null,
   "id": "21939149",
   "metadata": {},
   "outputs": [],
   "source": [
    "∫(x -> x^4, -0.03, 2.78, 1_000), 1660443030611/50000000000"
   ]
  },
  {
   "cell_type": "markdown",
   "id": "8b28a690",
   "metadata": {},
   "source": [
    "**0.5 pts (1.5 / 10)**\n",
    "\n",
    "**Nota:** Muy bien! Sin embargo, noten que su solución es ineficiente. Si logran aislar las partes positivas y negativas de $f$ (lo cual se puede lograr con un truco matemático), entonces no necesitan repetir puntos sobre el eje $x$. "
   ]
  },
  {
   "cell_type": "markdown",
   "id": "a10b36a3",
   "metadata": {},
   "source": [
    "[4] Haz una función (de una sola línea) que obtenga el área de un triángulo en cualquier dimension mayor a 1 (es decir, el área de un triángulo formado por 3 vértices en $\\mathbb{R}^n$). "
   ]
  },
  {
   "cell_type": "markdown",
   "id": "bf904700",
   "metadata": {},
   "source": [
    "*La expresión para el cálculo del área de un triángulo en $\\mathbb{R}^{n}$ se obtuvo de la siguiente liga:*\n",
    "\n",
    "[Area of Triangle in n-Dimensional Euclidean Space](https://math.stackexchange.com/questions/3938573/area-of-triangle-in-n-dimensional-euclidean-space)"
   ]
  },
  {
   "cell_type": "code",
   "execution_count": null,
   "id": "51ef5213",
   "metadata": {},
   "outputs": [],
   "source": [
    "area_of_triangle(list_of_vectors) = (1/2)*sqrt(dot(list_of_vectors[1]-list_of_vectors[2],list_of_vectors[1]-list_of_vectors[2])*dot(list_of_vectors[1]-list_of_vectors[3],list_of_vectors[1]-list_of_vectors[3])-abs2(dot(list_of_vectors[1]-list_of_vectors[2], list_of_vectors[1]-list_of_vectors[3])))\n",
    "area_of_triangle([[0,0,0], [1,0,1], [2,0,1]]), area_of_triangle([[0,0,0],[1,3,4],[7,2,1]])"
   ]
  },
  {
   "cell_type": "code",
   "execution_count": null,
   "id": "67786b75",
   "metadata": {},
   "outputs": [],
   "source": [
    "area_of_triangle([[-4.6,2.2,0],[3.41,4.48,1.18],[-2.66,-4.73,-1]]), 30.54"
   ]
  },
  {
   "cell_type": "markdown",
   "id": "ef54d00f",
   "metadata": {},
   "source": [
    "**0.5 pts (2 / 10)**\n",
    "\n",
    "**Nota:** Muy bien! Pueden lograr una función más compacta usando `norm(u)^2` en vez de `dot(u, u)`. "
   ]
  },
  {
   "cell_type": "markdown",
   "id": "6a3f3bc6",
   "metadata": {},
   "source": [
    "[5] Haz una función que dado un parámetro $L$, y tres vectores de dimensión 2 $\\vec{x}_1$,$\\vec{x}_2$, $\\vec{p}$ arroje un arreglo triangular (un arreglo de arreglos de 3 vectores que formen triángulos equiláteros de lado $L$) de tal forma que los triángulos cubran el paralelogramo formado por los vectores $\\vec{x}_1$ y $\\vec{x}_2$ y cuyo centro se encuentra en $\\vec{p}$, ninguno se encime con otro y ninguno de los triángulos esté completamente fuera del paralelogramo.\n",
    "\n",
    "Nota: a partir de aquí ya no se requieren funciones de una sola línea. \n"
   ]
  },
  {
   "cell_type": "code",
   "execution_count": null,
   "id": "e7b490c6",
   "metadata": {},
   "outputs": [],
   "source": [
    "t(L,x) = [L * normalize(x) * i for i ∈ 0:L-1]"
   ]
  },
  {
   "cell_type": "code",
   "execution_count": null,
   "id": "bda6cae0",
   "metadata": {},
   "outputs": [],
   "source": [
    "Z = []\n",
    "α = t(4,[[1,2],[2,1]])\n",
    "push!(Z,α)"
   ]
  },
  {
   "cell_type": "code",
   "execution_count": null,
   "id": "abc5f42f",
   "metadata": {},
   "outputs": [],
   "source": [
    "function triangulacion(L,x,y)\n",
    "    u = L * normalize(x)\n",
    "    N_x = norm(x) ÷ L\n",
    "    v = L * normalize(y)\n",
    "    N_y = norm(y) ÷ L\n",
    "    vt =[]\n",
    "    for i ∈ 0:N_x-1\n",
    "        for j ∈ 0:N_y-1\n",
    "             w = u*i + v*j\n",
    "            push!(vt, [u*i,v*j,w])\n",
    "        end\n",
    "    end\n",
    "    return vt \n",
    "end"
   ]
  },
  {
   "cell_type": "code",
   "execution_count": null,
   "id": "d43d4f1f",
   "metadata": {
    "scrolled": true
   },
   "outputs": [],
   "source": [
    "triangulacion(4,[1,3],[2,4])"
   ]
  },
  {
   "cell_type": "code",
   "execution_count": null,
   "id": "7ce854e9",
   "metadata": {},
   "outputs": [],
   "source": [
    "triangulacion(1, [3, 0], [1, sqrt(3)]) "
   ]
  },
  {
   "cell_type": "markdown",
   "id": "cdd08839",
   "metadata": {},
   "source": [
    "**0 pts (2 / 10)**\n",
    "\n",
    "**Notas:** \n",
    "- Los `for` no deben ir de `0` a `L-1` sino de `0` a `N_x - 1`(`N_y - 1`), donde `N_x` (`N_y`) es el número de veces que cabe `L` en el vector `x` (`y`).\n",
    "- Los vértices de los triángulos no son `[u*i,v*j,w]`, como prueba de ello pueden revisar el ejemplo que intenté en la celda anterior, donde el primer triángulo que regresa su función está coolapsado en el origen. "
   ]
  },
  {
   "cell_type": "markdown",
   "id": "5f7ce91b",
   "metadata": {},
   "source": [
    "[6] Usa las dos funciones anteriores (ejercicios 4 y 5) para hacer otra que estime la superficie de una función $f(x,y)$ dada en una región definida por un paralelogramo (los vectores  $\\vec{x}_1$,$\\vec{x}_2$, $\\vec{p}$ del ejercicio anterior), la función $f(x,y)$ y el lado de los triángulos equiláteros $L$. Para esto, a cada una de las coordenadas de la triangulación en el plano $xy$ agrégale una coordenada $z = f(x,y)$, calcula el área de todos los triángulos y súmalos.  "
   ]
  },
  {
   "cell_type": "code",
   "execution_count": null,
   "id": "98b1a98b",
   "metadata": {},
   "outputs": [],
   "source": []
  },
  {
   "cell_type": "markdown",
   "id": "324a6d20",
   "metadata": {},
   "source": [
    "[7] En la tarea anterior vimos que las letras con acentos son problemáticas, porque las registra como 2 símbolos, uno que se puede leer y uno que no. Lo mismo sucede con ¿, ñ, ¡, entre otros. Haz una función que tenga como argumento un texto cualquiera en español con símbolos y acentos incómodos y regrese el mismo texto en un formato legible por la ocomputadora, es decir, que quite la ñ-> gn, quite los símbolos \"raros\" del español como ¿, ¡, etc..., y quite los acentos. \n",
    "\n",
    "Prueba tu función con algún texto más o menos largo (un poema, un cuento corto, etc...). "
   ]
  },
  {
   "cell_type": "code",
   "execution_count": null,
   "id": "c308bd25",
   "metadata": {},
   "outputs": [],
   "source": [
    "texto = \"\"\"DECLARACIÓN DE AMOR\n",
    "\n",
    "\n",
    "Ciudad que llevas dentro\n",
    "mi corazón, mi pena,\n",
    "la desgracia verdosa\n",
    "de los hombres del alba,\n",
    "mil voces descompuestas\n",
    "por el frío y el hambre.\n",
    "\n",
    "Ciudad que lloras, mía,\n",
    "maternal, dolorosa,\n",
    "bella como camelia\n",
    "y triste como lágrima,\n",
    "mírame con tus ojos\n",
    "de tezontle y granito,\n",
    "caminar por tus calles\n",
    "como sombra o neblina.\n",
    "\n",
    "Soy el llanto invisible\n",
    "de millares de hombres.\n",
    "\n",
    "Soy la ronca miseria,\n",
    "la gris melancolía,\n",
    "el fastidio hecho carne.\n",
    "Yo soy mi corazón desamparado y negro.\n",
    "\n",
    "Ciudad, invernadero,\n",
    "gruta despedazada.\n",
    "\n",
    "Bajo tu sombra, el viento del invierno\n",
    "es una lluvia triste, y los hombres, amor,\n",
    "son cuerpos gemidores, olas\n",
    "quebrándose a los pies de las mujeres\n",
    "en un largo momento de abandono\n",
    "-como nardos pudriéndose.\n",
    "\n",
    "Es la hora del sueño, de los labios resecos,\n",
    "de los cabellos lacios y el vivir sin remedio.\n",
    "\n",
    "Pero si el viento norte una mañana,\n",
    "una mañana larga, una selva,\n",
    "me entregara el corazón desecho\n",
    "del alba verdadera, ¿imaginas, ciudad,\n",
    "el dolor de las manos y el grito brusco, inmenso,\n",
    "de una tierra sin vida?\n",
    "Porque yo creo que el corazón del alba\n",
    "en un millón de flores,\n",
    "el correr de la sangre\n",
    "o tu cuerpo, ciudad, sin huesos ni miseria.\n",
    "\n",
    "Los hombres que te odian no comprenden\n",
    "cómo eres pura, amplia,\n",
    "rojiza, cariñosa, ciudad mía;\n",
    "cómo te entregas, lenta,\n",
    "a los niños que ríen,\n",
    "a los hombres que aman claras hembras\n",
    "de sonrisa despierta y fresco pensamiento,\n",
    "a los pájaros que viven limpiamente\n",
    "en tus jardines como axilas,\n",
    "a los perros nocturnos\n",
    "cuyos ladridos son mares de fiebre,\n",
    "a los gatos, tigrillos por el día,\n",
    "serpientes en la noche,\n",
    "blandos peces al alba;\n",
    "cómo te das, mujer de mil abrazos,\n",
    "a nosotros, tus tímidos amantes:\n",
    "cuando te desnudamos, se diría\n",
    "que una cascada nace del silencio\n",
    "donde habitan la piel de los crepúsculos,\n",
    "las tibias lágrimas de los relojes,\n",
    "las monedas perdidas,\n",
    "los días menos pensados\n",
    "y las naranjas vírgenes.\n",
    "\n",
    "Cuando llegas, rezumando delicia,\n",
    "calles recién lavadas\n",
    "y edificios-cristales,\n",
    "pensamos en la recia tristeza del subsuelo,\n",
    "en lo que tienen de agonía los lagos\n",
    "y los ríos,\n",
    "en los campos enfermos de amapolas,\n",
    "en las montañas erizadas de espinas,\n",
    "en esas playas largas\n",
    "donde apenas la espuma\n",
    "es un pobre animal inofensivo,\n",
    "o en las costas de piedra\n",
    "tan cínicas y bravas como leonas;\n",
    "pensamos en el fondo del mar\n",
    "y en sus bosques de helechos,\n",
    "en la superficie del mar\n",
    "con barcos casi locos,\n",
    "en lo alto del mar\n",
    "con pájaros idiotas.\n",
    "\n",
    "Yo pienso en mi mujer:\n",
    "en su sonrisa cuando duerme\n",
    "y una luz misteriosa la protege,\n",
    "en sus ojos curiosos cuando el día\n",
    "es un mármol redondo.\n",
    "Pienso en ella, ciudad,\n",
    "y en el futuro nuestro:\n",
    "en el hijo, en la espiga,\n",
    "o menos, en el grano de trigo\n",
    "que será también tuyo,\n",
    "porque es de tu sangre,\n",
    "de tus rumores,\n",
    "de tu ancho corazón de piedra y aire,\n",
    "de nuestros fríos o tibios,\n",
    "o quemantes y helados pensamientos,\n",
    "humildades y orgullo, mi ciudad,\n",
    "\n",
    "Mi gran ciudad de México:\n",
    "el fondo de tu sexo es un criadero\n",
    "de claras fortalezas,\n",
    "tu invierno es un engaño\n",
    "de alfileres y leche,\n",
    "tus chimeneas enormes\n",
    "dedos llorando niebla,\n",
    "tus jardines axilas la única verdad,\n",
    "tus estaciones campos\n",
    "de toros acerados,\n",
    "tus calles cauces duros\n",
    "para pies varoniles,\n",
    "tus templos viejos frutos\n",
    "alimento de ancianas,\n",
    "tus horas como gritos\n",
    "de monstruos invisibles,\n",
    "¡tus rincones con llanto\n",
    "son las marcas de odio y de saliva\n",
    "carcomiendo tu pecho de dulzura!\"\"\""
   ]
  },
  {
   "cell_type": "code",
   "execution_count": null,
   "id": "d1df5025",
   "metadata": {},
   "outputs": [],
   "source": [
    "limpiar(x) = replace(x, \"á\" => \"a\",\"é\" => \"e\",\"í\" => \"i\",\"ó\" => \"o\",\"ú\" => \"u\",\"ñ\" => \"gn\",\"¿\" => \"\",\"\\\"\" => \"\",\"¡\" => \"\",\"~\" => \"\",\"-\" => \"\",\"_\" => \"\",\":\" => \"\",\"^\" => \"\",\"*\" => \"\",\"#\" => \"\",\"\\'\" => \"\",\"%\" => \"\",\"\\$\" => \"\",\"&\" => \"\",\"/\" => \"\",\"=\" => \"\",\"@\" => \"\",\"<\" => \"\",\">\" => \"\",\"|\" => \"\",\"°\" => \"\",\"¬\" => \"\",\"ü\" => \"\",\"Á\" => \"A\",\"É\" => \"E\",\"Í\" => \"I\",\"Ó\" => \"O\",\"Ú\" => \"U\")"
   ]
  },
  {
   "cell_type": "code",
   "execution_count": null,
   "id": "5a31c48a",
   "metadata": {},
   "outputs": [],
   "source": [
    "print(limpiar(texto))"
   ]
  },
  {
   "cell_type": "markdown",
   "id": "898e8752",
   "metadata": {},
   "source": [
    "**0.5 pts (2.5 / 10)**"
   ]
  },
  {
   "cell_type": "markdown",
   "id": "551f1eec",
   "metadata": {},
   "source": [
    "[8] Haz una función que tenga como argumento un texto en español y que regrese un arreglo con las palabras que contiene el texto (modificadas para ser legibles en la computadora) ordenadas de la palabra más frecuente a la menos frecuente y también regrese un arreglo con el número de veces que aparece cada palabra. Asegúrate de eliminar los signos de puntuación. Asegúrate que los signos como ? no estén incluidos en las palabras. \n",
    "\n",
    "Prueba tu función con un texto muy largos (al menos que tenga unas mil palabras).\n"
   ]
  },
  {
   "cell_type": "code",
   "execution_count": null,
   "id": "739dfa43",
   "metadata": {},
   "outputs": [],
   "source": [
    "function palacompu(x)\n",
    "    ϕ = lowercase(x)\n",
    "    θ = replace(ϕ, \"á\" => \"a\",\"é\" => \"e\",\"í\" => \"i\",\"ó\" => \"o\",\"ú\" => \"u\",\"ñ\" => \"gn\",\"¿\" => \"\",\"\\\"\" => \"\",\"¡\" => \"\",\"~\" => \"\",\"-\" => \"\",\"_\" => \"\",\":\" => \"\",\"^\" => \"\",\"*\" => \"\",\"#\" => \"\",\"\\'\" => \"\",\"%\" => \"\",\"\\$\" => \"\",\"&\" => \"\",\"/\" => \"\",\"=\" => \"\",\"@\" => \"\",\"<\" => \"\",\">\" => \"\",\"|\" => \"\",\"°\" => \"\",\"¬\" => \"\",\"ü\" => \"\",\"Á\" => \"A\",\"É\" => \"E\",\"Í\" => \"I\",\"Ó\" => \"O\",\"Ú\" => \"U\",\"(\" => \"\",\")\" => \"\",\"{\" => \"\",\"}\" => \"\",\"[\" => \"\",\"]\" => \"\",\"¡\" => \"\",\"¿\" => \"\",\".\" => \"\",\",\" => \";\",\"+\" => \"\",\"\\n\" => \"\")\n",
    "    α = split(θ,\" \")\n",
    "    β = unique(α)\n",
    "    γ = sort!([(i,count(x -> i == x ,α)) for i ∈ β], by = x -> x[2])\n",
    "    return first.(γ),last.(γ)\n",
    "end"
   ]
  },
  {
   "cell_type": "code",
   "execution_count": null,
   "id": "770d5409",
   "metadata": {},
   "outputs": [],
   "source": [
    "palabras = \"\"\"LAS COMPETENCIAS COMUNICATIVAS.\n",
    "\n",
    " La sociedad como cultura, tiene su origen en la creación y desarrollo del lenguaje, en sus inicios, el ser humano era una especie más que poblaba el planeta. Al comenzar a expresar a sus semejantes sus ideas, se logran varios cambios que se transforman en cultura.\n",
    "\n",
    " El lenguaje da fundamentos para ponernos de acuerdo fortaleciendo estrategias de vida como la recolección y la caza. Al aparecer el lenguaje, trae consigo la idea de establecer tiempos como el pasado, presente y futuro. Esta idea se centra en la necesidad de relacionar lo existente como un presente y al no estar, viene la idea de traerlo al presente, dicho de otra forma, se desarrolla la posibilidad de pensar en lo que ahora no esta presente pero estará.\n",
    "\n",
    " El lenguaje trae en forma inherente al conocimiento que hoy en día se concentra en variadas disciplinas las que a su ves se clasifican y codifican por áreas de competencias, pero no se trata de de la competencia en el sentido de rivalidad, sino, que como un conjunto de saberes, habilidades y actitudes que se aplicaran por el profesional o encargado del área para resolver problemas.\n",
    "\n",
    " De lo antes mencionado, se destacan las competencias, cuyo concepto nos invita a centrarnos en el hablante como un componente que logra tanto producir como interpretar en forma clara y precisa los enunciados adecuados a la situación en que participa a lo largo de su vid, es decir proyectarse como capital huno avanzado sin dejar atrás el camino del perfeccionamiento continuo.\n",
    "\n",
    " En la formación por competencias se deben tener en cuenta tres aspectos fundamentales; el saber, el  saber hacer y el querer hacer. El primero tiene relación con datos, conceptos y procesos vale decir, elementos intangibles, el segundo dice relación al dominio practico de herramientas y equipos que permiten el desarrollo del trabajo cualquiera que este sea, el tercero compete a las actitudes que debe poseer y aplicar el profesional idóneo para la resolución de problemas.\n",
    "\n",
    " Reflexionado acerca de la comunicación, esta se define como el proceso mediante el cual los humanos, gracias al lenguaje, comparten ideas, pensamientos y símbolos con su especie, sin ella, seria imposible la actividad humana. De este modo, la comunicación se hace fundamental en todos sus niveles, es así como surgen distintos tipos de competencias.\n",
    "\n",
    " Competencias comunicativas; se describen como las formas mediante las cuales las personas pueden establecer interrelaciones con otras y con el medio, tomando como base el autoconocimiento. Estas competencias se pueden obtener gracias a la incursión de las personas en la cultura a la que pertenecen, vale decir incursionar en el ambiente familiar, educacional, institucional y natural.\n",
    "\n",
    " Competencias lingüísticas; esta se relaciona con el desarrollo del lenguaje pero no solo se refiere al lenguaje por lo dicho, sino que también por lo pensado, ósea si una persona que hable otro idioma al nuestro, entonces podremos saber lo que nos quiere decir solo por que poseemos la condición de ser humano, vale decir que esta competencia es una condición que nos permite como hablantes, la capacidad de producir signos verbales y en el estricto significado, es el conocimiento y empleo adecuado del código lingüístico que le permiten al individuo crear, reproducir e interpretar un numero infinito de oraciones.\n",
    "\n",
    " Competencia paralinguistica; esta competencia posee estrecha relación con la anterior y surge de la misma entendiéndose como la capacidad del hablante para utilizar de forma adecuada algunos signos no lingüísticos que se generan de la comunicación propia de las personas, las que expresan actitudes relacionadas con el interlocutor y lo que se dice, estableciendo parámetros como declarar, interrogar, intimidar, ordenar, etc. Conforme a lo oral, este tipo de comunicación se manifiesta empleando signos entonacionales como el tono de la voz, el volumen del sonido emitido, el ritmo, o el énfasis de  lo que se pronuncia.\n",
    "\n",
    " Competencia pragmática; es la que se utiliza en forma estratégica en un medio social determinado, esta establece acciones sociales mediante el empleo adecuado de signos lingüísticos utilizados de acuerdo a intenciones según se pretenda con el acto comunicativo como informar, ordenar, interrogar sugerir, etc. Con esta competencia se desarrolla una situación comunicativa basada en la intención.\n",
    "\n",
    " Competencia textual; esta competencia esta dada por la capacidad de  articular e interpretar signos organizados en un marco coherente, denominado texto, en rigor, se trata del manejo de dispositivos para escribir, como la pluma, el lapicero, la maquina de escribir, el computador y otros.\n",
    "\n",
    " Competencia quinésica; esta etencia que aborda la problemática del tiempo que nos demoremos en responder o cuanto demoramos en decir algo, ocasionalmente se pueden crear problemas por lo que se dice pero también por el tiempo en generar una respuesta a la comunicación, de aquí que se recomienda considerar tiempos prudentes para generar o procesar la información en función del tiempo del otro vale decir es bueno para las relaciones comunicacionales el ser empático ante el o las personas que nos comunican.\n",
    "\n",
    " Finalmente, se puede señalar que las competencias comunicativas, están fundadas en habilidades y actitudes que llevan al profesional por un camino de autocrítica constructiva y mejora continua, sabiendo, sabiendo hacer, queriendo hacer, ligados a las facetas humanas que son el hacer, el sentir y el pensar.\"\"\""
   ]
  },
  {
   "cell_type": "code",
   "execution_count": null,
   "id": "0ea8ace3",
   "metadata": {
    "scrolled": true
   },
   "outputs": [],
   "source": [
    "print(palacompu(palabras)[1])"
   ]
  },
  {
   "cell_type": "markdown",
   "id": "f49b893d",
   "metadata": {},
   "source": [
    "**0.5 pts (3 / 10)**\n",
    "\n",
    "**Nota:** Bien! Sin embargo, noten que una de las palabras que registran es `comunicativasla`, lo cual se debe a que en el texto original tienen `COMUNICATIVAS.\\n\\nLa`. Una solución sería cambiar `\"\\n\" => \"\"` a `\"\\n\" => \" \"`."
   ]
  },
  {
   "cell_type": "markdown",
   "id": "92dc9c38",
   "metadata": {},
   "source": [
    "[9] Haz un objeto Segmento, LineaPoligonal,  Polígono, y SuperficiePoligonal. El segmento debe contener como propiedades dónde inicia, dónde termina y su longitud. La linea poligonal debe contener una lista ordenada de vértices y una de segmentos, así como su perímetro. El polígono debe contener como propiedades una lista ordenada de sus vértices, una lista ordenada de sus segmentos, su perímetro y su área. La superficie triangulada debe contener una lista de polígonos, y la superficie que estos formen.  \n",
    "\n",
    "**Nota:** Los objetos por convención se designa la primera en mayúsculas, mientras que las variables y funciones son todas minúsculas (a menos que sea la función que produce un objeto).\n",
    "\n",
    "**Nota2:** Yo hago la excepción con las variables cuando son matrices, en cuyo caso también permito que sean con mayúscula la primera. "
   ]
  },
  {
   "cell_type": "code",
   "execution_count": null,
   "id": "56757ca4",
   "metadata": {},
   "outputs": [],
   "source": [
    "mutable struct Segmento\n",
    "    inicio::Array\n",
    "    fin::Array\n",
    "    longitud::Real\n",
    "end\n",
    "\n",
    "mutable struct LineaPoligonal\n",
    "    lista_vertices::Array\n",
    "    lista_segmentos::Array\n",
    "    perimetro::Real\n",
    "end\n",
    "\n",
    "mutable struct Poligono \n",
    "    lista_vertices::Array\n",
    "    lista_segmentos::Array\n",
    "    perimetro::Real\n",
    "    area::Real\n",
    "end\n",
    "\n",
    "mutable struct SuperficiePoligonal\n",
    "    lista_poligonos::Array\n",
    "    superficie::String\n",
    "end"
   ]
  },
  {
   "cell_type": "markdown",
   "id": "8060a74b",
   "metadata": {},
   "source": [
    "**0.5 pts (3.5 / 10)**\n",
    "\n",
    "**Notas:** \n",
    "- En este caso es mejor poner `Vector` que `Array`. El segundo puede ser un arreglo de cualquier dimensión pero en este caso sabemos que se trata de un arreglo de una sóla dimensión, es decir, un vector. \n",
    "- Poner `Real` es conveniente pero ineficiente. En este punto les recomiendo cambiar `Real` por `Float64`."
   ]
  },
  {
   "cell_type": "markdown",
   "id": "3a4b503a",
   "metadata": {},
   "source": [
    "[10] Agrega a \"+\" y a \"*\" los siguientes métodos:\n",
    "- +(:Segmento, :Vector): Si los vértices del objeto Segmento y el Vector tienen la misma dimensión, entonces debe arrojar un objeto :LineaPoligonal cuyos vértices sean los dos vértices del segmento y el vector. En otro caso debe arrojar un error de dimensión (ver la documentación de la función error). \n",
    "- *(:Segmento, :Vector): Debe arrojar el paralelogramo que surge de desplazar el segmento el la dirección del vector. \n",
    "- +(:Segmento, :Segmento): Si el vértice final del primer segmento ($s_1$) es el mismo que el vértice inicial del segundo segmento ($s_2$), debe arrojar una LineaPoligonal que tenga como segmentos a $s_1$ y $s_2$. En otro caso, debe arrojar una LineaPoligonal con 3 segmentos en el siguiente orden, $s_1$, luego un segmento que va del vértice final de $s_1$ al vértice inicial de $s_2$ y luego $s_2$. \n",
    "- *(:Segmento, :Segmento): En este caso se debe arrojar un Polígono, igual que en el caso de la suma dividimos en 2 casos, uno donde $s_1$ y $s_2$ coinciden en un vértice, en cuyo caso debe arrojar el triángulo que forman los 2 segmentos y el otro donde no coinciden, en cuyo caso debe arrojar el polígono que tiene como primer segmento $s_1$ luego un segmento que va del vértice final de $s_1$ al vértice inicial de $s_2$, luego $s_2$ y finalmente el segmento que va del vértice final de $s_2$ al inicial de $s_1$. \n",
    "- +(:LineaPoligonal, :Vector): Debe arrojar una linea poligonal que tenga como vértices todos los vértices de la linea poligonal inicial unión el vector. Si el vector no tiene la misma dimiensión que los vértices de la línea poligonal, entonces debe arrojar un error. \n",
    "- *(:LineaPoligonal, :Vector): Debe arrojar una superficie poligonal, donde todos los polígonos son paralelogramos formados por el producto *(:Segmento, :Vector) de cada uno de los segmentos de la línea poligonal. \n",
    "- +(:LineaPoligonal, :Segmento): Debe arrojar también una linea poligonal, cuyos segmentos sean todos los segmentos involucrados, comenzando por los de la línea poligonal y terminando con el segmento. Si el último vértice de la línea poligonal no coincide con el primero del segmento, entonces debe arrojar un error de posición. \n",
    "- +(:LineaPoligonal, :LineaPoligonal):   Debe arrojar también una linea poligonal, cuyos segmentos sean todos los segmentos involucrados, comenzando por los de la primera línea poligonal y terminando con los de la segunda línea poligonal. Si el último vértice de la primera línea poligonal no coincide con el primero de la segunda se debe agregar un segmento intermedio siguiendo la suma +(:Segmento,:Segmento), donde el primer segmento es el último de la primera línea poligonal y el segundo segmento es el primero de la segunda línea poligonal. \n",
    "\n",
    "También agrega todos los conmutados, es decir +(:Vector, :Segmento),+(:Vector, LinealPoligonal), etc..."
   ]
  },
  {
   "cell_type": "code",
   "execution_count": null,
   "id": "ba2185c0",
   "metadata": {},
   "outputs": [],
   "source": []
  },
  {
   "cell_type": "markdown",
   "id": "24663c9d",
   "metadata": {},
   "source": [
    "[11] Haz una función Segmento que requiere de 2 vértices (en cualquier dimensión) y una Polígono que tome como argumento una lista de vértices 2D. La función Segmento debe generar un objeto Segmento cuyo vértice inicial sea el primer vértice y el vértice final el segundo vértice y su longitud sea la distancia entre ambos vértices. La función Polígono debe generar un objeto Polígono, cuyos vértices sean los vértices de la lista, las aristas (segmentos) sean las generadas usando 2 vértices vecinos de la lista (el primero y el último de los vértices son también vecinos), su perímetro sea la suma de las longitudes de las aristas y su área sea el área del polígono que tiene esas aristas. Prueba esta última función con varios conjuntos de vértices de los cuales puedas calcular analíticamente el perímetro y área del polígono que generen."
   ]
  },
  {
   "cell_type": "code",
   "execution_count": null,
   "id": "c80815f7",
   "metadata": {},
   "outputs": [],
   "source": [
    "function Segmento(vertices) \n",
    "    return Segmento(vertices[1], vertices[2], norm(vertices[2] - vertices[1]))\n",
    "end \n",
    "\n",
    "function Poligono(lista_de_vertices)\n",
    "    vertices = lista_de_vertices\n",
    "    aristas = [norm(lista_de_vertices[mod1(i+1,length(lista_de_vertices))]-lista_de_vertices[mod1(i,length(lista_de_vertices))]) for i in 1:length(lista_de_vertices)]\n",
    "    perimetro = perimetro_poligono(lista_de_vertices)\n",
    "    area = area_poligono(lista_de_vertices)\n",
    "    return Poligono(lista_de_vertices, aristas, perimetro, area)\n",
    "end\n",
    "        \n",
    "segmento = Segmento([[1,4,5,2],[4,3,1,2]])\n",
    "segmento.longitud\n",
    "            \n",
    "cuadrado = Poligono([[1,0],[0,1],[-1,0],[0,-1]])\n",
    "cuadrado.lista_vertices, cuadrado.area, cuadrado.perimetro"
   ]
  },
  {
   "cell_type": "markdown",
   "id": "cf49f4d2",
   "metadata": {},
   "source": [
    "**0.4 pts (4 / 10)**\n",
    "\n",
    "**Nota:** Bien! Sin embargo, lo que ustedes llaman aristas debería ser un vector de objetos `Segmento` y no sólo un vector de longitudes. "
   ]
  },
  {
   "cell_type": "markdown",
   "id": "62ac72f8",
   "metadata": {},
   "source": [
    "[12] Un problema típico en física computacional es saber si una partícula se encuentra \"dentro\" de algo o \"fuera\" de ese algo. Para polígonos (2D) una forma de resolver esto es \"lanzando semi-rayos\" desde la partícula hacia el exterior. Si el semi-rayo cruza un número impar de aristas, entonces se encuentra dentro del polígono. Si cruza un número par se encuentra fuera. Haz una función que dado un polígono 2D y un punto, diga si el punto se encuentra dentro o fuera del polígono."
   ]
  },
  {
   "cell_type": "code",
   "execution_count": null,
   "id": "77014d98",
   "metadata": {},
   "outputs": [],
   "source": []
  },
  {
   "cell_type": "markdown",
   "id": "7657932d",
   "metadata": {},
   "source": [
    "[13] Haz una función que dada una línea poligonal en $\\mathbb{R}^2$, un vector en $\\mathbb{R}^2$ (posición inicial de una partícula) un ángulo y rapidez inicial, calcule la distancia (y tiempo) que recorre (tarda) una partícula que se tira con tiro parabólico hasta que \"cae\" en la linea poligonal.\n",
    "\n",
    "**Hint:** El problema te conviene partirlo en \"cachitos\". Primero haz una función para verificar que un punto (en 2D) se encuentra dentro de un segmento (también 2D). Después has una función para calcular la intersección entre el tiro parabólico y una recta con pendiente arbitraria. Después une estos dos para hacer una función que calcula si un tiro parabólico intersecta un segmento dado. Finalmente revisa si el tiro parabólico intersecta una linea poligonal y dónde. Si lo hace en varios lugares, quédate con el de menor tiempo positivo. "
   ]
  },
  {
   "cell_type": "code",
   "execution_count": null,
   "id": "0f95afa1",
   "metadata": {},
   "outputs": [],
   "source": [
    "function dentro_de_un_segmento(punto::Array,segmento::Segmento) \n",
    "    x_1 = (punto[1] - segmento.inicio[1])/(segmento.fin[1] - segmento.inicio[1])\n",
    "    x_2 = (punto[2] - segmento.inicio[2])/(segmento.fin[2] - segmento.inicio[2])\n",
    "    #Usando la ecuacion paramétrica de la recta (x-x1/y-y1 =t = x-x2/y-y2) verificamos si un punto esta en la recta\n",
    "    if x_1 ≈ x_2 && x_1 <= 1\n",
    "        return true\n",
    "    else \n",
    "        return false\n",
    "    end\n",
    "end\n",
    "dentro_de_un_segmento([1,1],Segmento([[0,0],[3,3]])) #Probamos"
   ]
  },
  {
   "cell_type": "code",
   "execution_count": null,
   "id": "a630cd98",
   "metadata": {},
   "outputs": [],
   "source": [
    "dentro_de_un_segmento([-4,-3],Segmento([[-3,-2],[1,2]])) #Probamos"
   ]
  },
  {
   "cell_type": "code",
   "execution_count": null,
   "id": "e0eed184",
   "metadata": {},
   "outputs": [],
   "source": [
    "function interseccion_proyectil_recta(proyectil::Vector, recta::Vector)\n",
    "    v_x = proyectil[2]*cos(proyectil[3])  #velocidad\n",
    "    v_y = proyectil[2]*sin(proyectil[3])\n",
    "    \n",
    "    x_0 = proyectil[1][1]\n",
    "    y_0 = proyectil[1][2]\n",
    "    \n",
    "    m = recta[1]     #Parámetros\n",
    "    b = recta[2]\n",
    "    g = 9.81 \n",
    "    y = m*(v_x) - v_y\n",
    "    z = m*(x_0) + b - y_0\n",
    "\n",
    "    t = (-y + √(y^2 - 2*g*z))/g \n",
    "    \n",
    "    x= x_0 + (v_x)*t  \n",
    "    y= y_0 +(v_y)*t-(1/2)g*t^2 \n",
    "    \n",
    "    return [v_x,v_y]\n",
    "end\n",
    "\n",
    "interseccion_proyectil_recta([[0,0],[2,2], π/2],[1,2])"
   ]
  },
  {
   "cell_type": "code",
   "execution_count": null,
   "id": "5bcb800b",
   "metadata": {},
   "outputs": [],
   "source": [
    "function inter_segmento(proyectil::Array, segmento::Segmento)   #interseccion con el segmento\n",
    "    m = (segmento.inicio[2]-segmento.fin[2])/(segmento.inicio[1]-segmento.fin[1]) #Pendiente\n",
    "    b = segmento.inicio[2] - m*segmento.inicio[1] #Ordenada\n",
    "    \n",
    "    inter = interseccion_proyectil_recta(proyectil, [m, b]) \n",
    "    parametro = dentro_de_un_segmento(inter,segmento) \n",
    "    return parametro, inter\n",
    "end\n"
   ]
  },
  {
   "cell_type": "code",
   "execution_count": null,
   "id": "23237653",
   "metadata": {
    "scrolled": true
   },
   "outputs": [],
   "source": [
    "function tiro_parabolico(linea_poligonal::LineaPoligonal,proyectil::Array)\n",
    "    for item in linea_poligonal.lista_segmentos\n",
    "        inter = inter_segmento(proyectil,item)\n",
    "        if inter[1] == true\n",
    "            v_x = proyectil[2]*cos(proyectil[3])\n",
    "            x_0 = proyectil[1][1]\n",
    "            distancia_recorrida = inter[2][1]-x_0\n",
    "            tiempo = distancia_recorrida/v_x\n",
    "            return distancia_recorrida, tiempo\n",
    "        end\n",
    "    end\n",
    "end\n",
    "\n",
    "tiro_parabolico([[0,0],[2,2],[3,3],[4,1],[5,0]],[10,20,2])"
   ]
  },
  {
   "cell_type": "markdown",
   "id": "2e929e6d",
   "metadata": {},
   "source": [
    "**0 pts (4 / 10)**\n",
    "\n",
    "**Nota:** Su solución acumula varios errores pero el principal está en la función `dentro_de_un_segmento`. Ustedes están verificando si un punto cae dentro de la recta infinita definida por los extremos del segmento. Sin embargo, también necesitan verificar que el punto en cuestión está entre los dos extremos del segmento. "
   ]
  },
  {
   "cell_type": "markdown",
   "id": "b302678e",
   "metadata": {},
   "source": [
    "## Ejercicios avanzados\n"
   ]
  },
  {
   "cell_type": "markdown",
   "id": "c7381549",
   "metadata": {},
   "source": [
    "**Para sacar 7:** Haz un objeto llamado Cuaternión que sea un número (vas a necesitar usar el objeto abstracto Number), que contenga la parte real, y las 3 partes imaginarias. Agrega a este objeto las operaciones de suma, resta, producto, cociente, conjugado, norma y exponencial (revisa cómo se operan los cuaternones aquí: https://en.wikipedia.org/wiki/Quaternion).\n",
    "\n",
    "Prueba que tu objeto hace lo que debe hacer un cuaternión con esas operaciones algebráicas básicas.\n",
    "\n",
    "Después usa tus cuaterniones para definir una función de rotación en 3D dado un eje de rotación y un ángulo de giro. Revisa (https://en.wikipedia.org/wiki/Quaternions_and_spatial_rotation). \n",
    "\n",
    "**Nota: Este ejercicio te puede ser útil para por ejemplo el ejercicio para sacar 9 y otros en el futuro**"
   ]
  },
  {
   "cell_type": "code",
   "execution_count": null,
   "id": "9073d8c9",
   "metadata": {},
   "outputs": [],
   "source": [
    "#Creamos la estructura llamada cuaternion\n",
    "mutable struct Cuaternion \n",
    "    a_1::Real\n",
    "    a_2::Real\n",
    "    a_3::Real\n",
    "    a_4::Real\n",
    "end"
   ]
  },
  {
   "cell_type": "code",
   "execution_count": null,
   "id": "a3d5c624",
   "metadata": {},
   "outputs": [],
   "source": [
    "#Wikipedia define a la suma como a+b= (a_1+b_1)+(a_2+b_2)i+(a_3+b_3)j+(a_4+b_4)k\n",
    "x_1= Cuaternion(1,3,4,5)\n",
    "y_1= Cuaternion(3,5,6,7)\n",
    "\n",
    "import Base.+\n",
    "function +(x::Cuaternion, y::Cuaternion)\n",
    "    Cuaternion((x.a_1+y.a_1),(x.a_2+y.a_2),(x.a_3+y.a_3),(x.a_4+y.a_4)) \n",
    "end\n",
    "\n",
    "+(x_1,y_1)"
   ]
  },
  {
   "cell_type": "code",
   "execution_count": null,
   "id": "bdf2db22",
   "metadata": {
    "scrolled": true
   },
   "outputs": [],
   "source": [
    "#la resta esta definida  a-b= (a_1-b_1)+(a_2-b_2)i+(a_3-b_3)j+(a_4-b_4)k\n",
    "import Base.-\n",
    "function -(x::Cuaternion, y::Cuaternion)\n",
    "    Cuaternion((x.a_1-y.a_1),(x.a_2-y.a_2),(x.a_3-y.a_3),(x.a_4-y.a_4)) \n",
    "end\n",
    "-(x_1,y_1)"
   ]
  },
  {
   "cell_type": "code",
   "execution_count": null,
   "id": "456df544",
   "metadata": {},
   "outputs": [],
   "source": [
    "#Producto de cuaterniones\n",
    "import Base.*\n",
    "function*(x::Cuaternion,y::Cuaternion)\n",
    "    Cuaternion((x.a_1*y.a_1 - x.a_2*y.a_2 - x.a_3*y.a_3 - x.a_4*y.a_4),(x.a_1*y.a_2 + x.a_2*y.a_1 + x.a_3*y.a_4 - x.a_4*y.a_3),(x.a_1*y.a_3 - x.a_2*y.a_4 + x.a_3*y.a_1 + x.a_4*y.a_2),(x.a_1*y.a_4+x.a_2*y.a_3-x.a_3*y.a_2+x.a_4*y.a_1))\n",
    "end\n",
    "*(x_1,y_1)"
   ]
  },
  {
   "cell_type": "code",
   "execution_count": null,
   "id": "addadceb",
   "metadata": {},
   "outputs": [],
   "source": [
    "#Cociente de cuaterniones\n",
    "import Base.conj\n",
    "function conj(a::Cuaternion) #la parte real no se conjuga y conjygar un imagiario es solo cambiar su signo\n",
    "    Cuaternion(a.a_1, -a.a_2, -a.a_3, -a.a_4)\n",
    "end\n",
    "conj(x_1)"
   ]
  },
  {
   "cell_type": "code",
   "execution_count": null,
   "id": "a27d65dd",
   "metadata": {},
   "outputs": [],
   "source": [
    "#Ahora ya estariamos listos para hacer el cociente pero no, necesitamos a la norma de un cuaternion que por definicion √x*x` donde x`es el conjugado o la que conocemos de siempre\n",
    "import LinearAlgebra.norm\n",
    "import Base.norm\n",
    "function norm(a::Cuaternion)\n",
    "    √((a.a_1)^2+(a.a_2)^2+(a.a_3)^2+(a.a_4)^2)\n",
    "end\n",
    "norm(x_1)"
   ]
  },
  {
   "cell_type": "code",
   "execution_count": null,
   "id": "4a1322cb",
   "metadata": {},
   "outputs": [],
   "source": [
    "## Producto cuando se multiplica con un escalar\n",
    "function *(c::Real,x::Cuaternion)\n",
    "    Cuaternion(c*x.a_1, c*x.a_2, c*x.a_3, c*x.a_4)\n",
    "end\n",
    "import Base./\n",
    "function /(x::Cuaternion, y::Cuaternion)\n",
    "    *((1/(norm(y))^2),(x*conj(y)))\n",
    "end\n",
    "/(x_1,y_1)"
   ]
  },
  {
   "cell_type": "code",
   "execution_count": null,
   "id": "ed323bb8",
   "metadata": {},
   "outputs": [],
   "source": [
    "#Forma exponencial de los cuaterniones\n",
    "import Base.exp\n",
    "function exp(x::Cuaternion)\n",
    "    raiz = √((x.a_2)^2 + (x.a_3)^2 + (x.a_4)^2)\n",
    "    terminofinal = Cuaternion(0,x.a_2, x.a_3, x.a_4)\n",
    "    exp(x.a_1)*(cos(raiz) *Cuaternion(1,0,0,0) + (sin(raiz)/raiz)*terminofinal) # aqui es necesario notar que termino final trae la componente imaginaria pero el coseno para poder multiplicarse con e^a necesita hacerlo en la parte real por lo que multiplicamos por un cuaternion con solo componente real\n",
    "end    # es decir e^(a_1) es real y cos(raiz) un simple numero que terinara por estar en la componente real, para que el producto se pueda hacer necesita ser cuaternion x cuaternion\n",
    "exp(x_1)"
   ]
  },
  {
   "cell_type": "code",
   "execution_count": null,
   "id": "422975ac",
   "metadata": {},
   "outputs": [],
   "source": [
    "#Rotacion de cuaterniones\n",
    "function rotacion(r::Vector{<:Real};eje::Vector{<:Real}, theta::Real)\n",
    "    q= exp(theta/2*Cuaternion(0,eje[1],eje[2],eje[3]))\n",
    "    v = Cuaternion(0,u[1],u[2],u[3])  ##solo nos interesa los componentes imaginarios por ser sobre el eje (o,U)\n",
    "    return [(q*v*inv(q)).a_2,(q*v*inv(q)).a_3,(q*v*inv(q)).a_4]   #solo usamos las a_2 a a_4 por que son los componentes imaginarios\n",
    "end"
   ]
  },
  {
   "cell_type": "markdown",
   "id": "20515f33",
   "metadata": {},
   "source": [
    "**1 pt (5 / 10)**\n",
    "\n",
    "**Nota:** Muy bien! Aunque su función `rotacion` tiene varios errores, por ejemplo, usan la variable `u` pero nunca la definen. "
   ]
  },
  {
   "cell_type": "markdown",
   "id": "bdcc9948",
   "metadata": {},
   "source": [
    "**Para sacar 8:** Haz una función que obtenga (con fuerza bruta) una teselación de Voronoi para un conjunto de vértices en $\\mathbb{R}^2$ contenidos en un cuadrado de lado $L$ y centro en $\\vec{p}_c$. Para esto sigue los siguientes pasos: \n",
    "\n",
    "Haz una función que dados 2 puntos en $\\mathbb{R}^2$, obtenga la recta mediatriz (puedes definir esta recta por la pendiente y la ordenada al orígen, o por un punto por el que pasa y su pendiente). Después haz una función que dado un polígono y una recta (o si quieres, los parámetros que la definen, aunque puedes hacer un objeto llamado \"Recta\" que contenga esos parámetros), arroje los polígonos que resultan de cortar al polígono original con la recta (puedes asumir que tu polígono es convexo). \n",
    "\n",
    "La celda de Voronoi contenida en un polígono dado $\\mathbb{p}$ del punto $\\vec{p}_i$ de un conjunto de vértices $\\mathbb{V}$, es el polígono que contiene a $\\vec{p}_i$ y que se forma de cortar $\\mathbb{p}$ con todas las mediatrices entre $\\vec{p}_i$ y cualquier otro punto de $\\mathbb{V}$. Es decir, para calcular la celda de Voronoi $\\mathbb{v}_i$ asociada al punto $\\vec{p}_i$ se puede comenzar suponiendo que esa celda es $\\mathbb{v}_i = \\mathbb{p}$. Después de forma iterativa se calcula la mediatriz entre $\\vec{p}_i$ y cada punto $\\vec{p}_j \\in \\mathbb{V}$ con $j\\ne i$. Con esta mediatriz se reduce $\\mathbb{v}_i$ (se corta y se desechan los polígonos que no contienen a  $\\vec{p}_i$). \n",
    "\n",
    "Como ultimo paso, haz la función que aplica el algoritmo arriba mencionado a cada uno de los puntos de $\\mathbb{V}$.\n",
    "\n",
    "**Nota: Este algoritmo es de complejidad O(n^2). Los algoritmos eficientes son de orden O(nlog(n)), por lo que este es muy poco eficiente, pruébalo con pocos puntos (100 o 200 está bien, pero no te vayas a millones). También, haz la prueba con un arreglo de puntos muy pequeño (3 puntos, por ejemplo), para que puedas comprobar que los polígonos que te genera (serán 3 polígonos), son los que debería de arrojar.**\n",
    "\n",
    "**Nota2: En la siguiete tarea dejaré un problema sobre graficar esto bonito, así que si haces este problema, tendrás la mitad de uno de los problemas finales de la siguiente tarea**. "
   ]
  },
  {
   "cell_type": "code",
   "execution_count": null,
   "id": "c5183367",
   "metadata": {},
   "outputs": [],
   "source": []
  },
  {
   "cell_type": "markdown",
   "id": "a3155f1c",
   "metadata": {},
   "source": [
    "\n",
    "**Para sacar 9:** Este problema se trata de repetir el ejercicio 13 para el caso 3D. Es decir, queremos que dada una superficie triangular (poligonal), una posición inicial y una velocidad inicial de una partícula, se calcule las intersecciones la trayectoria (una parábola) de la dichosa partícula con la superficie triangular. \n",
    "\n",
    "Para resolver este problema te recomiendo los siguientes pasos (funciones). Primero haz una función que dado un triángulo en $\\mathbb{R}^3$, te arroje el plano que lo contiene (es decir, un punto por el que pasa (cualquier vértice) y el vector ortogonal al plano). Después haz una función que te encuentre la rotación (matriz de rotación en 3D) que tienes que aplicar a un vector $\\hat{n}$ (el vector ortogonal al plano) para que este termine siendo $(0,0,1)$. \n",
    "\n",
    "Después haz una función que dado un punto en $\\mathbb{R}^3$ y un triángulo, decida si la proyección del punto al plano donde está el triángulo está o no dentro del triángulo. Para esto, primero obtienes el plano que contiene el triángulo, luego la matriz de rotación que transforma ese plano en uno paralelo al plano $xy$, después aplicas la matriz de rotación al triángulo y al punto, luego usas la función para decidir si un punto está dentro de un polígono para decidir si la proyección está dentro del triángulo. \n",
    "\n",
    "También haz una función que dada una parábola (en 3D definida de forma paramétrica, usando el tiempo como parámetro) y un plano, calcule el tiempo que tarda (con tiempo positivo) en intersectar la parábola al plano. Asegúrate de arrojar un tiempo infinito si no intersecta en un tiempo positivo (o si lo hace en un tiempo imaginario). \n",
    "\n",
    "Finalmente, une todo lo anterior para calcular con qué triángulo intersecta la parábola que se forma de tirar una partícula con una posición y velocidad inicial dada (con constante $g = 9.81$ y sin fricción del aire). \n",
    "\n",
    "**Nota: si hiciste el ejercicio para sacar 7, puedes usarlo aquí para obtener la rotación del sistema (en vez de la matriz de rotación) que pone a un triángulo en un plano paralelo a $xy$. Simplemente necesitas sacar el vector ortogonal al eje $z$ y a $\\hat{n}$ y rotar el ángulo que forman esos mismos vectores.** \n"
   ]
  },
  {
   "cell_type": "code",
   "execution_count": null,
   "id": "0fe3a62b",
   "metadata": {},
   "outputs": [],
   "source": []
  },
  {
   "cell_type": "markdown",
   "id": "156f5e79",
   "metadata": {},
   "source": [
    "**Para sacar 10:** Haz un objeto poliedro, que tenga como propiedades las caras (polígonos), la superficie y el volumen del poliedro. Después haz una función que verifique si un poliedro es un poliedro real, es decir, que todos los segmentos de las caras están en exáctamente 2 caras, además que cada cara es plana (o sea, el polígono (en 3D), está todo contenido en un plano). Recuerda que hay errores numéricos, así que 2 segmentos pueden estar \"ligeramente\" fuera del plano que contiene a los demás y estar realmente en el mismo plano, toma esto en cuenta (para esto puedes usar el operador $\\approx$, y también puedes definir una tolerancia). \n",
    "\n",
    "**Nota: También para este problema te puede servir el de los cuaterniones**"
   ]
  },
  {
   "cell_type": "code",
   "execution_count": null,
   "id": "11d6c6b0",
   "metadata": {},
   "outputs": [],
   "source": []
  },
  {
   "cell_type": "markdown",
   "id": "7cff5775",
   "metadata": {},
   "source": [
    "**Para sacar 11:** Haz una función Poliedro, que tome como argumentos una lista de Polígonos y verifique que estos corresponden a las caras de un poliedro real (repetir lo del ejercicio anterior). Si no lo hacen, entonces que arroje un error. Si sí son parte de un poliedro real, entonces obtenga el objeto Poliedro formado por esas caras, es decir, también que calcule la superficie y el volumen del poliedro. Esto último no es trivial, revisar: https://en.wikipedia.org/wiki/Polyhedron"
   ]
  },
  {
   "cell_type": "code",
   "execution_count": null,
   "id": "bc6df624",
   "metadata": {},
   "outputs": [],
   "source": []
  }
 ],
 "metadata": {
  "kernelspec": {
   "display_name": "Julia 1.8.3",
   "language": "julia",
   "name": "julia-1.8"
  },
  "language_info": {
   "file_extension": ".jl",
   "mimetype": "application/julia",
   "name": "julia",
   "version": "1.8.3"
  }
 },
 "nbformat": 4,
 "nbformat_minor": 5
}
