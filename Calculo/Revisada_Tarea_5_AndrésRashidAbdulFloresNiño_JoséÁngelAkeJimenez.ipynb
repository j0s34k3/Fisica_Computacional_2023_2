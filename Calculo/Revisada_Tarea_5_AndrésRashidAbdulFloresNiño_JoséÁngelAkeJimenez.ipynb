{
 "cells": [
  {
   "cell_type": "markdown",
   "id": "3005779d",
   "metadata": {},
   "source": [
    "# Tarea 5: Cálculo\n",
    "\n",
    "Equipo:\n",
    "\n",
    "Nombres de cada integrante del equipo.\n",
    "\n",
    "**Tienen hasta el martes 28 de marzo 11:59pm para entregarla.** \n",
    "\n",
    "La idea de esta tarea es que adquieran práctica resolviendo problemas de cálculo utilizando las diferentes técnicas vistas. La tarea no la sentirán tan \"práctica\" como las anteriores. La razón es que la aplicación principal es resolver sistemas de ecuaciones algebráicas, que es el tema de la siguiente tanda de videos y tarea. \n",
    "\n",
    "Resolver sistemas de ecuaciones no sólo es importante por el problema algebráico, sino que es además la base para resolver sistemas de ecuaciones diferenciales parciales (casi podría decir, que si se sabe resolver sistemas de ecuaciones algebráicos, se sabe resolver ecuaciones diferenciales parciales) y también se usa para resolver el problema de máximos y mínimos. Es decir, las aplicaciones prácticas de lo visto en esta tanda de videos se verán realmente hasta los siguientes temas. \n",
    "\n",
    "**Nota:** En esta tarea no se permite usar otras paqueterías de cálculo que las ya vistas, pero si quieren usar paqueterías que no sean de cálculo, pueden preguntar, es muy probable que sean autorizadas. \n",
    "\n",
    "## Problemas básicos\n",
    "\n",
    "[1] Escribe el desarrollo de Taylor de la función $f$ al rededor de $x$ hasta orden 4 para variaciones $\\Delta x$, $1.5 \\Delta x$, $2 \\Delta x$, $2.5 \\Delta x$ y $3 \\Delta x$. Multiplica cada desarrollo por un coeficiente diferente $A_1$, $A_{1.5}$, $A_2$, $A_{2.5}$ y $A_3$ y suma los 5 desarrollos. Haciendo $0$ los coeficientes de que multiplican $f(x)$, $f'(x)$, $f''(x)$ y $f^{(3)}(x)$ y $1$ el que multiplica a $f^{(4)}(x)$, obtén un sistema de ecuaciones lineales para los valores de $A_1$, $A_{1.5}$, $A_2$, $A_{2.5}$ y $A_3$. Finalmente resolviendo ese sistema de ecuaciones obtén una fórmula para $f^{(4)}(x)$ (usa fracciones como 3//5 en vez de 1.5). Prueba tu fórmula con sin(x). ¿Qué tal funciona? Grafica sin(x) y su cuarta diferencial. \n",
    "\n",
    "Nota: En este ejercicio NO puedes usar SymPy! "
   ]
  },
  {
   "cell_type": "code",
   "execution_count": null,
   "id": "b572fb36",
   "metadata": {},
   "outputs": [],
   "source": [
    "using Plots, LaTeXStrings"
   ]
  },
  {
   "cell_type": "markdown",
   "id": "be946f00",
   "metadata": {},
   "source": [
    "*Tenemos los siguientes polinomios de Taylor:*\n",
    "\n",
    "$$f(x+\\Delta{x})=f(x)+\\Delta{x}f'(x)+\\dfrac{\\Delta{t^{2}}}{2}f''(x)+\\dfrac{\\Delta{t^{3}}}{6}f^{(3)}(x)+\\dfrac{\\Delta{t^{4}}}{24}f^{(4)}(x)$$\n",
    "\n",
    "$$f(x+\\dfrac{3}{2}\\Delta{x})=f(x)+\\dfrac{3}{2}\\Delta{x}f'(x)+\\dfrac{9}{4}\\dfrac{\\Delta{t^{2}}}{2}f''(x)+\\dfrac{27}{8}\\dfrac{\\Delta{t^{3}}}{6}f^{(3)}(x)+\\dfrac{81}{16}\\dfrac{\\Delta{t^{4}}}{24}f^{(4)}(x)$$\n",
    "\n",
    "$$f(x+2\\Delta{x})=f(x)+2\\Delta{x}f'(x)+4\\dfrac{\\Delta{t^{2}}}{2}f''(x)+8\\dfrac{\\Delta{t^{3}}}{6}f^{(3)}(x)+16\\dfrac{\\Delta{t^{4}}}{24}f^{(4)}(x)$$\n",
    "\n",
    "$$f(x+\\dfrac{5}{2}\\Delta{x})=f(x)+\\dfrac{5}{2}\\Delta{x}f'(x)+\\dfrac{25}{4}\\dfrac{\\Delta{t^{2}}}{2}f''(x)+\\dfrac{125}{8}\\dfrac{\\Delta{t^{3}}}{6}f^{(3)}(x)+\\dfrac{625}{16}\\dfrac{\\Delta{t^{4}}}{24}f^{(4)}(x)$$\n",
    "\n",
    "$$f(x+3\\Delta{x})=f(x)+3\\Delta{x}f'(x)+9\\dfrac{\\Delta{t^{2}}}{2}f''(x)+27\\dfrac{\\Delta{t^{3}}}{6}f^{(3)}(x)+81\\dfrac{\\Delta{t^{4}}}{24}f^{(4)}(x)$$\n",
    "\n",
    "*Multiplicando por las constantes antes mencionadas, tenemos:*\n",
    "\n",
    "$$A_{1}f(x+\\Delta{x})+A_{1.5}f(x+\\dfrac{3}{2}\\Delta{x})+A_{2}f(x+2\\Delta{x})+A_{2.5}f(x+\\dfrac{5}{2}\\Delta{x})+A_{3}f(x+3\\Delta{x})=(A_{1}+A_{1.5}+A_{2}+A_{2.5}+A_{3})f(x)+(A_{1}+\\dfrac{3}{2}A_{1.5}+2A_{2}+\\dfrac{5}{2}A_{2.5}+3A_{3})\\Delta{x}f'(x)+(A_{1}+\\dfrac{9}{4}A_{1.5}+4A_{2}+\\dfrac{25}{4}A_{2.5}+9A_{3})\\Delta{x^{2}}f''(x)+(A_{1}+\\dfrac{27}{8}A_{1.5}+8A_{2}+\\dfrac{125}{8}A_{2.5}+27A_{3})\\Delta{x^{3}}f^{(3)}(x)+(A_{1}+\\dfrac{81}{16}A_{1.5}+16A_{2}+\\dfrac{625}{16}A_{2.5}+81A_{3})\\Delta{x^{4}}f^{(4)}(x)$$\n",
    "\n",
    "*Igualando a 0 los coeficientes que multiplican a $f(x)$,$f'(x)$,$f''(x)$,$f^{(3)}(x)$ e igualando a 1 los coeficientes que multiplican a $f^{4}(x)$, tenemos:*\n",
    "\n",
    "$$A_{1}+A_{1.5}+A_{2}+A_{2.5}+A_{3}=0$$\n",
    "$$A_{1}+\\dfrac{3}{2}A_{1.5}+2A_{2}+\\dfrac{5}{2}A_{2.5}+3A_{3}=0$$\n",
    "$$A_{1}+\\dfrac{9}{4}A_{1.5}+4A_{2}+\\dfrac{25}{4}A_{2.5}+9A_{3}=0$$\n",
    "$$A_{1}+\\dfrac{27}{8}A_{1.5}+8A_{2}+\\dfrac{125}{8}A_{2.5}+27A_{3}=0$$\n",
    "$$A_{1}+\\dfrac{81}{16}A_{1.5}+16A_{2}+\\dfrac{625}{16}A_{2.5}+81A_{3}=\\dfrac{24}{\\Delta{x^{4}}}$$\n",
    "\n",
    "*Resolviendo el sistema:*"
   ]
  },
  {
   "cell_type": "code",
   "execution_count": null,
   "id": "fc52fa25",
   "metadata": {},
   "outputs": [],
   "source": [
    "A = [1 1 1 1 1;\n",
    "    1 3//2 2 5//2 3;\n",
    "    1 9//4 4 25//4 9;\n",
    "    1 27//8 8 125//8 27;\n",
    "    1 81//16 16 625//16 81]"
   ]
  },
  {
   "cell_type": "code",
   "execution_count": null,
   "id": "f35ba5c1",
   "metadata": {},
   "outputs": [],
   "source": [
    "B = [0;\n",
    "    0;\n",
    "    0;\n",
    "    0;\n",
    "    24]"
   ]
  },
  {
   "cell_type": "code",
   "execution_count": null,
   "id": "88892e8f",
   "metadata": {},
   "outputs": [],
   "source": [
    "A \\ B"
   ]
  },
  {
   "cell_type": "markdown",
   "id": "00cf3256",
   "metadata": {},
   "source": [
    "*Entonces tenemos que:*\n",
    "\n",
    "$$A_{1}=16,~A_{1.5}=-64,~A_{2}=96,~A_{2.5}=-64,~A_{3}=16$$\n",
    "\n",
    "*por lo que tendremos que:*\n",
    "\n",
    "$$\\dfrac{d^{4}f(x)}{dx^{4}} \\approx \\dfrac{16f(x+\\Delta{x})-64f(x+\\dfrac{2}{3}\\Delta{x})+96f(x+2\\Delta{x})-64f(x+\\dfrac{5}{2}\\Delta{x})+16f(x+3\\Delta{x})}{\\Delta{x^{4}}}$$"
   ]
  },
  {
   "cell_type": "code",
   "execution_count": null,
   "id": "7ff974e7",
   "metadata": {},
   "outputs": [],
   "source": [
    "f⁽⁴⁾(f, x; Δx = 0.0001) = (16*f(x+Δx)-64*f(x+1.5Δx)+96*f(x+2Δx)-64*f(x+2.5Δx)+16*f(x+3Δx))/Δx^4"
   ]
  },
  {
   "cell_type": "code",
   "execution_count": null,
   "id": "28d3de07",
   "metadata": {},
   "outputs": [],
   "source": [
    "f₁(x) = sin(x) \n",
    "f₂(x) = f⁽⁴⁾(f₁,x, Δx = 0.01)\n",
    "x = 0:0.01:2π\n",
    "plot(x,f₁.(x), label = L\"sin(x)\")\n",
    "plot!(x,f₂.(x), label = L\"\\dfrac{d^{4}sin(x)}{dx^{4}}\")"
   ]
  },
  {
   "cell_type": "markdown",
   "id": "fcef4d42",
   "metadata": {},
   "source": [
    "**3/5 pts (3/5 de 10)**\n",
    "\n",
    "**Nota:** Excelente!"
   ]
  },
  {
   "cell_type": "markdown",
   "id": "917d1cb3",
   "metadata": {},
   "source": [
    "[2] El proceso anterior lo puedes generalizar dados los coeficientes que multiplican a $\\Delta x$. Haz una función que tenga como argumentos esos coeficientes, el grado de derivada $n$ que se quiere calcular y arroje los valores de las constantes $A_r$. Haz además una función que dadas las constantes $A_r$ y los coeficientes que multiplican a $\\Delta x$, genere una función que calcule la correspondiente derivada. Finalmente convina las funciones anteriores para hacer una función que tenga como argumentos los coefcientes que multiplican a $\\Delta x$ y el grado de la derivada que se quiere calcular y que arroje una función $derivada_n$ que dependa de otra función $f$ y un número, de tal forma que $derviada_n(f,x)$ sea la derivada $n-$ésima de $f$ evaluada en $x$ usando los coeficientes que se dieron. \n",
    "\n",
    "Nota: En este ejercicio NO puedes usar SymPy! "
   ]
  },
  {
   "cell_type": "code",
   "execution_count": 1,
   "id": "81ae4b41",
   "metadata": {},
   "outputs": [
    {
     "data": {
      "text/plain": [
       "coef (generic function with 1 method)"
      ]
     },
     "execution_count": 1,
     "metadata": {},
     "output_type": "execute_result"
    }
   ],
   "source": [
    "function coef(x::Array, n::Int)\n",
    "    B = [0//1 for i in 1:length(x)]\n",
    "    B[n+1] = factorial(n)//1\n",
    "    A = [x[j].^i//1 for i ∈ 0:length(x)-1, j ∈ 1:length(x)]\n",
    "    Aᵣ = A \\ B\n",
    "    return Aᵣ\n",
    "end"
   ]
  },
  {
   "cell_type": "code",
   "execution_count": 2,
   "id": "a46deeaa",
   "metadata": {},
   "outputs": [
    {
     "data": {
      "text/plain": [
       "4-element Vector{Int64}:\n",
       "  1\n",
       " -1\n",
       "  2\n",
       " -2"
      ]
     },
     "execution_count": 2,
     "metadata": {},
     "output_type": "execute_result"
    }
   ],
   "source": [
    "a = [1,-1,2,-2]"
   ]
  },
  {
   "cell_type": "code",
   "execution_count": 3,
   "id": "6a7d843e",
   "metadata": {},
   "outputs": [
    {
     "data": {
      "text/plain": [
       "5-element Vector{Rational{Int64}}:\n",
       " 1//1\n",
       " 3//2\n",
       " 2//1\n",
       " 5//2\n",
       " 3//1"
      ]
     },
     "execution_count": 3,
     "metadata": {},
     "output_type": "execute_result"
    }
   ],
   "source": [
    "b = [1,3//2,2,5//2,3]"
   ]
  },
  {
   "cell_type": "code",
   "execution_count": 4,
   "id": "d59417f0",
   "metadata": {},
   "outputs": [
    {
     "data": {
      "text/plain": [
       "4-element Vector{Rational{Int64}}:\n",
       "  2//3\n",
       " -2//3\n",
       " -1//12\n",
       "  1//12"
      ]
     },
     "execution_count": 4,
     "metadata": {},
     "output_type": "execute_result"
    }
   ],
   "source": [
    "coef(a,1)"
   ]
  },
  {
   "cell_type": "code",
   "execution_count": 5,
   "id": "9f91c8ac",
   "metadata": {},
   "outputs": [
    {
     "data": {
      "text/plain": [
       "5-element Vector{Rational{Int64}}:\n",
       "  16//1\n",
       " -64//1\n",
       "  96//1\n",
       " -64//1\n",
       "  16//1"
      ]
     },
     "execution_count": 5,
     "metadata": {},
     "output_type": "execute_result"
    }
   ],
   "source": [
    "coef(b,4)"
   ]
  },
  {
   "cell_type": "code",
   "execution_count": 6,
   "id": "f5f5960c",
   "metadata": {},
   "outputs": [
    {
     "data": {
      "text/plain": [
       "genfun (generic function with 1 method)"
      ]
     },
     "execution_count": 6,
     "metadata": {},
     "output_type": "execute_result"
    }
   ],
   "source": [
    "function genfun(Aᵣ, x, n)\n",
    "    return d(f,t; Δt = 0.0001) = sum([Aᵣ[i]*f(t+x[i]*Δt) for i ∈ 1:length(x)])/Δt^n\n",
    "end"
   ]
  },
  {
   "cell_type": "code",
   "execution_count": 7,
   "id": "1f4e45f5",
   "metadata": {},
   "outputs": [
    {
     "data": {
      "text/plain": [
       "(::var\"#d#9\"{var\"#d#7#10\"{Vector{Rational{Int64}}, Vector{Rational{Int64}}, Int64}}) (generic function with 1 method)"
      ]
     },
     "execution_count": 7,
     "metadata": {},
     "output_type": "execute_result"
    }
   ],
   "source": [
    "genfun(coef(b,4),b,4)"
   ]
  },
  {
   "cell_type": "code",
   "execution_count": 8,
   "id": "4350bf30",
   "metadata": {},
   "outputs": [
    {
     "data": {
      "text/plain": [
       "derivadaₙ (generic function with 1 method)"
      ]
     },
     "execution_count": 8,
     "metadata": {},
     "output_type": "execute_result"
    }
   ],
   "source": [
    "function derivadaₙ(x,n)\n",
    "    Aᵣ = coef(x, n)\n",
    "    genfun(Aᵣ, x, n)\n",
    "end"
   ]
  },
  {
   "cell_type": "code",
   "execution_count": 13,
   "id": "d3082c1c",
   "metadata": {},
   "outputs": [
    {
     "data": {
      "text/plain": [
       "(::var\"#d#9\"{var\"#d#7#10\"{Vector{Rational{Int64}}, Vector{Int64}, Int64}}) (generic function with 1 method)"
      ]
     },
     "execution_count": 13,
     "metadata": {},
     "output_type": "execute_result"
    }
   ],
   "source": [
    "derivadaₙ([-4,-3,-2,-1,1,2,3,4],1)"
   ]
  },
  {
   "cell_type": "code",
   "execution_count": 15,
   "id": "d91f745c",
   "metadata": {},
   "outputs": [
    {
     "data": {
      "text/plain": [
       "(::var\"#d#9\"{var\"#d#7#10\"{Vector{Rational{Int64}}, Vector{Int64}, Int64}}) (generic function with 1 method)"
      ]
     },
     "execution_count": 15,
     "metadata": {},
     "output_type": "execute_result"
    }
   ],
   "source": [
    "f¹ = derivadaₙ([-4,-3,-2,-1,1,2,3,4],1)"
   ]
  },
  {
   "cell_type": "code",
   "execution_count": 20,
   "id": "ee07c754",
   "metadata": {},
   "outputs": [
    {
     "data": {
      "text/plain": [
       "1.058875209736243e-10"
      ]
     },
     "execution_count": 20,
     "metadata": {},
     "output_type": "execute_result"
    }
   ],
   "source": [
    "f¹(log,1e10)"
   ]
  },
  {
   "cell_type": "code",
   "execution_count": 9,
   "id": "c6dde4dc",
   "metadata": {},
   "outputs": [
    {
     "data": {
      "text/plain": [
       "(::var\"#d#9\"{var\"#d#7#10\"{Vector{Rational{Int64}}, Vector{Rational{Int64}}, Int64}}) (generic function with 1 method)"
      ]
     },
     "execution_count": 9,
     "metadata": {},
     "output_type": "execute_result"
    }
   ],
   "source": [
    "f⁽⁴⁾ₛᵢₙ = derivadaₙ([1,3//2,2,5//2,3],4)"
   ]
  },
  {
   "cell_type": "code",
   "execution_count": 10,
   "id": "0c6a04eb",
   "metadata": {},
   "outputs": [
    {
     "data": {
      "text/plain": [
       "0.017347234759768067"
      ]
     },
     "execution_count": 10,
     "metadata": {},
     "output_type": "execute_result"
    }
   ],
   "source": [
    "f⁽⁴⁾ₛᵢₙ(sin,0)"
   ]
  },
  {
   "cell_type": "code",
   "execution_count": 11,
   "id": "54e9e5af",
   "metadata": {},
   "outputs": [
    {
     "ename": "LoadError",
     "evalue": "UndefVarError: `f⁽⁴⁾` not defined",
     "output_type": "error",
     "traceback": [
      "UndefVarError: `f⁽⁴⁾` not defined",
      "",
      "Stacktrace:",
      " [1] top-level scope",
      "   @ In[11]:1"
     ]
    }
   ],
   "source": [
    "f⁽⁴⁾(sin,0)"
   ]
  },
  {
   "cell_type": "code",
   "execution_count": 12,
   "id": "757f80cf",
   "metadata": {},
   "outputs": [
    {
     "data": {
      "text/plain": [
       "0.9997943806183685"
      ]
     },
     "execution_count": 12,
     "metadata": {},
     "output_type": "execute_result"
    }
   ],
   "source": [
    "f⁽⁴⁾ₛᵢₙ(sin,π/2; Δt = 0.01)"
   ]
  },
  {
   "cell_type": "code",
   "execution_count": null,
   "id": "1ea1cf7e",
   "metadata": {},
   "outputs": [],
   "source": [
    "f⁽⁴⁾(sin,π/2; Δx = 0.01)"
   ]
  },
  {
   "cell_type": "markdown",
   "id": "f6e2aa97",
   "metadata": {},
   "source": [
    "**3/5 pts (6/5 de 10)**\n",
    "\n",
    "**Notas:** Muy bien!\n",
    "- Les sugieron reemplazar \n",
    "```julia\n",
    "B = [0//1 for i in 1:length(x)]\n",
    "```\n",
    "por\n",
    "```julia\n",
    "B = zeros(Rational{Int}, length(x))\n",
    "```\n",
    "- Al hacer lo anterior, ya no requieren los `//1` en las siguientes dos líneas de su función `coef`\n",
    "```julia\n",
    "B[n+1] = factorial(n)//1\n",
    "A = [x[j].^i//1 for i ∈ 0:length(x)-1, j ∈ 1:length(x)]\n",
    "```\n",
    "- Lo ideal es que su vector de coeficientes esté en orden, es decir, cambiar `[1,-1,2,-2]` por `[-2,-1,1,2]`. "
   ]
  },
  {
   "cell_type": "markdown",
   "id": "85cd9fca",
   "metadata": {},
   "source": [
    "[3] Revisa cómo varía el error en la **primera** diferencial numérica (usando la versión simple del curso dos veces y un par más que produzcas con tu función del ejercicio 2) de las funciones $\\sin(x)$, $x^5$, $1/x$ y $\\tan(1/x)$ para varios valores de $x$ y como función de $\\Delta x$ (lo que en el video puse como $\\Delta t$). Para esto primero obtén analíticamente las derivadas de estas funciones (llamémosle genéricamente $f$ a la función, $f'$ a su derivada y $\\frac{\\Delta f}{\\Delta x}$ a su diferencial numérica). Grafica $\\frac{\\Delta f(x)}{\\Delta x}- f'(x)$ contra $\\Delta x$. Conviene graficar en escala logarítimica, así que los valores de $\\Delta x$ deben ir variando exponencialmente, por ejemplo, cada nuevo valor de $\\Delta x$ que sea $\\Delta x_n = 2 \\Delta x_{n-1}$ comenzando con $\\Delta x_0 = 10^{-10}$. Discute un **poco** tus resultados.\n",
    "\n",
    "Nota: Recuerda que en $\\Delta x$ la derivada numérica tiende a NaN. \n",
    "\n",
    "Nota2: Usa SymPy para obtener las derivadas simbólicas (analíticamente) de las funciones. "
   ]
  },
  {
   "cell_type": "code",
   "execution_count": null,
   "id": "b4ca60e2",
   "metadata": {},
   "outputs": [],
   "source": [
    "using SymPy"
   ]
  },
  {
   "cell_type": "code",
   "execution_count": null,
   "id": "34255c4e",
   "metadata": {},
   "outputs": [],
   "source": [
    "@vars x "
   ]
  },
  {
   "cell_type": "markdown",
   "id": "1f07f956",
   "metadata": {},
   "source": [
    "### sin(x)"
   ]
  },
  {
   "cell_type": "code",
   "execution_count": null,
   "id": "4147621c",
   "metadata": {},
   "outputs": [],
   "source": [
    "m = Any[]\n",
    "y = 10^-10\n",
    "push!(m,y)\n",
    "\n",
    "for i ∈ 1:49\n",
    "    y += y\n",
    "    push!(m,y)\n",
    "end\n",
    "\n",
    "m"
   ]
  },
  {
   "cell_type": "code",
   "execution_count": null,
   "id": "aa001b87",
   "metadata": {},
   "outputs": [],
   "source": [
    "g₁ = diff(sin(x),x)"
   ]
  },
  {
   "cell_type": "code",
   "execution_count": null,
   "id": "e01608a0",
   "metadata": {},
   "outputs": [],
   "source": [
    "h₁ = derivadaₙ([1,-1,2,-2],1)"
   ]
  },
  {
   "cell_type": "code",
   "execution_count": null,
   "id": "7dfe4bd0",
   "metadata": {},
   "outputs": [],
   "source": [
    "h₂ = derivadaₙ([1,3//2,2,5//2,3],1)"
   ]
  },
  {
   "cell_type": "code",
   "execution_count": null,
   "id": "c8a8a54e",
   "metadata": {},
   "outputs": [],
   "source": [
    "α₁ = N(g₁(π))"
   ]
  },
  {
   "cell_type": "code",
   "execution_count": null,
   "id": "8d47c8d6",
   "metadata": {},
   "outputs": [],
   "source": [
    "β₁ = [h₁(sin, π, Δt = i) for i ∈ m]"
   ]
  },
  {
   "cell_type": "code",
   "execution_count": null,
   "id": "32d64c22",
   "metadata": {},
   "outputs": [],
   "source": [
    "γ₁ = [h₂(sin, π, Δt = i) for i ∈ m]"
   ]
  },
  {
   "cell_type": "code",
   "execution_count": null,
   "id": "761ebb8f",
   "metadata": {},
   "outputs": [],
   "source": [
    "δ₁ = abs.(β₁ .- α₁)"
   ]
  },
  {
   "cell_type": "code",
   "execution_count": null,
   "id": "d296f447",
   "metadata": {},
   "outputs": [],
   "source": [
    "ϵ₁ = abs.(γ₁ .- α₁)"
   ]
  },
  {
   "cell_type": "code",
   "execution_count": null,
   "id": "31f3b320",
   "metadata": {},
   "outputs": [],
   "source": [
    "plot(log10.(m), log10.(δ₁), label = \"\", xlabel = L\"\\Delta x\", ylabel = L\"\\dfrac{\\Delta f(x)}{\\Delta x}-f'(x)\")\n",
    "plot!(log10.(m), log10.(ϵ₁), label = \"\")"
   ]
  },
  {
   "cell_type": "markdown",
   "id": "929cc47a",
   "metadata": {},
   "source": [
    "### $x^{5}$"
   ]
  },
  {
   "cell_type": "code",
   "execution_count": null,
   "id": "1b34efba",
   "metadata": {},
   "outputs": [],
   "source": [
    "n = Any[]\n",
    "y = 10^-10\n",
    "push!(m,y)\n",
    "\n",
    "for i ∈ 1:31\n",
    "    y += y\n",
    "    push!(n,y)\n",
    "end\n",
    "\n",
    "n"
   ]
  },
  {
   "cell_type": "code",
   "execution_count": null,
   "id": "733ac049",
   "metadata": {},
   "outputs": [],
   "source": [
    "g₂ = diff(x^5,x)"
   ]
  },
  {
   "cell_type": "code",
   "execution_count": null,
   "id": "d95e3861",
   "metadata": {},
   "outputs": [],
   "source": [
    "s₁ = derivadaₙ([1,-1,2,-2],1)"
   ]
  },
  {
   "cell_type": "code",
   "execution_count": null,
   "id": "5db7f228",
   "metadata": {},
   "outputs": [],
   "source": [
    "s₂ = derivadaₙ([1,3//2,2,5//2,3],1)"
   ]
  },
  {
   "cell_type": "code",
   "execution_count": null,
   "id": "72b277fd",
   "metadata": {},
   "outputs": [],
   "source": [
    "α₂ = N(g₂(10))"
   ]
  },
  {
   "cell_type": "code",
   "execution_count": null,
   "id": "878fc262",
   "metadata": {},
   "outputs": [],
   "source": [
    "β₂ = [N(s₁(x^5,10, Δt = i)) for i ∈ n]"
   ]
  },
  {
   "cell_type": "code",
   "execution_count": null,
   "id": "3aab06ab",
   "metadata": {},
   "outputs": [],
   "source": [
    "γ₂ = [N(s₂(x^5,10, Δt = i)) for i ∈ n]"
   ]
  },
  {
   "cell_type": "code",
   "execution_count": null,
   "id": "887f48f0",
   "metadata": {},
   "outputs": [],
   "source": [
    "δ₂ = abs.(β₂ .- α₂)"
   ]
  },
  {
   "cell_type": "code",
   "execution_count": null,
   "id": "987e9d6d",
   "metadata": {},
   "outputs": [],
   "source": [
    "ϵ₂ = abs.(γ₂ .- α₂)"
   ]
  },
  {
   "cell_type": "code",
   "execution_count": null,
   "id": "844c09fd",
   "metadata": {},
   "outputs": [],
   "source": [
    "plot()\n",
    "plot!(log10.(n), log10.(δ₂), label = \"\", xlabel = L\"\\Delta x\", ylabel = L\"\\dfrac{\\Delta f(x)}{\\Delta x}-f'(x)\")\n",
    "plot!(log10.(n), log10.(ϵ₂), label = \"\")"
   ]
  },
  {
   "cell_type": "markdown",
   "id": "cbe351d7",
   "metadata": {},
   "source": [
    "### $\\dfrac{1}{x}$"
   ]
  },
  {
   "cell_type": "code",
   "execution_count": null,
   "id": "ae2eceb4",
   "metadata": {},
   "outputs": [],
   "source": [
    "g₃ = diff(1/x,x)"
   ]
  },
  {
   "cell_type": "code",
   "execution_count": null,
   "id": "aebf3c0f",
   "metadata": {},
   "outputs": [],
   "source": [
    "i₁ = derivadaₙ([1,-1,2,-2],1)"
   ]
  },
  {
   "cell_type": "code",
   "execution_count": null,
   "id": "988d5848",
   "metadata": {},
   "outputs": [],
   "source": [
    "i₂ = derivadaₙ([1,3//2,2,5//2,3],1)"
   ]
  },
  {
   "cell_type": "code",
   "execution_count": null,
   "id": "a4265d45",
   "metadata": {},
   "outputs": [],
   "source": [
    "α₃ = N(g₃(4))"
   ]
  },
  {
   "cell_type": "code",
   "execution_count": null,
   "id": "81542b37",
   "metadata": {},
   "outputs": [],
   "source": [
    "β₃ = [N(i₁(1/x, 4, Δt = i)) for i ∈ n]"
   ]
  },
  {
   "cell_type": "code",
   "execution_count": null,
   "id": "96ae2666",
   "metadata": {},
   "outputs": [],
   "source": [
    "γ₃ = [N(i₂(1/x, 4, Δt = i)) for i ∈ n]"
   ]
  },
  {
   "cell_type": "code",
   "execution_count": null,
   "id": "74bbd360",
   "metadata": {},
   "outputs": [],
   "source": [
    "δ₃ = abs.(β₃ .- α₃)"
   ]
  },
  {
   "cell_type": "code",
   "execution_count": null,
   "id": "810f33e0",
   "metadata": {},
   "outputs": [],
   "source": [
    "ϵ₃ = abs.(γ₃ .- α₃)"
   ]
  },
  {
   "cell_type": "code",
   "execution_count": null,
   "id": "1a39bb43",
   "metadata": {},
   "outputs": [],
   "source": [
    "plot()\n",
    "plot!(log10.(n), log10.(δ₃), label = \"\", xlabel = L\"\\Delta x\", ylabel = L\"\\dfrac{\\Delta f(x)}{\\Delta x}-f'(x)\")\n",
    "plot!(log10.(n), log10.(ϵ₃), label = \"\")"
   ]
  },
  {
   "cell_type": "markdown",
   "id": "bef32c6a",
   "metadata": {},
   "source": [
    "### $tan\\left(\\dfrac{1}{x}\\right)$"
   ]
  },
  {
   "cell_type": "code",
   "execution_count": null,
   "id": "7bea0212",
   "metadata": {},
   "outputs": [],
   "source": [
    "g₄ = diff(tan(1/x),x)"
   ]
  },
  {
   "cell_type": "code",
   "execution_count": null,
   "id": "0647d305",
   "metadata": {},
   "outputs": [],
   "source": [
    "p₁ = derivadaₙ([1,-1,2,-2],1)"
   ]
  },
  {
   "cell_type": "code",
   "execution_count": null,
   "id": "218feea3",
   "metadata": {},
   "outputs": [],
   "source": [
    "p₂ = derivadaₙ([1,3//2,2,5//2,3],1)"
   ]
  },
  {
   "cell_type": "code",
   "execution_count": null,
   "id": "9d8e7b8e",
   "metadata": {},
   "outputs": [],
   "source": [
    "α₄ = N(g₄(π))"
   ]
  },
  {
   "cell_type": "code",
   "execution_count": null,
   "id": "4589d09a",
   "metadata": {},
   "outputs": [],
   "source": [
    "β₄ = [p₁(x -> tan(1/x),π, Δt = i) for i ∈ m]"
   ]
  },
  {
   "cell_type": "code",
   "execution_count": null,
   "id": "802da77b",
   "metadata": {},
   "outputs": [],
   "source": [
    "γ₄ = [p₂(x -> tan(1/x),π, Δt = i) for i ∈ m]"
   ]
  },
  {
   "cell_type": "code",
   "execution_count": null,
   "id": "9fa4b625",
   "metadata": {},
   "outputs": [],
   "source": [
    "δ₄ = abs.(β₄ .- α₄)"
   ]
  },
  {
   "cell_type": "code",
   "execution_count": null,
   "id": "8158847e",
   "metadata": {},
   "outputs": [],
   "source": [
    "ϵ₄ = abs.(γ₄ .- α₄)"
   ]
  },
  {
   "cell_type": "code",
   "execution_count": null,
   "id": "e04f7984",
   "metadata": {},
   "outputs": [],
   "source": [
    "plot()\n",
    "plot!(log10.(m), log10.(δ₄), label = \"\", xlabel = L\"\\Delta x\", ylabel = L\"\\dfrac{\\Delta f(x)}{\\Delta x}-f'(x)\")\n",
    "plot!(log10.(m), log10.(ϵ₄), label = \"\")"
   ]
  },
  {
   "cell_type": "markdown",
   "id": "680a2a94",
   "metadata": {},
   "source": [
    "**3/5 pts (9/5 de 10)**\n",
    "\n",
    "**Notas:** Muy bien!\n",
    "- Lo ideal sería que cada `for` para construir un arreglo `m` esté dentro de una función. \n",
    "- Para $sin(x)$ su arreglo `m` llega hasta `56294.9953421312`. Esto no tiene mucho sentido ya que para la derivada numérica suponemos que $\\Delta x << 1$, yo les sugeriría quedarse hasta $1$ o $0.1$. Una pregunta interesante, ¿por qué para el seno siguen obteniendo resultados aceptables aún con un $\\Delta x$ tan grande? \n",
    "- Muy buenas gráficas, sólo que en las etiquetas de los ejes les faltaron los logaritmos. \n",
    "- En el último inciso, estaban calculando la derivada numérica de la tangente\n",
    "```julia\n",
    "β₄ = [p₁(x -> tan,π, Δt = i) for i ∈ m]\n",
    "```\n",
    "en vez de\n",
    "```julia\n",
    "β₄ = [p₁(x -> tan(1/x),π, Δt = i) for i ∈ m]\n",
    "```\n",
    "Tengan cuidado.\n",
    "- En sus gráficas se observa que el error crece cuando $\\Delta x$ es muy grande y cuando es muy pequeño. ¿A qué se debe cada uno de estos comportamientos? "
   ]
  },
  {
   "cell_type": "markdown",
   "id": "3983bbc9",
   "metadata": {},
   "source": [
    "[4] Usando SymPy, haz una función para calcular puntos extremales de una función 1D. Explícitamente, obtén la derivada simbólica de una función y después utilizando la función \"solve\" de SymPy resuelve la ecuación $\\frac{df}{dx}(x) = 0$. Pongo un ejemplo abajo de cómo usar la función \"solve\".\n",
    "\n",
    "#######\n",
    "\n",
    "**ejemplo:**\n",
    "\n",
    "@vars x\n",
    "\n",
    "f(x) = x^2+1\n",
    "\n",
    "solve(f(x), x)\n",
    "\n",
    "\\#       Aquí se está resolviendo la ecuación $x^2 +1 = 0$. \n",
    "\n",
    "#######\n",
    "\n",
    "**Nota:** No puedes usar ninguna función para obtener extremales directamente. "
   ]
  },
  {
   "cell_type": "code",
   "execution_count": null,
   "id": "d06a62b5",
   "metadata": {},
   "outputs": [],
   "source": [
    "function extremales(f)\n",
    "    x = symbols(\"x\")\n",
    "    g = f(x)\n",
    "    df = diff(g,x)\n",
    "    solve(df)\n",
    "end"
   ]
  },
  {
   "cell_type": "code",
   "execution_count": null,
   "id": "a226e047",
   "metadata": {},
   "outputs": [],
   "source": [
    "f(t) = sin(t)"
   ]
  },
  {
   "cell_type": "code",
   "execution_count": null,
   "id": "a9c5486a",
   "metadata": {},
   "outputs": [],
   "source": [
    "extremales(f)"
   ]
  },
  {
   "cell_type": "markdown",
   "id": "186acf7e",
   "metadata": {},
   "source": [
    "**3/5 pts (12/5 de 10)**\n",
    "\n",
    "**Nota:** Muy bien!"
   ]
  },
  {
   "cell_type": "markdown",
   "id": "d5a355ad",
   "metadata": {},
   "source": [
    "[5]  Repite lo que se vió en el video como objeto de número dual y los métodos de +, -, /, ^, sin y cos para números duales. Prueba si con esto haca la diferencial automática de $\\tan(x)$, sino lo hace, agrega el correspondiente método. Además agrega los métodos necesarios para exp. Prueba que con estos métodos haga la derivación automática de  $\\exp(\\tan(x))+\\tan(x)^2$  correctamente."
   ]
  },
  {
   "cell_type": "code",
   "execution_count": null,
   "id": "89c69bad",
   "metadata": {},
   "outputs": [],
   "source": [
    "mutable struct D{T1 <: Number, T2 <: Number} <: Number\n",
    "    valor::T1\n",
    "    derivada::T2\n",
    "end"
   ]
  },
  {
   "cell_type": "code",
   "execution_count": null,
   "id": "b411a3ca",
   "metadata": {},
   "outputs": [],
   "source": [
    "import Base.+, Base.-, Base.*, Base./, Base.^, Base.sin, Base.cos\n",
    "+(a::D, b::D) = D(a.valor + b.valor, a.derivada + b.derivada)\n",
    "+(a::D, b::Number) = D(a.valor + b, a.derivada)\n",
    "+(b::Number, a::D) = D(a.valor + b, a.derivada)\n",
    "-(a::D, b::D) = D(a.valor - b.valor, a.derivada - b.derivada)\n",
    "-(a::D, b::Number) = D(a.valor - b, a.derivada)\n",
    "-(b::Number, a::D) = D(-a.valor + b, -a.derivada)\n",
    "#*(a::D, b::D) = D(a.valor * b.valor, a.derivada*b.valor + b.derivada*a.valor)\n",
    "#*(a::D, b::Number) = D(b*a.valor, b*a.derivada)\n",
    "#*(b::Number, a::D) = D(b*a.valor, b*a.derivada)\n",
    "/(a::D, b::D) = D(a.valor/b.valor, (a.derivada*b.valor - b.derivada*a.valor)/b.valor^2)\n",
    "/(a::D, b::Number) = D(a.valor/b, a.derivada/b)\n",
    "/(b::Number, a::D) = D(b/a.valor, -b*a.derivada/a.valor^2)\n",
    "^(a::D, b::Real) = D(a.valor^b, b*a.valor^(b-1)*a.derivada)\n",
    "^(a::D, b::Int) = D(a.valor^b,b*a.valor^(b-1)*a.derivada)\n",
    "sin(a::D) = D(sin(a.valor), a.derivada*cos(a.valor))\n",
    "cos(a::D) = D(cos(a.valor), -a.derivada*sin(a.valor))"
   ]
  },
  {
   "cell_type": "code",
   "execution_count": null,
   "id": "4da51f86",
   "metadata": {},
   "outputs": [],
   "source": [
    "derivada(f, x) = f(D(x,one(x))).derivada"
   ]
  },
  {
   "cell_type": "code",
   "execution_count": null,
   "id": "55c2680a",
   "metadata": {},
   "outputs": [],
   "source": [
    "f(x) = tan(x)"
   ]
  },
  {
   "cell_type": "code",
   "execution_count": null,
   "id": "da3b700d",
   "metadata": {},
   "outputs": [],
   "source": [
    "derivada(f,0)"
   ]
  },
  {
   "cell_type": "markdown",
   "id": "5b64846e",
   "metadata": {},
   "source": [
    "*Con esto podemos ver que no hace la diferencial automática de $tan(x)$, entonces agregaremos el método y algo extra.*"
   ]
  },
  {
   "cell_type": "code",
   "execution_count": null,
   "id": "6b8ead9a",
   "metadata": {},
   "outputs": [],
   "source": [
    "import Base.tan, Base.exp\n",
    "tan(a::D) = D(tan(a.valor), a.derivada*sec(a.valor)^2)\n",
    "exp(a::D) = D(exp(a.valor), a.derivada*exp(a.valor))"
   ]
  },
  {
   "cell_type": "code",
   "execution_count": null,
   "id": "4dddfa98",
   "metadata": {},
   "outputs": [],
   "source": [
    "g(x) = exp(tan(x)) + tan(x)^2"
   ]
  },
  {
   "cell_type": "code",
   "execution_count": null,
   "id": "23c52b89",
   "metadata": {},
   "outputs": [],
   "source": [
    "derivada(g,0)"
   ]
  },
  {
   "cell_type": "markdown",
   "id": "4ee40a3b",
   "metadata": {},
   "source": [
    "**3/5 pts (3 de 10)**\n",
    "\n",
    "**Notas:**\n",
    "- En realidad, no esperan que el valor y la derivada sean de tipos diferentes, así que yo simplificaría el objeto a \n",
    "```julia\n",
    "mutable struct D{T <: Number} <: Number\n",
    "    valor::T\n",
    "    derivada::T\n",
    "end\n",
    "```\n",
    "\n",
    "- Pueden cambiar \n",
    "```julia\n",
    "import Base.+, Base.-, Base.*, Base./, Base.^, Base.sin, Base.cos\n",
    "```\n",
    "por\n",
    "```julia\n",
    "import Base: +, -, *, /, ^, sin, cos\n",
    "```\n",
    "- En \n",
    "```julia\n",
    "derivada.(g,0)\n",
    "```\n",
    "no es necesario el punto. \n",
    "- Les recomiendo graficar las derivadas analítica y automática. "
   ]
  },
  {
   "cell_type": "markdown",
   "id": "2a4e0829",
   "metadata": {},
   "source": [
    "[6] El gradiente de una función $f$ apunta hacia la dirección de máximo crecimiento de dicha función. Esto puede ser útil para encontrar máximos (o mínimos usando $-\\vec{\\nabla} f$) locales. La idea es comenzar en cualquier punto $\\vec{x}_0$ y avanzar una cantidad $\\epsilon$ en dirección de $\\vec{\\nabla} f(\\vec{x}_0)$, es decir: $\\vec{x}_1 =\\vec{x}_0 +\\vec{\\nabla} f(\\vec{x}_0) \\epsilon$. En cada paso nos acercamos más al máximo. Usa esto para hacer una función que encuentre máximos (o mínimos) locales de una función $f$ dada una adivinanza inicial, un tamaño de paso $\\epsilon$ y una tolerancia $\\Delta$ tal que el valor que encuentre $\\vec{x}_n$ cumpla con $||\\vec{\\nabla} f(\\vec{x}_n)||< \\Delta$. Nota que en realidad $\\Delta$ puede depender de $f(\\vec{x}_n)$ y $\\epsilon$. Es mejor si puedes hacer que tu función sólo dependa de $\\epsilon$ y de $f$. \n",
    "\n",
    "Revisa que tu función avance correctamente el punto haciendo un gif animado del movimiento del punto en 2D que se mueve sobre alguna función (en 1D) con varios máximos y mínimos. También pruebalo sobre una partícula 3D que se mueve sobre una superficie (2D) con varios máximos y mínimos (para la superficie utiliza plotly). "
   ]
  },
  {
   "cell_type": "code",
   "execution_count": null,
   "id": "779550f3",
   "metadata": {},
   "outputs": [],
   "source": [
    "#using Pkg\n",
    "#Pkg.add(\"ForwardDiff\")\n",
    "\n",
    "using LinearAlgebra\n",
    "using ForwardDiff"
   ]
  },
  {
   "cell_type": "code",
   "execution_count": null,
   "id": "62850618",
   "metadata": {},
   "outputs": [],
   "source": [
    "function gradient(f, x)\n",
    "    return ForwardDiff.gradient(f, x)\n",
    "end"
   ]
  },
  {
   "cell_type": "code",
   "execution_count": null,
   "id": "e48e2e9b",
   "metadata": {},
   "outputs": [],
   "source": [
    "function max_local(f, x0, eps, delta)\n",
    "    grad = gradient(f, x0)\n",
    "    while norm(grad) > delta\n",
    "        x1 = x0 + eps * grad\n",
    "        grad = gradient(f, x1)\n",
    "        x0 = x1\n",
    "    end\n",
    "    return x0\n",
    "end"
   ]
  },
  {
   "cell_type": "code",
   "execution_count": null,
   "id": "412b7001",
   "metadata": {},
   "outputs": [],
   "source": [
    "function max_local_gif(f, x0, eps, delta)\n",
    "    xs = []\n",
    "    grad = gradient(f, x0)\n",
    "    while norm(grad) > delta\n",
    "        x1 = x0 + eps * grad\n",
    "        grad = gradient(f, x1)\n",
    "        x0 = x1\n",
    "        push!(xs, x0[1])\n",
    "    end\n",
    "    return x0, xs\n",
    "end"
   ]
  },
  {
   "cell_type": "code",
   "execution_count": null,
   "id": "aa2cb7e8",
   "metadata": {},
   "outputs": [],
   "source": [
    "z(x) = 3x[1]^3*(x[1] - 3)^2 -3"
   ]
  },
  {
   "cell_type": "code",
   "execution_count": null,
   "id": "7456136c",
   "metadata": {},
   "outputs": [],
   "source": [
    "max_local(z, [0.01], 1e-2, 1e-3)"
   ]
  },
  {
   "cell_type": "code",
   "execution_count": null,
   "id": "85b8e2e0",
   "metadata": {},
   "outputs": [],
   "source": [
    "x0, xs = max_local_gif(z, [0.01], 1e-2, 1e-3)"
   ]
  },
  {
   "cell_type": "code",
   "execution_count": null,
   "id": "e8176c45",
   "metadata": {},
   "outputs": [],
   "source": [
    "lim1 = x0[1] - 2\n",
    "lim2= x0[1] + 2\n",
    "\n",
    "anim = @animate for i in 1:length(xs)\n",
    "    plot(lim1:0.01:lim2, z.(lim1:0.01:lim2))\n",
    "    scatter!([xs[i]], [z.(xs)[i]])\n",
    "end\n",
    "gif(anim, \"tiro.gif\", fps=30)"
   ]
  },
  {
   "cell_type": "code",
   "execution_count": null,
   "id": "9f537cfe",
   "metadata": {},
   "outputs": [],
   "source": [
    "### Caso 3D"
   ]
  },
  {
   "cell_type": "code",
   "execution_count": null,
   "id": "d3517351",
   "metadata": {},
   "outputs": [],
   "source": [
    "l(x)=6 * x[1] * x[2]^(2)-2 * x[1]^(3)- 3 *x[2]^(4)"
   ]
  },
  {
   "cell_type": "code",
   "execution_count": null,
   "id": "2b15c035",
   "metadata": {},
   "outputs": [],
   "source": [
    "max_local(l, [0.5, 1.0], 1e-5, 1e-6)"
   ]
  },
  {
   "cell_type": "markdown",
   "id": "6fb1165a",
   "metadata": {},
   "source": [
    "**3/5 pts (18/5 de 10)**\n",
    "\n",
    "**Notas:** Muy bien! \n",
    "- Pueden evitarse\n",
    "```julia\n",
    "function gradient(f, x)\n",
    "    return ForwardDiff.gradient(f, x)\n",
    "end\n",
    "```\n",
    "con\n",
    "```julia\n",
    "using ForwardDiff: gradient\n",
    "```\n",
    "- Su resultado para 3D es correcto, les animo a también hacer un gif para dicho caso. "
   ]
  },
  {
   "cell_type": "markdown",
   "id": "ab7124f3",
   "metadata": {},
   "source": [
    "[7] Usa la idea anterior para dibujar las trayectorias de varias partículas cargadas (no interactuantes) que se mueven al rededor (y dentro) de un triángulo equilátero cuyos vértices tienen cargas fijas, 2 positivas y una negativa. Esta simulación tenderá a acercar a las partículas a algún vértice con carga opuesta y ello termina \"explotando\" la simulación. Para evitarlo, podemos pensar en las cargas de los vértices como pequeñas esferas cargadas y huecas, es decir, si una partícula se acerca más que un $r$ (muy pequeño) de un vértice el potencial $U_i$ debido a ese vértice se vuelve 0. \n",
    "\n",
    "Nota: Recuerda que $\\vec{F} = m \\vec{a} = -\\vec{\\nabla} U(\\vec{x})$. Aquí $U = \\sum_i U_i$ "
   ]
  },
  {
   "cell_type": "code",
   "execution_count": null,
   "id": "f061eb62",
   "metadata": {},
   "outputs": [],
   "source": [
    "# Constantes\n",
    "ε0 = 1\n",
    "q = 1 \n",
    "m = 1 \n",
    "\n",
    "# Cargas de los vértices del triángulo\n",
    "Q1 = 2*q\n",
    "Q2 = 2*q\n",
    "Q3 = -q\n",
    "\n",
    "# Posiciones de los vértices del triángulo\n",
    "e = [0, 0.5, 1]\n",
    "w = [0, sqrt(3)/2, 0]\n",
    "\n",
    "r1 = [e[1], w[1]]\n",
    "r2 = [e[2], w[2]]\n",
    "r3 = [e[3], w[3]]"
   ]
  },
  {
   "cell_type": "code",
   "execution_count": null,
   "id": "1020e2d9",
   "metadata": {},
   "outputs": [],
   "source": [
    "function fuerza_coulomb(q1, q2, r1, r2)\n",
    "    k = 1/(4*π*ε0)\n",
    "    r = norm(r2-r1)\n",
    "    f = k*q1*q2*(r2-r1)/r^3\n",
    "    return f\n",
    "end\n",
    "\n",
    "function fuerza_total(q, r, r1, r2, r3)\n",
    "    f1 = fuerza_coulomb(q, Q1, r, r1)\n",
    "    f2 = fuerza_coulomb(q, Q2, r, r2)\n",
    "    f3 = fuerza_coulomb(q, Q3, r, r3)\n",
    "    f_total = f1 + f2 + f3\n",
    "    return f_total\n",
    "end\n",
    "\n",
    "function aceleracion(q, r, r1, r2, r3)\n",
    "    f_total = fuerza_total(q, r, r1, r2, r3)\n",
    "    a = f_total/m\n",
    "    return a\n",
    "end\n",
    "\n",
    "function trayectoria(q, r0, v0, t_final, delta_t, r1=r1, r2=r2, r3=r3)\n",
    "    t = 0.0\n",
    "    r = r0\n",
    "    v = v0\n",
    "    posiciones = [r]\n",
    "    while t <= t_final\n",
    "        a = aceleracion(q, r, r1, r2, r3)\n",
    "        v = v + a*delta_t\n",
    "        r = r + v*delta_t\n",
    "        if norm(r-r1) < 1e-9 || norm(r-r2) < 1e-9 || norm(r-r3) < 1e-9\n",
    "            break\n",
    "        end\n",
    "        push!(posiciones, r)\n",
    "        t += delta_t\n",
    "    end\n",
    "    return posiciones\n",
    "end"
   ]
  },
  {
   "cell_type": "code",
   "execution_count": null,
   "id": "159be555",
   "metadata": {},
   "outputs": [],
   "source": [
    "gr()"
   ]
  },
  {
   "cell_type": "code",
   "execution_count": null,
   "id": "367024c8",
   "metadata": {},
   "outputs": [],
   "source": [
    "function dibujar_trayectoria(n, t_final = 10, delta_t = 0.001)\n",
    "    n_particulas = n\n",
    "    cargas = []\n",
    "    for i in 1:n_particulas\n",
    "        c = 2*rand() - 1\n",
    "        push!(cargas, q*c)\n",
    "    end\n",
    "    posiciones = []\n",
    "    for k in 1:n_particulas\n",
    "        push!(posiciones, [2*rand() - 1, 2*rand() - 1])\n",
    "    end\n",
    "    velocidades = []\n",
    "    for i in 1:n_particulas\n",
    "        push!(velocidades, [2*rand() - 1, 2*rand() - 1])\n",
    "    end\n",
    "    \n",
    "    scatter!(e, w, markersize=3, legend=false, aspect_ratio=:equal, markercolor=:black)\n",
    "    for i in 1:n_particulas\n",
    "        #p = plot!()\n",
    "        tray = trayectoria(cargas[i], posiciones[i], velocidades[i], t_final, delta_t)\n",
    "        x = [tray[i][1] for i in 1:length(tray)]\n",
    "        y = [tray[i][2] for i in 1:length(tray)]\n",
    "        plot!(x,y, legend = false)\n",
    "    end\n",
    "    display(p)\n",
    "end"
   ]
  },
  {
   "cell_type": "code",
   "execution_count": null,
   "id": "fa30cfb9",
   "metadata": {},
   "outputs": [],
   "source": [
    "p = plot(xlim = (-5, 5), ylim = (-5, 5))\n",
    "dibujar_trayectoria(20)\n",
    "display(p)"
   ]
  },
  {
   "cell_type": "markdown",
   "id": "13fb627d",
   "metadata": {},
   "source": [
    "**3/5 pts (21/5 de 10)**\n",
    "\n",
    "**Notas:**\n",
    "- Yo les recomiendo que todo esté dentro de una función. En este caso, me refiero a los parámetros \n",
    "```julia\n",
    "# Constantes\n",
    "ε0 = 1\n",
    "q = 1 \n",
    "m = 1 \n",
    "...\n",
    "```\n",
    "etc. Una alternativa es utilizar `const` para indicarle a Julia que la variable en cuestión no va a cambiar (sí puede cambiar de valor pero no de tipo), es decir\n",
    "```julia\n",
    "# Constantes\n",
    "const ε0 = 1\n",
    "const q = 1 \n",
    "const m = 1 \n",
    "...\n",
    "```\n",
    "- Ustedes acaban la trayectoria cuando una carga se acerca demasiado a uno de los vértices del triángulo. Sin embargo, el problema les pide que sólo se apague la contribución del vértice cercano, no que se termine la trayectoria. \n",
    "- En este tipo de gráficas les recomiendo fijar `xlim` y `ylim`, ya que tal y como tienen su código, apenas si se ve el triángulo. \n",
    "- Para este problea un gif se vería muy bien. "
   ]
  },
  {
   "cell_type": "markdown",
   "id": "e4f8c033",
   "metadata": {},
   "source": [
    "[8] Haz una función que calcule la integral de linea de una función 1D (usando la regla de Simpson y diferenciación automática o numérica) entre 2 valores de x. Esta debe tener como argumentos la función que se integrará, la función de la curva y los límites de integración. \n",
    "\n",
    "Ahora, supón que quieres hacer un techo de lámina de esos que tienen onditas que mida $3m \\times 2m$ y las onditas estén a lo largo del lado de $3m$. Las ondas siguien la función $f(x, y) = \\sin(x)$. ¿De qué dimensiones necesitas tu lámina inicial (antes de formar las onditas)? (por supuesto, necesitas integrar numéricamente, por simple que suena el problema, no se puede resolver analíticamente!!)."
   ]
  },
  {
   "cell_type": "markdown",
   "id": "608c94e5",
   "metadata": {},
   "source": [
    "Para este problema, resolvemos primero el problema 8, y con\n",
    "con dicha funcion, resolvemos esta. La integral de línea de una\n",
    "función 1D es un caso particular de la integral de línea general\n",
    "del problema 9.\n",
    "\n",
    "Para resolver el problema, lo que se hizo fue suponer que tenemos un techo de lámina con ondas de dimensiones $3m \\times 2m$ , hecho de un material que se pueda doblar pero no estirar. Buscamos entonces el área de de este techo, de tal forma que podamos obtener una lámina con la misma área y con proporciones $3k\\times 2k$, para así obtener el techo con proporciones similares. Es decir, al final buscaremos obtener la $k$ que permita lo anterior."
   ]
  },
  {
   "cell_type": "code",
   "execution_count": null,
   "id": "c47e2136",
   "metadata": {},
   "outputs": [],
   "source": [
    "#Creamos la funcion que calcula el área de la lamina\n",
    "function area_de_lamina(m, parametrizacion)\n",
    "    f_problema_8(x::Vector) = 2m\n",
    "    return sqrt(integral_de_linea(f_problema_8, parametrizacion,[0,3m])/6 ) \n",
    "end\n",
    "\n",
    "parametrizacion_p8(t) = [t,sin(t)] #Parametrizamos las ondas del techo de lámina\n",
    "k = area_de_lamina(1,parametrizacion_p8) #Obtenemos la $k$\n",
    "dimensiones_lamina = (3k,2k) #Obtenemos las dimensiones de la lámina"
   ]
  },
  {
   "cell_type": "markdown",
   "id": "5b6ee61a",
   "metadata": {},
   "source": [
    "**0 pts (21/5 de 10)**\n",
    "\n",
    "**Nota:** La integral que deben evaluar es\n",
    "```julia\n",
    "integral_de_linea(x -> 1, t -> [t, sin(t)], [0, 3])\n",
    "```"
   ]
  },
  {
   "cell_type": "markdown",
   "id": "5d4c1ba0",
   "metadata": {},
   "source": [
    "[9] Generaliza la función de arriba a varias dimensiones. Es decir, se quiere calcular la integral $\\int_C f(s) ds$, donde $f$ es una función que se evalua sobre una curva $C$, es decir $f:C \\rightarrow \\mathbb{R}$. Para esto requieres parametrizar $C$ con una función $\\vec{r}(t)$. Esto implica que los argumentos de tu función serán $f$, $r$ y el intervalo de $t$. "
   ]
  },
  {
   "cell_type": "code",
   "execution_count": null,
   "id": "677bd6d2",
   "metadata": {},
   "outputs": [],
   "source": [
    "#Importamos el método de Simpson mostrado en los videos\n",
    "function s∫(f, a,b;n = 100)\n",
    "    Δx = (b-a)/n\n",
    "    sum((f(x)+f(x+Δx)+4*f(x+Δx/2)).*Δx/6 for x ∈ a:Δx:(b-Δx))\n",
    "end"
   ]
  },
  {
   "cell_type": "code",
   "execution_count": null,
   "id": "21fdcb5c",
   "metadata": {},
   "outputs": [],
   "source": [
    "#Creamos nuestra función que calcula la integral de línea para campos escalares en $R^{n}$\n",
    "function integral_de_linea(f,parametrizacion,intervalo)\n",
    "    g(t) = f(parametrizacion(t) )*norm(ForwardDiff.derivative(parametrizacion,t) )\n",
    "    return s∫(g, intervalo[1],intervalo[length(intervalo)] )\n",
    "end\n",
    "#= Notas\n",
    "-f es una función del tipo f(x::Vector)\n",
    "-parametrización es una funcion f(t::Number) que devuelve un vector con componentes \n",
    " en función de t\n",
    "=#"
   ]
  },
  {
   "cell_type": "code",
   "execution_count": null,
   "id": "ba940a58",
   "metadata": {},
   "outputs": [],
   "source": [
    "parametrizacion_prueba(t) = [2*cos(t),3*sin(t)]"
   ]
  },
  {
   "cell_type": "code",
   "execution_count": null,
   "id": "efaea59d",
   "metadata": {},
   "outputs": [],
   "source": [
    "f_prueba(x::Vector) = 1+x[2]*x[1]^2"
   ]
  },
  {
   "cell_type": "code",
   "execution_count": null,
   "id": "882361b8",
   "metadata": {},
   "outputs": [],
   "source": [
    "integral_de_linea(f_prueba,parametrizacion_prueba,[0,2π])"
   ]
  },
  {
   "cell_type": "markdown",
   "id": "3a994f40",
   "metadata": {},
   "source": [
    "Utiliza esta función para calcular el trabajo (energía mínima) de mover una nave (de masa 1) de la tierra a la luna. Considera la influencia de la tierra, sol y luna y luego sólo considera la influencia de tierra y luna. "
   ]
  },
  {
   "cell_type": "code",
   "execution_count": null,
   "id": "397bc224",
   "metadata": {},
   "outputs": [],
   "source": [
    "G = 6.6743e-11 #Definimos la constante de gravitacion universal\n",
    "F_gravitacional(r::Vector, M::Number) = -G*M/dot(r,r) #Creamos una funcion que calcule la fuerza originada por \n",
    "                                                        #la ley de gravitacion universal\n",
    "#Caso 1: Sistema tierra luna\n",
    "M_tierra = 5.9722e24 \n",
    "M_luna = M_tierra*1.2e-2\n",
    "distancia_tierra_luna = 384400e3\n",
    "\n",
    "#Definimos las fuerzas que actúan sobre la nave\n",
    "F_nave_tierra(r::Vector) = F_gravitacional(r,M_tierra)\n",
    "F_nave_luna(r::Vector) = F_gravitacional(r, M_luna)\n",
    "F_caso_1(r::Vector) = F_nave_tierra(r) + F_nave_luna(r)\n",
    "\n",
    "#Definimos una parametrizacion para el problema (una trivial en este caso)\n",
    "parametrizacion_identidad(t) = [t]\n",
    "\n",
    "#Calculamos el trabajo necesario\n",
    "integral_de_linea(F_caso_1,parametrizacion_identidad,[distancia_tierra_luna,1e24])"
   ]
  },
  {
   "cell_type": "code",
   "execution_count": null,
   "id": "dcd90a0f",
   "metadata": {},
   "outputs": [],
   "source": [
    "#Caso_2: Sistema tierra luna sol\n",
    "M_sol = 332946*M_tierra\n",
    "F_nave_sol(r) = F_gravitacional(r,M_sol)\n",
    "F_caso_2(r) = F_caso_1(r) + F_nave_sol(r) #Las fuerzas que interactuan con la\n",
    "                                            #nave en este caso son las del caso anterior y la fuerza entre la nave y el sol\n",
    "\n",
    "#Calculamos el trabajo\n",
    "integral_de_linea(F_caso_2,parametrizacion_identidad,[distancia_tierra_luna,1e20])"
   ]
  },
  {
   "cell_type": "markdown",
   "id": "6b7346db",
   "metadata": {},
   "source": [
    "**3/5 pts (24/5 de 10)**\n",
    "\n",
    "**Notas:**\n",
    "- Pueden cambiar \n",
    "```julia\n",
    "intervalo[length(intervalo)]\n",
    "```\n",
    "por \n",
    "```julia\n",
    "intervalo[end]\n",
    "```\n",
    "- En un ejercicio como este donde utilizan constantes físicas, es buena práctica que mencionen las unidades de cada constante. \n",
    "- Su función `integral_de_linea` es correcta, pero deberían integrar desde el radio de la tierra hasta la distancia Tierra-Luna. No me queda claro de donde sacan `[distancia_tierra_luna,1e24]` y `[distancia_tierra_luna,1e20]`.\n",
    "- En su código tratan igualmente a las tres distancias (al Sol, a la Tierra y a la Luna), pero la distancia al Sol es mucho mayor (y por ende la fuerza mucho menor) que su análogo respecto a la Luna."
   ]
  },
  {
   "cell_type": "markdown",
   "id": "eba345cc",
   "metadata": {},
   "source": [
    "**[10] Problema por el día de $\\pi$:** $\\pi$ aparece en probabilidad en uno de los teoremas más importantes, el del límite central. Este teorema básicamente nos dice que la distribución de probabilidad de la suma de variables aleatorias idéntica, está dada por una gaussiana. Por otro lado, al tratarse de una distribución de probabilidad, su integral desde $-\\infty$ a $\\infty$ es igual a 1. Por lo tanto:\n",
    "\n",
    "$$ \\pi = \\frac{1}{2} \\left( \\int_{-\\infty}^{\\infty} e^{-\\frac{x^2}{2}} dx \\right)^2$$\n",
    "\n",
    "Calcula $\\pi$ evaluando numéricamente la integral (usando la regla trapesoidal) y aplicando esta fórmula. Esta vez la integral va de $-\\infty$ a $\\infty$, así que deberás idear algún \"truco\" para hacer la evaluación. Aplica las siguientes 3 técnicas: \n",
    "\n",
    "(i) Reconoce que se quiere integrar una función par y por lo tanto, basta con integrar de $0$ a $a$ con un valor grande de $a$ y multiplicando esa integral por 2 (para incrementar la presición se reduce $\\Delta x$ pero también se debe aumentar el valor de $a$. \n",
    "\n",
    "(ii) Haz un cambio de variable sobre la integral, para que se evalue en un intervalo finito y evalua la integral en ese intervalo (asegúrate de no evaluar aquí un punto que diverja). \n",
    "\n",
    "(iii) Obtén la inversa de la función a integrar y reconoce que en ese caso basta con integrar de $0$ a $1$ (cuida también que no diverja tu función inversa). \n",
    "\n",
    "Compara los 3 métodos... ¿cuál es más efectivo? "
   ]
  },
  {
   "cell_type": "code",
   "execution_count": null,
   "id": "78429859",
   "metadata": {},
   "outputs": [],
   "source": [
    "#Cargamos la función para integración con regla del trapecio\n",
    "function t∫(f, a,b;n = 10000)\n",
    "    Δx = (b-a)/n\n",
    "    sum([(f(x)+f(x+Δx)) for x ∈ a:Δx:(b-Δx)].*Δx/2)\n",
    "end"
   ]
  },
  {
   "cell_type": "markdown",
   "id": "bfdec68c",
   "metadata": {},
   "source": [
    "**i) Método 1**\n",
    "\n",
    "Al ser $e^{-\\frac{x^2}{2}}$ una función par, entonces podemos escribir\n",
    "$$\\frac{1}{2} \\left( \\int_{-\\infty}^{\\infty} e^{-\\frac{x^2}{2}} dx \\right)^2 =  \\frac{1}{2} \\left( 2\\int_{0}^{\\infty} e^{-\\frac{x^2}{2}} dx \\right)^2 = 2\\left(\\int_{0}^{\\infty} e^{-\\frac{x^2}{2}} dx \\right)^2$$\n",
    "Entonces basta calcular la última expresión, en este caso usando la regla de trapecio:"
   ]
  },
  {
   "cell_type": "code",
   "execution_count": null,
   "id": "27f2b25d",
   "metadata": {},
   "outputs": [],
   "source": [
    "#Calculamos el valor numérico de π así como el tiempo que tarda en calcularlo\n",
    "@time π_metodo_1 = 2*(t∫(x-> exp(-(x^2)/2), 0,1e2, n = 10000) )^2 #-π#-integrate(1/cos(x),1,1.5).evalf()"
   ]
  },
  {
   "cell_type": "markdown",
   "id": "9c1c1c9a",
   "metadata": {},
   "source": [
    "**ii) Método 2**\n",
    "\n",
    "Una forma de calcular esta integral mediante un cambio de variable\n",
    "en un intervalo finito es mediante la función Beta $$B (x,y)= \\frac{\\Gamma(x)\\Gamma(y)}{\\Gamma(x+y)} = \\int_{0}^{1}t^{x-1}(1-t)^{y-1}dt$$.\n",
    "Entonces para $x=y=1/2$ tenemos $$\\Gamma (1/2) ^{2} = \\int_{0}^{1}\\frac{dt}{\\sqrt{t(1-t)}}$$.\n",
    "Pero $\\Gamma(1/2) = 2\\int_{0}^{\\infty} e^{-x^2/2}dx$, de modo que $$\\left( 2\\int_{0}^{\\infty} e^{-x^2/2}dx\\right)^2 = \\int_{0}^{1}\\frac{dt}{\\sqrt{t(1-t)}}dt $$\n",
    "y con esto calculamos la integral (la cual diverge para 0 y 1, pero podemos aproximarla):"
   ]
  },
  {
   "cell_type": "code",
   "execution_count": null,
   "id": "25376706",
   "metadata": {},
   "outputs": [],
   "source": [
    "#Calculamos el valor numérico de π así como el tiempo que tarda en calcularlo\n",
    "@time π_metodo_2 = t∫(x-> 1/sqrt(x*(1-x) ),0.001,0.999, n = 100 )"
   ]
  },
  {
   "cell_type": "markdown",
   "id": "9ce0b794",
   "metadata": {},
   "source": [
    "**iii) Método 3**\n",
    "La inversa está dado por $f^{-1}(x) = \\frac{1}{\\sqrt{2}}\\sqrt{\\ln{(1/x)}}$. Entonces si observamos la gráfica de esta función, vemos que el área bajo la curva de esta función, es el área bajo la curva de $e^{-\\frac{x^2}{2}}$ de $0$  a $-\\infty$, de modo que basta obtener el cuadrado de la integral de la función inversa de 0 a 1 y multiplicarlo por 2."
   ]
  },
  {
   "cell_type": "code",
   "execution_count": null,
   "id": "71e0c1d4",
   "metadata": {},
   "outputs": [],
   "source": [
    "#Cargamos la gráfica de f^-1\n",
    "problema_10_metodo_3_grafica = load(\"pi_metodo_3_grafica.jpg\")"
   ]
  },
  {
   "cell_type": "code",
   "execution_count": null,
   "id": "85e2dcef",
   "metadata": {},
   "outputs": [],
   "source": [
    "#Calculamos el valor numérico de π así como el tiempo que tarda en calcularlo\n",
    "@time π_metodo_3 = 2*(2*t∫(x->(1/sqrt(2 ) )*sqrt(log(1/x) ),0.001,0.999, n = 100 ) )^2"
   ]
  },
  {
   "cell_type": "code",
   "execution_count": null,
   "id": "b77f2950",
   "metadata": {},
   "outputs": [],
   "source": [
    "27/5"
   ]
  },
  {
   "cell_type": "markdown",
   "id": "e8af61af",
   "metadata": {},
   "source": [
    "**3/5 pts (5.4 de 10)**\n",
    "\n",
    "**Nota:** Muy bien! Les sugiero jugar con otros cambios de variables para ver cuál es más estable cerca de los extremos. "
   ]
  },
  {
   "cell_type": "markdown",
   "id": "a6ebc27c",
   "metadata": {},
   "source": [
    "## Problemas avanzados: "
   ]
  },
  {
   "cell_type": "markdown",
   "id": "1de3f674",
   "metadata": {},
   "source": [
    "Para sacar 7 (este es MUY fácil): Números duales: Pensemos en la multiplicación $(a+\\epsilon b)(c+ \\epsilon d) = ac+\\epsilon (bc+ad) + \\epsilon^2 bd$. Si $\\epsilon$ es pequeño, podemos despreciar su cuadrado y quedarnos con $(a+\\epsilon b)(c+ \\epsilon d) \\approx ac+\\epsilon (bc+ad)$. Con esta regla podemos definir los números duales. Igual que en los complejos tenemos el número $i$ que nos sirve para definir la parte imaginaria, en los duales tenemos el número $\\epsilon$ que nos sirve para definir la diferencial. \n",
    "\n",
    "Muestra analíticamente que esta regla multiplicativa se puede obtener si representamos los números duales como las matrices: \n",
    "$$D(a,b) = \\begin{pmatrix}\n",
    "a & b \\\\\n",
    "0 & a\n",
    "\\end{pmatrix}$$\n",
    "usando la multiplicación habitual de matrices.\n",
    "\n",
    "Usa esto para hacer una nueva función de derivada automática. Prueba que ambas funciones obtengan los mismos resultados sobre diferentes funciones y mide sus tiempos de cómputo usando BenchmarkTools. ¿Qué versión es más rápida? Esta versión tiene la ventaja que la mayoría de los métodos ya están definidos!"
   ]
  },
  {
   "cell_type": "markdown",
   "id": "2069a14f",
   "metadata": {},
   "source": [
    "*Tenemos las siguientes matrices:*\n",
    "\n",
    "$$D(a,b)=\\begin{pmatrix}\n",
    "a & b \\\\\n",
    "0 & a\n",
    "\\end{pmatrix}\n",
    "~ y ~\n",
    "D(c,d)=\\begin{pmatrix}\n",
    "c & d \\\\\n",
    "0 & c\n",
    "\\end{pmatrix}$$\n",
    "\n",
    "*Multiplicando ambas, tendremos:*\n",
    "\n",
    "$$D(a,b)D(c,d)=\\begin{pmatrix}\n",
    "a & b \\\\\n",
    "0 & a\n",
    "\\end{pmatrix}\n",
    "\\begin{pmatrix}\n",
    "c & d \\\\\n",
    "0 & c\n",
    "\\end{pmatrix}$$\n",
    "\n",
    "$$=\\begin{pmatrix}\n",
    "ac & ad+bc \\\\\n",
    "0 & ac\n",
    "\\end{pmatrix}$$\n",
    "\n",
    "*No es difícil ver que tenemos una matriz con la misma forma que D(a,b) y D(c,d), por lo tanto:*\n",
    "\n",
    "$$D(ac,ad+bc)=\\begin{pmatrix}\n",
    "ac & ad+bc \\\\\n",
    "0 & ac\n",
    "\\end{pmatrix}$$"
   ]
  },
  {
   "cell_type": "code",
   "execution_count": null,
   "id": "b3101f54",
   "metadata": {},
   "outputs": [],
   "source": []
  },
  {
   "cell_type": "markdown",
   "id": "135dfc2b",
   "metadata": {},
   "source": [
    "Para sacar 8: Haz una función que no se pueda derivar simbólicamente (ni con derivación automática), pero sí exista su derivada numérica. Grafica la función y sus primeras 3 derivadas numéricas. \n",
    "\n",
    "*Hint:* Piensa en una función que no se construya con funciones básicas, sino con algún algoritmo. "
   ]
  },
  {
   "cell_type": "code",
   "execution_count": null,
   "id": "36e49d59",
   "metadata": {},
   "outputs": [],
   "source": []
  },
  {
   "cell_type": "markdown",
   "id": "a7ef0413",
   "metadata": {},
   "source": [
    "Para sacar 9: Un polinomio usualmente se escribe en la forma $a_0 + a_1 x + a_2 x^2 + \\dots + a_n x^n$, con $n+1$ coeficientes para un polinomio de grado $n$. Haz una función que dada una función $f$ y un vector $\\vec{x}$ con $n+1$ elementos, calcule los coeficientes $a_i$ del polinomio de Lagrange que pasa por $(x_0, f(x_0)), (x_1, f(x_1)), \\dots, (x_n, f(x_n))$. Utiliza esta función para hacer otra que calcula la integral de una función dada (primero calcula los coeficientes del polinomio de Lagrange con n puntos y apartir de eso calcula la integral (o derivada)). "
   ]
  },
  {
   "cell_type": "code",
   "execution_count": null,
   "id": "262d1be7",
   "metadata": {},
   "outputs": [],
   "source": []
  },
  {
   "cell_type": "markdown",
   "id": "d833b505",
   "metadata": {},
   "source": [
    "Para sacar 10 (integrales múltiples): Haz una función que dado un polígono 2D (un objeto Polígono) y una función de superficie $f(x,y)$, obtenga la integral de área de $f(x,y)$ en el polígono. "
   ]
  },
  {
   "cell_type": "code",
   "execution_count": null,
   "id": "36be8fec",
   "metadata": {},
   "outputs": [],
   "source": [
    "struct Segmento\n",
    "    inicio::Vector{Float64} \n",
    "    final::Vector{Float64}\n",
    "    longitud::Float64\n",
    "end\n",
    "\n",
    "struct LineaPoligonal\n",
    "    vertices::Vector{Vector{Float64}}\n",
    "    segmentos::Vector{Segmento}\n",
    "    perimetro::Float64\n",
    "end\n",
    "\n",
    "struct Poligono\n",
    "    vertices::Vector{Vector{Float64}}\n",
    "    segmentos::Vector{Segmento}\n",
    "    perimetro::Float64\n",
    "    area::Float64\n",
    "end"
   ]
  },
  {
   "cell_type": "code",
   "execution_count": null,
   "id": "18627d78",
   "metadata": {},
   "outputs": [],
   "source": [
    "function integral_de_area(poligono::Poligono, f::Function)\n",
    "    suma = 0.0 #Iniciamos la suma\n",
    "    for segmento in poligono.segmentos\n",
    "        x1, y1 = segmento.inicio\n",
    "        x2, y2 = segmento.final #Definimos el segmento \n",
    "        base = norm([x2-x1, y2-y1]) #Calculamos la base y altura del trapecio\n",
    "        altura = maximum([abs(f(x1,y1)), abs(f(x2,y2))]) \n",
    "        puntos = [[x1, y1], [x2, y2], [(x1+x2)/2, (y1+y2)/2]] #Definimos el punto inicial, final y el punto medio\n",
    "        factores = [1/3, 1/3, 4/3] #Usamos la regla de Simpson vista en los notebooks tomando h=b-a/2 \n",
    "        #https://www.freecodecamp.org/espanol/news/la-regla-de-simpson-la-formula-y-como-funciona/\n",
    "        suma_parcial = 0.0\n",
    "        for i in 1:length(puntos)\n",
    "            p = puntos[i]\n",
    "            fs = factores[i]\n",
    "            suma_parcial += fs * f(p[1], p[2])\n",
    "        end\n",
    "        suma += base * suma_parcial\n",
    "    end\n",
    "    return suma / 2\n",
    "end\n"
   ]
  },
  {
   "cell_type": "code",
   "execution_count": null,
   "id": "c3a73a0f",
   "metadata": {},
   "outputs": [],
   "source": [
    "vertices = [[0.0, 0.0], [1.0, 0.0], [0.5, 1.0]] #Definimos un polígono triángulo \n",
    "segmentos = [Segmento(vertices[1], vertices[2], 1.0),\n",
    "             Segmento(vertices[2], vertices[3], sqrt(2)/2),\n",
    "             Segmento(vertices[3], vertices[1], sqrt(2)/2)]\n",
    "perimetro = sum(segmento.longitud for segmento in segmentos)\n",
    "poligono = Poligono(vertices, segmentos, perimetro, 0.0)\n",
    "\n",
    "f(x, y) = x^2 + y^2\n",
    "\n",
    "integral = integral_de_area(poligono, f)"
   ]
  },
  {
   "cell_type": "code",
   "execution_count": null,
   "id": "4c567014",
   "metadata": {},
   "outputs": [],
   "source": [
    "g(x,y) = sin(x) + cos(y)"
   ]
  },
  {
   "cell_type": "code",
   "execution_count": null,
   "id": "9b7b369c",
   "metadata": {},
   "outputs": [],
   "source": [
    "integral_de_area(poligono, g)"
   ]
  },
  {
   "cell_type": "code",
   "execution_count": null,
   "id": "a0769584",
   "metadata": {},
   "outputs": [],
   "source": [
    "gr()"
   ]
  },
  {
   "cell_type": "code",
   "execution_count": null,
   "id": "d2c45ce6",
   "metadata": {},
   "outputs": [],
   "source": [
    "x_range, y_range = range(-5, 5, length=100), range(-5, 5, length=100)\n",
    "f_values = [f(x, y) for x in x_range, y in y_range]\n",
    "surface(x_range, y_range, f_values, xlabel=\"x\", ylabel=\"y\", zlabel=\"f(x, y)\", title=\"Superficie de f(x, y) = x^2 + y^2\")\n",
    "x_triangle, y_triangle = [vertex[1] for vertex in vertices], [vertex[2] for vertex in vertices]\n",
    "scatter!(x_triangle, y_triangle, zeros(length(vertices)), color=:red, marker=:diamond)"
   ]
  },
  {
   "cell_type": "markdown",
   "id": "f9c5315e",
   "metadata": {},
   "source": [
    "**2 pts (7.4 de 10)**\n",
    "\n",
    "**Nota:** Me temo que la generalización de la regla de Simpson a dos dimensiones no es tan directa. Ustedes están haciendo una integral sobre los lados del polígono, pero realmente nunca toman en cuenta el área. Consideren el siguiente ejemplo que debería dar 1:"
   ]
  },
  {
   "cell_type": "code",
   "execution_count": null,
   "id": "58f5917a",
   "metadata": {},
   "outputs": [],
   "source": [
    "vertices = [[0.0, 0.0], [1.0, 0.0], [1.0, 1.0], [0.0, 1.0]] #Definimos un polígono triángulo \n",
    "segmentos = [\n",
    "    Segmento(vertices[1], vertices[2], 1.0),\n",
    "    Segmento(vertices[2], vertices[3], 1.0),\n",
    "    Segmento(vertices[3], vertices[4], 1.0),\n",
    "    Segmento(vertices[4], vertices[1], 1.0)\n",
    "]\n",
    "perimetro = sum(segmento.longitud for segmento in segmentos)\n",
    "poligono = Poligono(vertices, segmentos, perimetro, 1.0)"
   ]
  },
  {
   "cell_type": "code",
   "execution_count": null,
   "id": "ca8c5301",
   "metadata": {},
   "outputs": [],
   "source": [
    "f(x, y) = 1\n",
    "\n",
    "integral = integral_de_area(poligono, f)"
   ]
  },
  {
   "cell_type": "markdown",
   "id": "c66e4a01",
   "metadata": {},
   "source": [
    "**Este ejercicio es particularmente largo, pero bonito. Por lo tanto, el problema lo considero de 12 pts y no de 11, como típicamente.**\n",
    "\n",
    "Para sacar 12: Generaliza la idea de la interpolación de Lagrange para un arreglo de puntos en 2D. Usa esto para hacer una función interpolacion_imagen$($imagen, $w,h)$ que dada una imagen y las medidas de la imagen $w$ y$h$ (dos valores reales que uno da para fijar qué unidades representa cada pixel), nos arroje una función que dada una posición cualquiera $(x,y)$ nos de la intensidad en una escala de grises. Es decir, la función debe primero convertir la imagen a una escala de grises (usa la función Gray de la paquetería Colors para esto); después debe de transformar cada pixel (es decir, los índices $i,j$ de la matriz de colores RGB) en una posición $(x_j,y_i)$ y su intensidad (en grises) $f(x_i,y_i)$, donde $x_i \\in [0,w]$ y $y_i\\in [0,h]$ y $f(x_i,y_i) = gray.(Imagen_{grises})[i,j]$; finalmente, con todas las triadas $(x_i,y_i,f(x_i,y_i))$ debe obtener el polinomio de interpolación $f(x,y)$, con el cual se puede calcular la intensidad en $(x,y)$. \n",
    "\n",
    "Esta función sólo la podrás aplicar a imágenes extremadamente pequeñas (por ejemplo de $10\\times10$ pixeles), porque si lo aplicas a imágenes grandes (de megapixeles), **la interpolación puede tardar una cantidad extremadamente grande de tiempo (la edad del universo en casos extremos, ¡así que no exageres!)**, pero lo que puedes hacer es dividir la imagen en cuadritos y aplicar la interpolación a cada cuadrito/rectángulo. Usa esto para crear otra función incrementar_calidad$($imagen$, n)$ que tenga como argumento la imagen y un entero $n$ de tal forma que se cree una imagen con $n^2 \\cdot w \\cdot h$ pixeles. Esta imagen se construye haciendo primero la interpolación y después creando los nuevos pixeles usando $f(x,y)$ para valores de $x$, $y$ de la forma $\\frac{m_x}{n} \\in [0,w]$ y $\\frac{m_y}{n} \\in [0,h]$, donde $m_x$ y $m_y$ son enteros positivos. \n",
    "\n",
    "Prueba tu función con $n = 1$ (recuperando la imagen original en escala de grises), $n = 2$ y $n = 3$. \n",
    "\n",
    "**Nota:** No es necesario que se use la escala de grises, puedes usar de hecho los colores rojo, azul y verde como las instensidades y obtener para cada imagen 3 interpolaciones con lo cual reconstruyas la imagen a todo color. \n",
    "\n",
    "**Nota2:** Tu función incrementar_calidad también depende de la forma en la que subdivides la imagen original en \"rectangulitos\". Prueba cómo cambia para $n = 2$ la imagen al incrementar el tamaño de esos rectangulitos, por ejemplo, comenzando con rectángulos de $2\\times 2$ y terminando con rectángulos de $20\\times 20$. \n",
    "\n",
    "**Nota3:** Hay otras muchas alternativas para \"incrementar\" la calidad de una imagen, por ejemplo, interpolación de Chevichev, ajuste vía una regresión lineal usando una suma de gaussianas, usar el teorema del collage (geometría fractal). Algunas de estas técnicas se usan no para mejorar la imagen, sino para comprimirla (por ejemplo, el formato raw)."
   ]
  },
  {
   "cell_type": "code",
   "execution_count": null,
   "id": "84c43883",
   "metadata": {},
   "outputs": [],
   "source": []
  }
 ],
 "metadata": {
  "kernelspec": {
   "display_name": "Julia 1.9.0",
   "language": "julia",
   "name": "julia-1.9"
  },
  "language_info": {
   "file_extension": ".jl",
   "mimetype": "application/julia",
   "name": "julia",
   "version": "1.9.0"
  }
 },
 "nbformat": 4,
 "nbformat_minor": 5
}
